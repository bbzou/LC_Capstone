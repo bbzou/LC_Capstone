{
 "cells": [
  {
   "cell_type": "code",
   "execution_count": 1,
   "metadata": {},
   "outputs": [],
   "source": [
    "import numpy as np\n",
    "import pandas as pd\n",
    "pd.set_option('display.max_columns', None)\n",
    "import matplotlib.pyplot as plt\n",
    "%matplotlib inline\n",
    "import seaborn as sns\n",
    "from scipy.stats import pearsonr"
   ]
  },
  {
   "cell_type": "code",
   "execution_count": 2,
   "metadata": {
    "scrolled": false
   },
   "outputs": [
    {
     "name": "stderr",
     "output_type": "stream",
     "text": [
      "/home/auscheng/anaconda3/lib/python3.7/site-packages/IPython/core/interactiveshell.py:3057: DtypeWarning: Columns (44,53) have mixed types. Specify dtype option on import or set low_memory=False.\n",
      "  interactivity=interactivity, compiler=compiler, result=result)\n",
      "/home/auscheng/anaconda3/lib/python3.7/site-packages/numpy/lib/arraysetops.py:569: FutureWarning: elementwise comparison failed; returning scalar instead, but in the future will perform elementwise comparison\n",
      "  mask |= (ar1 == a)\n"
     ]
    }
   ],
   "source": [
    "df=pd.read_csv('lean_df.csv',index_col='id')\n",
    "treat_df=df.copy()"
   ]
  },
  {
   "cell_type": "code",
   "execution_count": 3,
   "metadata": {
    "scrolled": true
   },
   "outputs": [],
   "source": [
    "# treat_df.sample(10)"
   ]
  },
  {
   "cell_type": "markdown",
   "metadata": {},
   "source": [
    "#### Consolidate FICO Scores"
   ]
  },
  {
   "cell_type": "code",
   "execution_count": 4,
   "metadata": {
    "scrolled": true
   },
   "outputs": [],
   "source": [
    "treat_df['fico']=(treat_df.fico_range_low+treat_df.fico_range_high)/2\n",
    "treat_df=treat_df.drop(['fico_range_low','fico_range_high','last_fico_range_high','last_fico_range_low'],axis=1)"
   ]
  },
  {
   "cell_type": "markdown",
   "metadata": {},
   "source": [
    "#### Remove categories with big imbalance in representation (proportion of subcategories <5% in binary categories)"
   ]
  },
  {
   "cell_type": "code",
   "execution_count": 5,
   "metadata": {},
   "outputs": [],
   "source": [
    "# 2259836*0.05"
   ]
  },
  {
   "cell_type": "code",
   "execution_count": 6,
   "metadata": {
    "scrolled": true
   },
   "outputs": [
    {
     "data": {
      "text/plain": [
       "N    2226422\n",
       "Y      34246\n",
       "Name: debt_settlement_flag, dtype: int64"
      ]
     },
     "execution_count": 6,
     "metadata": {},
     "output_type": "execute_result"
    }
   ],
   "source": [
    "treat_df['debt_settlement_flag'].value_counts()"
   ]
  },
  {
   "cell_type": "code",
   "execution_count": 7,
   "metadata": {
    "scrolled": false
   },
   "outputs": [
    {
     "data": {
      "text/plain": [
       "Cash         2182546\n",
       "DirectPay      78122\n",
       "Name: disbursement_method, dtype: int64"
      ]
     },
     "execution_count": 7,
     "metadata": {},
     "output_type": "execute_result"
    }
   ],
   "source": [
    "treat_df['disbursement_method'].value_counts()"
   ]
  },
  {
   "cell_type": "code",
   "execution_count": 8,
   "metadata": {
    "scrolled": true
   },
   "outputs": [
    {
     "data": {
      "text/plain": [
       "N    2259836\n",
       "Y        832\n",
       "Name: hardship_flag, dtype: int64"
      ]
     },
     "execution_count": 8,
     "metadata": {},
     "output_type": "execute_result"
    }
   ],
   "source": [
    "treat_df['hardship_flag'].value_counts()  "
   ]
  },
  {
   "cell_type": "code",
   "execution_count": 9,
   "metadata": {},
   "outputs": [
    {
     "data": {
      "text/plain": [
       "w    1535467\n",
       "f     725201\n",
       "Name: initial_list_status, dtype: int64"
      ]
     },
     "execution_count": 9,
     "metadata": {},
     "output_type": "execute_result"
    }
   ],
   "source": [
    "treat_df['initial_list_status'].value_counts()"
   ]
  },
  {
   "cell_type": "code",
   "execution_count": 10,
   "metadata": {
    "scrolled": true
   },
   "outputs": [
    {
     "data": {
      "text/plain": [
       "Fully Paid                                             1076751\n",
       "Current                                                 878317\n",
       "Charged Off                                             268559\n",
       "Late (31-120 days)                                       21467\n",
       "In Grace Period                                           8436\n",
       "Late (16-30 days)                                         4349\n",
       "Does not meet the credit policy. Status:Fully Paid        1988\n",
       "Does not meet the credit policy. Status:Charged Off        761\n",
       "Default                                                     40\n",
       "Name: loan_status, dtype: int64"
      ]
     },
     "execution_count": 10,
     "metadata": {},
     "output_type": "execute_result"
    }
   ],
   "source": [
    "treat_df['loan_status'].value_counts()"
   ]
  },
  {
   "cell_type": "code",
   "execution_count": 11,
   "metadata": {},
   "outputs": [
    {
     "data": {
      "text/plain": [
       "Source Verified    886231\n",
       "Not Verified       744806\n",
       "Verified           629631\n",
       "Name: verification_status, dtype: int64"
      ]
     },
     "execution_count": 11,
     "metadata": {},
     "output_type": "execute_result"
    }
   ],
   "source": [
    "treat_df['verification_status'].value_counts()"
   ]
  },
  {
   "cell_type": "code",
   "execution_count": 12,
   "metadata": {},
   "outputs": [
    {
     "data": {
      "text/plain": [
       "MORTGAGE    1111450\n",
       "RENT         894929\n",
       "OWN          253057\n",
       "ANY             996\n",
       "OTHER           182\n",
       "NONE             54\n",
       "Name: home_ownership, dtype: int64"
      ]
     },
     "execution_count": 12,
     "metadata": {},
     "output_type": "execute_result"
    }
   ],
   "source": [
    "treat_df['home_ownership'].value_counts()"
   ]
  },
  {
   "cell_type": "markdown",
   "metadata": {},
   "source": [
    "#### Removing the ones with large misrepresentation:"
   ]
  },
  {
   "cell_type": "code",
   "execution_count": 13,
   "metadata": {},
   "outputs": [],
   "source": [
    "treat_df=treat_df.drop(['debt_settlement_flag','disbursement_method','hardship_flag'],axis=1)"
   ]
  },
  {
   "cell_type": "markdown",
   "metadata": {},
   "source": [
    "#### Quick Initial Definition of Variable Type (Continuous, Nominal, Ordinal)"
   ]
  },
  {
   "cell_type": "code",
   "execution_count": 14,
   "metadata": {},
   "outputs": [],
   "source": [
    "df_number = treat_df.select_dtypes(include = 'number')\n",
    "df_object = treat_df.select_dtypes(include = 'object')\n",
    "df_category = treat_df.select_dtypes(include = 'category')\n",
    "df_boolean = treat_df.select_dtypes(include = 'bool')\n",
    "df_datetime = treat_df.select_dtypes(include = 'datetime')\n",
    "df_timedelta = treat_df.select_dtypes(include = 'timedelta')\n",
    "#######################################################\n",
    "nominal_var=list(df_object.columns)\n",
    "ordinal_var=list(df_number.columns)\n",
    "continuous_var=list(df_number.columns)\n",
    "time_var=list(df_datetime.columns)"
   ]
  },
  {
   "cell_type": "code",
   "execution_count": 15,
   "metadata": {},
   "outputs": [],
   "source": [
    "# df_number.head()"
   ]
  },
  {
   "cell_type": "markdown",
   "metadata": {},
   "source": [
    "#### Visual Check of MultiCollinearity: Plotting Pearson"
   ]
  },
  {
   "cell_type": "code",
   "execution_count": 16,
   "metadata": {
    "scrolled": true
   },
   "outputs": [
    {
     "data": {
      "image/png": "[encoded data removed]",
      "text/plain": [
       "<Figure size 2160x2160 with 2 Axes>"
      ]
     },
     "metadata": {
      "needs_background": "light"
     },
     "output_type": "display_data"
    }
   ],
   "source": [
    "corr = df_number.corr(method=\"pearson\")\n",
    "big_corr=corr[abs(corr)>0.7]\n",
    "big_corr.dropna(axis=0,how='all')\n",
    "np.fill_diagonal(big_corr.values, np.nan)\n",
    "big_corr=big_corr.dropna(axis=0,how='all')\n",
    "big_corr=big_corr.dropna(axis=1,how='all')\n",
    "big_corr\n",
    "plt.subplots(figsize=(30, 30))\n",
    "cmap = sns.diverging_palette(150, 250, as_cmap=True)\n",
    "sns.heatmap(big_corr, cmap=\"Blues\", annot = True);"
   ]
  },
  {
   "cell_type": "markdown",
   "metadata": {},
   "source": [
    "#### Initial Removing anything feature that are extremely highly correlated with other features\n",
    "#### First thing to take care off is that a borrower should be represented by ONE credit limit. Everything else should be expressed as fractions of the credit limit. \n",
    "#### High credit limit is better than low credit limit. high percentage of credit used is bad (low credit utilization)\n",
    "#### Inquiries (bad), credit mix, payment history, credit utilization are the main factors for credit score\n",
    "#### If dropping balance information (such as total_bal_il, or tot_cur_bal) is possible, then drop them first. This information will be reflected by the utilization rate such as (il_util, all_util)\n",
    "#### For date related information, keep generic information such as (num_tl_op_past_12m) and drop type specific information such as (open_rv_12m). This information should be reflected by the ratio of different types of accounts (new feature from number of types of accounts)\n",
    "#### drop features that say balance > 0  such as (num_rev_tl_bal_gt_0). This is because it is the same as active accounts such as (num_actv_bc_tl)"
   ]
  },
  {
   "cell_type": "code",
   "execution_count": 17,
   "metadata": {},
   "outputs": [],
   "source": [
    "# total_bal_il AND total_il_high_credit_limit = 0.95            <---- drop total_bal_il \n",
    "# total_bal_ex_mort AND total_il_high_credit_limit = 0.88       <---- drop total_bal_ex_mort\n",
    "# total_rev_hi_lim AND total_bc_limit = 0.76 \n",
    "# bc_open_to_buy AND total_bc_limit = 0.84                      <---- drop bc_open_to_buy (covered by bc_limit)\n",
    "# total_bal_il AND total_bal_ex_mort = 0.9                      <---- drop total_bal_il, total_bal_ex_mort\n",
    "# total_il_high_credit_limit AND total_bal_ex_mort = 0.88       <---- drop total_bal_ex_mort\n",
    "# tot_cur_bal AND tot_hi_cred_lim = 0.98                        <---- drop tot_cur_bal\n",
    "# avg_cur_bal AND tot_hi_cred_lim = 0.79                        <---- drop avg_cur_bal\n",
    "# bc_util AND percent_bc_gt_75 = 0.85                           <---- drop percent_bc_gt_75 (covered by bc_util)\n",
    "# revol_util AND percent_bc_gt_75 = 0.74                        <---- drop percent_bc_gt_75\n",
    "# open_acc_6m AND num_tl_op_past_12m = 0.73                     \n",
    "# open_rv_12m AND num_tl_op_past_12m = 0.84                     <---- drop open_rv_12m\n",
    "# acc_open_past_24mnths AND num_tl_op_past_12m = 0.76           \n",
    "# acc_now_delinq AND num_tl_30dpd = 0.8\n",
    "# open_acc AND num_sats = 1   \n",
    "# total_acc AND num_sats = 0.72  \n",
    "# num_op_rev_tl AND num_sats = 0.84 \n",
    "# num_rev_tl_bal_gt_0 AND num_actv_bc_tl = 0.81                 <---- drop num_rev_tl_bal_gt_0                       \n",
    "# num_rev_tl_bal_gt_0 AND num_actv_rev_tl =0.98                 <--- drop num_rev_tl_bal_gt_0\n",
    "# num_rev_tl_bal_gt_0 AND num_op_rev_tl = 0.8                   <--- drop num_rev_tl_bal_gt_0 \n",
    "# num_rev_accts AND total_acc = 0.76 \n",
    "# num_rev_accts AND num_bc_tl = 0.84\n",
    "# num_rev_accts AND num_op_rev_tl = 0.79"
   ]
  },
  {
   "cell_type": "code",
   "execution_count": 18,
   "metadata": {},
   "outputs": [],
   "source": [
    "# Before Dropping total_bal_ex_mort and tot_cur_bal, create info on mortgage for credit mix. \n",
    "treat_df['Outstanding_mortgage_debt']= treat_df['tot_cur_bal']-df['total_bal_ex_mort']"
   ]
  },
  {
   "cell_type": "code",
   "execution_count": 19,
   "metadata": {},
   "outputs": [],
   "source": [
    "# treat_df.tot_cur_bal"
   ]
  },
  {
   "cell_type": "code",
   "execution_count": 20,
   "metadata": {},
   "outputs": [],
   "source": [
    "first_drop_df=treat_df.drop(['total_bal_il','total_bal_ex_mort','bc_open_to_buy','tot_cur_bal',\\\n",
    "               'avg_cur_bal','percent_bc_gt_75','open_rv_12m','num_rev_tl_bal_gt_0'],axis=1)"
   ]
  },
  {
   "cell_type": "markdown",
   "metadata": {},
   "source": [
    "#### Creating the fractions for different types of accounts"
   ]
  },
  {
   "cell_type": "code",
   "execution_count": 21,
   "metadata": {},
   "outputs": [
    {
     "data": {
      "text/html": [
       "<div>\n",
       "<style scoped>\n",
       "    .dataframe tbody tr th:only-of-type {\n",
       "        vertical-align: middle;\n",
       "    }\n",
       "\n",
       "    .dataframe tbody tr th {\n",
       "        vertical-align: top;\n",
       "    }\n",
       "\n",
       "    .dataframe thead th {\n",
       "        text-align: right;\n",
       "    }\n",
       "</style>\n",
       "<table border=\"1\" class=\"dataframe\">\n",
       "  <thead>\n",
       "    <tr style=\"text-align: right;\">\n",
       "      <th></th>\n",
       "      <th>num_rev_accts</th>\n",
       "      <th>num_op_rev_tl</th>\n",
       "      <th>num_actv_rev_tl</th>\n",
       "      <th>num_bc_tl</th>\n",
       "      <th>num_actv_bc_tl</th>\n",
       "      <th>num_il_tl</th>\n",
       "      <th>mort_acc</th>\n",
       "      <th>total_acc</th>\n",
       "      <th>open_acc</th>\n",
       "    </tr>\n",
       "    <tr>\n",
       "      <th>id</th>\n",
       "      <th></th>\n",
       "      <th></th>\n",
       "      <th></th>\n",
       "      <th></th>\n",
       "      <th></th>\n",
       "      <th></th>\n",
       "      <th></th>\n",
       "      <th></th>\n",
       "      <th></th>\n",
       "    </tr>\n",
       "  </thead>\n",
       "  <tbody>\n",
       "    <tr>\n",
       "      <th>68407277</th>\n",
       "      <td>9.0</td>\n",
       "      <td>4.0</td>\n",
       "      <td>4.0</td>\n",
       "      <td>5.0</td>\n",
       "      <td>2.0</td>\n",
       "      <td>3.0</td>\n",
       "      <td>1.0</td>\n",
       "      <td>13.0</td>\n",
       "      <td>7.0</td>\n",
       "    </tr>\n",
       "    <tr>\n",
       "      <th>68355089</th>\n",
       "      <td>27.0</td>\n",
       "      <td>20.0</td>\n",
       "      <td>5.0</td>\n",
       "      <td>17.0</td>\n",
       "      <td>5.0</td>\n",
       "      <td>6.0</td>\n",
       "      <td>4.0</td>\n",
       "      <td>38.0</td>\n",
       "      <td>22.0</td>\n",
       "    </tr>\n",
       "    <tr>\n",
       "      <th>68341763</th>\n",
       "      <td>7.0</td>\n",
       "      <td>4.0</td>\n",
       "      <td>3.0</td>\n",
       "      <td>4.0</td>\n",
       "      <td>2.0</td>\n",
       "      <td>6.0</td>\n",
       "      <td>5.0</td>\n",
       "      <td>18.0</td>\n",
       "      <td>6.0</td>\n",
       "    </tr>\n",
       "    <tr>\n",
       "      <th>66310712</th>\n",
       "      <td>13.0</td>\n",
       "      <td>10.0</td>\n",
       "      <td>5.0</td>\n",
       "      <td>10.0</td>\n",
       "      <td>4.0</td>\n",
       "      <td>2.0</td>\n",
       "      <td>1.0</td>\n",
       "      <td>17.0</td>\n",
       "      <td>13.0</td>\n",
       "    </tr>\n",
       "    <tr>\n",
       "      <th>68476807</th>\n",
       "      <td>19.0</td>\n",
       "      <td>7.0</td>\n",
       "      <td>6.0</td>\n",
       "      <td>9.0</td>\n",
       "      <td>4.0</td>\n",
       "      <td>10.0</td>\n",
       "      <td>6.0</td>\n",
       "      <td>35.0</td>\n",
       "      <td>12.0</td>\n",
       "    </tr>\n",
       "    <tr>\n",
       "      <th>68426831</th>\n",
       "      <td>4.0</td>\n",
       "      <td>4.0</td>\n",
       "      <td>3.0</td>\n",
       "      <td>2.0</td>\n",
       "      <td>2.0</td>\n",
       "      <td>2.0</td>\n",
       "      <td>0.0</td>\n",
       "      <td>6.0</td>\n",
       "      <td>5.0</td>\n",
       "    </tr>\n",
       "    <tr>\n",
       "      <th>68476668</th>\n",
       "      <td>16.0</td>\n",
       "      <td>9.0</td>\n",
       "      <td>6.0</td>\n",
       "      <td>5.0</td>\n",
       "      <td>4.0</td>\n",
       "      <td>7.0</td>\n",
       "      <td>4.0</td>\n",
       "      <td>27.0</td>\n",
       "      <td>12.0</td>\n",
       "    </tr>\n",
       "    <tr>\n",
       "      <th>67275481</th>\n",
       "      <td>3.0</td>\n",
       "      <td>3.0</td>\n",
       "      <td>2.0</td>\n",
       "      <td>3.0</td>\n",
       "      <td>2.0</td>\n",
       "      <td>9.0</td>\n",
       "      <td>3.0</td>\n",
       "      <td>15.0</td>\n",
       "      <td>8.0</td>\n",
       "    </tr>\n",
       "    <tr>\n",
       "      <th>68466926</th>\n",
       "      <td>19.0</td>\n",
       "      <td>13.0</td>\n",
       "      <td>9.0</td>\n",
       "      <td>10.0</td>\n",
       "      <td>6.0</td>\n",
       "      <td>3.0</td>\n",
       "      <td>1.0</td>\n",
       "      <td>23.0</td>\n",
       "      <td>14.0</td>\n",
       "    </tr>\n",
       "    <tr>\n",
       "      <th>68616873</th>\n",
       "      <td>11.0</td>\n",
       "      <td>5.0</td>\n",
       "      <td>3.0</td>\n",
       "      <td>6.0</td>\n",
       "      <td>3.0</td>\n",
       "      <td>5.0</td>\n",
       "      <td>1.0</td>\n",
       "      <td>18.0</td>\n",
       "      <td>8.0</td>\n",
       "    </tr>\n",
       "  </tbody>\n",
       "</table>\n",
       "</div>"
      ],
      "text/plain": [
       "          num_rev_accts  num_op_rev_tl  num_actv_rev_tl  num_bc_tl  \\\n",
       "id                                                                   \n",
       "68407277            9.0            4.0              4.0        5.0   \n",
       "68355089           27.0           20.0              5.0       17.0   \n",
       "68341763            7.0            4.0              3.0        4.0   \n",
       "66310712           13.0           10.0              5.0       10.0   \n",
       "68476807           19.0            7.0              6.0        9.0   \n",
       "68426831            4.0            4.0              3.0        2.0   \n",
       "68476668           16.0            9.0              6.0        5.0   \n",
       "67275481            3.0            3.0              2.0        3.0   \n",
       "68466926           19.0           13.0              9.0       10.0   \n",
       "68616873           11.0            5.0              3.0        6.0   \n",
       "\n",
       "          num_actv_bc_tl  num_il_tl  mort_acc  total_acc  open_acc  \n",
       "id                                                                  \n",
       "68407277             2.0        3.0       1.0       13.0       7.0  \n",
       "68355089             5.0        6.0       4.0       38.0      22.0  \n",
       "68341763             2.0        6.0       5.0       18.0       6.0  \n",
       "66310712             4.0        2.0       1.0       17.0      13.0  \n",
       "68476807             4.0       10.0       6.0       35.0      12.0  \n",
       "68426831             2.0        2.0       0.0        6.0       5.0  \n",
       "68476668             4.0        7.0       4.0       27.0      12.0  \n",
       "67275481             2.0        9.0       3.0       15.0       8.0  \n",
       "68466926             6.0        3.0       1.0       23.0      14.0  \n",
       "68616873             3.0        5.0       1.0       18.0       8.0  "
      ]
     },
     "execution_count": 21,
     "metadata": {},
     "output_type": "execute_result"
    }
   ],
   "source": [
    "first_drop_df.loc[:,['num_rev_accts','num_op_rev_tl','num_actv_rev_tl','num_bc_tl','num_actv_bc_tl','num_il_tl','mort_acc','total_acc','open_acc']].iloc[0:10,:]"
   ]
  },
  {
   "cell_type": "code",
   "execution_count": 22,
   "metadata": {},
   "outputs": [],
   "source": [
    "#### First we see that the accounts can be broken down into the following fractions (roughly):\n",
    "#### num_rev_accts / total_acc = revol_frac\n",
    "#### num_il_tl / total_acc = install_frac\n",
    "#### mort_acc / total_acc = mort_frac\n",
    "\n",
    "#### There are a few other unaccounted for types of accounts. We will use them as a metric for how active the borrower is: \n",
    "#### num_bc_tl / num_rev_accts = card_frac\n",
    "#### num_actv_bc_tl / num_bc_tl = active_card_frac\n",
    "#### num_actv_rev_tl / num_rev_accts =  active_revol_frac\n",
    "#### open_act_il / num_il_tl = active_install_frac\n",
    "#### num_op_rev_tl  /num_rev_accts =  open_revol_frac   "
   ]
  },
  {
   "cell_type": "code",
   "execution_count": 23,
   "metadata": {},
   "outputs": [],
   "source": [
    "first_drop_df['revol_frac']=first_drop_df['num_rev_accts']/first_drop_df['total_acc']\n",
    "first_drop_df['install_frac']=first_drop_df['num_il_tl']/first_drop_df['total_acc']\n",
    "first_drop_df['mort_frac']=first_drop_df['mort_acc']/first_drop_df['total_acc']\n",
    "\n",
    "first_drop_df['card_frac']=first_drop_df['num_bc_tl']/first_drop_df['num_rev_accts']\n",
    "first_drop_df['active_card_frac']=first_drop_df['num_actv_bc_tl']/first_drop_df['num_bc_tl']\n",
    "first_drop_df['active_revol_frac']=first_drop_df['num_actv_rev_tl']/first_drop_df['num_rev_accts']\n",
    "first_drop_df['active_install_frac']=first_drop_df['open_act_il']/first_drop_df['num_il_tl']\n",
    "first_drop_df['open_revol_frac']=first_drop_df['num_op_rev_tl']/first_drop_df['num_rev_accts']\n",
    "\n",
    "second_drop_df=first_drop_df.drop(['num_rev_accts','num_il_tl','mort_acc','num_bc_tl','num_actv_bc_tl','num_actv_rev_tl','open_act_il','num_op_rev_tl'],axis=1)"
   ]
  },
  {
   "cell_type": "markdown",
   "metadata": {},
   "source": [
    "#### Quick Definition of Variable Type (Continuous, Nominal, Ordinal) Again"
   ]
  },
  {
   "cell_type": "code",
   "execution_count": 24,
   "metadata": {},
   "outputs": [],
   "source": [
    "df_number = second_drop_df.select_dtypes(include = 'number')\n",
    "df_object = second_drop_df.select_dtypes(include = 'object')\n",
    "df_category = second_drop_df.select_dtypes(include = 'category')\n",
    "df_boolean = second_drop_df.select_dtypes(include = 'bool')\n",
    "df_datetime = second_drop_df.select_dtypes(include = 'datetime')\n",
    "df_timedelta = second_drop_df.select_dtypes(include = 'timedelta')\n",
    "#######################################################\n",
    "nominal_var=list(df_object.columns)\n",
    "ordinal_var=list(df_number.columns)\n",
    "continuous_var=list(df_number.columns)\n",
    "time_var=list(df_datetime.columns)"
   ]
  },
  {
   "cell_type": "code",
   "execution_count": 25,
   "metadata": {},
   "outputs": [],
   "source": [
    "# corr = df_number.corr(method=\"pearson\")\n",
    "# big_corr=corr[abs(corr)>0.7]\n",
    "# big_corr.dropna(axis=0,how='all')\n",
    "# np.fill_diagonal(big_corr.values, np.nan)\n",
    "# big_corr=big_corr.dropna(axis=0,how='all')\n",
    "# big_corr=big_corr.dropna(axis=1,how='all')\n",
    "# big_corr\n",
    "# plt.subplots(figsize=(30, 30))\n",
    "# cmap = sns.diverging_palette(150, 250, as_cmap=True)\n",
    "# sns.heatmap(big_corr, cmap=\"Blues\", annot = True);"
   ]
  },
  {
   "cell_type": "markdown",
   "metadata": {},
   "source": [
    "#### Continuing the Removing of feature that are extremely highly correlated with other features\n",
    "#### drop total_bc_limit because revolving accounts cover bank cards\n",
    "#### drop num_tl_30dpd because it is covered by acc_now_delinq. Deliquency is when the account is late by 30days\n",
    "#### satisfactory accounts are open accounts so remove open accounts. And create a fraction to represent fraction of accounts that are satisfactory\n",
    "####  months since last delinquency together with fractions of account types should cover the months_since_recent_revol or months_since_recent_bc_dlq"
   ]
  },
  {
   "cell_type": "code",
   "execution_count": 26,
   "metadata": {},
   "outputs": [],
   "source": [
    "# total_bc_limit AND total_rev_hi_lim = 0.76           <--- drop total_bc_limit because covered by total_rev_hi_lim\n",
    "# num_tl_op_past_12m AND open_acc_6m = 0.73            <---- drop open_acc_6m\n",
    "# num_tl_op_past_12m AND acc_open_past_24mths = 0.76   <---- drop acc_open_past_24mths\n",
    "# num_tl_30dpd AND acc_now_delinq = 0.8                <---- drop num_tl_30dpd \n",
    "# num_sats AND open_acc = 1                            <---- drop open_acc\n",
    "# num_sats AND total_acc = 0.72                        <---- create fraction: num_sats/total_acc = good_acc_frac\n",
    "# mnths_since_recent_revol_delinq AND mnths_since_last_delinq = 0.86   <---- drop mnths_since_recent_revol_delinq\n",
    "# mnths_since_recent_revol_delinq AND mnths_since_recent_bc_dlq = 0.89 <---- drop mnths_since_recent_revol_delinq\n",
    "# mnths_since_recent_bc_dlq AND mnths_since_recent_revol_delinq = 0.89 <---- drop mnths_since_recent_bc_dlq\n",
    "# mnths_since_recent_bc_dlq AND mnths_since_last_delinq = 0.77         <---- drop mnths_since_recent_bc_dlq\n"
   ]
  },
  {
   "cell_type": "code",
   "execution_count": 27,
   "metadata": {
    "scrolled": true
   },
   "outputs": [
    {
     "data": {
      "text/html": [
       "<div>\n",
       "<style scoped>\n",
       "    .dataframe tbody tr th:only-of-type {\n",
       "        vertical-align: middle;\n",
       "    }\n",
       "\n",
       "    .dataframe tbody tr th {\n",
       "        vertical-align: top;\n",
       "    }\n",
       "\n",
       "    .dataframe thead th {\n",
       "        text-align: right;\n",
       "    }\n",
       "</style>\n",
       "<table border=\"1\" class=\"dataframe\">\n",
       "  <thead>\n",
       "    <tr style=\"text-align: right;\">\n",
       "      <th></th>\n",
       "      <th>num_tl_op_past_12m</th>\n",
       "      <th>acc_open_past_24mths</th>\n",
       "    </tr>\n",
       "    <tr>\n",
       "      <th>id</th>\n",
       "      <th></th>\n",
       "      <th></th>\n",
       "    </tr>\n",
       "  </thead>\n",
       "  <tbody>\n",
       "    <tr>\n",
       "      <th>68407277</th>\n",
       "      <td>3.0</td>\n",
       "      <td>4.0</td>\n",
       "    </tr>\n",
       "    <tr>\n",
       "      <th>68355089</th>\n",
       "      <td>2.0</td>\n",
       "      <td>4.0</td>\n",
       "    </tr>\n",
       "    <tr>\n",
       "      <th>68341763</th>\n",
       "      <td>0.0</td>\n",
       "      <td>6.0</td>\n",
       "    </tr>\n",
       "    <tr>\n",
       "      <th>66310712</th>\n",
       "      <td>1.0</td>\n",
       "      <td>2.0</td>\n",
       "    </tr>\n",
       "    <tr>\n",
       "      <th>68476807</th>\n",
       "      <td>4.0</td>\n",
       "      <td>10.0</td>\n",
       "    </tr>\n",
       "    <tr>\n",
       "      <th>68426831</th>\n",
       "      <td>0.0</td>\n",
       "      <td>0.0</td>\n",
       "    </tr>\n",
       "    <tr>\n",
       "      <th>68476668</th>\n",
       "      <td>2.0</td>\n",
       "      <td>6.0</td>\n",
       "    </tr>\n",
       "    <tr>\n",
       "      <th>67275481</th>\n",
       "      <td>0.0</td>\n",
       "      <td>4.0</td>\n",
       "    </tr>\n",
       "    <tr>\n",
       "      <th>68466926</th>\n",
       "      <td>2.0</td>\n",
       "      <td>7.0</td>\n",
       "    </tr>\n",
       "    <tr>\n",
       "      <th>68616873</th>\n",
       "      <td>2.0</td>\n",
       "      <td>5.0</td>\n",
       "    </tr>\n",
       "    <tr>\n",
       "      <th>68356421</th>\n",
       "      <td>3.0</td>\n",
       "      <td>9.0</td>\n",
       "    </tr>\n",
       "    <tr>\n",
       "      <th>68426545</th>\n",
       "      <td>1.0</td>\n",
       "      <td>3.0</td>\n",
       "    </tr>\n",
       "    <tr>\n",
       "      <th>68338832</th>\n",
       "      <td>1.0</td>\n",
       "      <td>4.0</td>\n",
       "    </tr>\n",
       "    <tr>\n",
       "      <th>66624733</th>\n",
       "      <td>3.0</td>\n",
       "      <td>7.0</td>\n",
       "    </tr>\n",
       "    <tr>\n",
       "      <th>68466961</th>\n",
       "      <td>0.0</td>\n",
       "      <td>1.0</td>\n",
       "    </tr>\n",
       "    <tr>\n",
       "      <th>68354783</th>\n",
       "      <td>2.0</td>\n",
       "      <td>2.0</td>\n",
       "    </tr>\n",
       "    <tr>\n",
       "      <th>68466916</th>\n",
       "      <td>0.0</td>\n",
       "      <td>2.0</td>\n",
       "    </tr>\n",
       "    <tr>\n",
       "      <th>68577849</th>\n",
       "      <td>4.0</td>\n",
       "      <td>5.0</td>\n",
       "    </tr>\n",
       "    <tr>\n",
       "      <th>68506798</th>\n",
       "      <td>2.0</td>\n",
       "      <td>3.0</td>\n",
       "    </tr>\n",
       "    <tr>\n",
       "      <th>68495092</th>\n",
       "      <td>12.0</td>\n",
       "      <td>17.0</td>\n",
       "    </tr>\n",
       "    <tr>\n",
       "      <th>68566886</th>\n",
       "      <td>4.0</td>\n",
       "      <td>7.0</td>\n",
       "    </tr>\n",
       "    <tr>\n",
       "      <th>68009401</th>\n",
       "      <td>2.0</td>\n",
       "      <td>6.0</td>\n",
       "    </tr>\n",
       "    <tr>\n",
       "      <th>68476702</th>\n",
       "      <td>0.0</td>\n",
       "      <td>1.0</td>\n",
       "    </tr>\n",
       "    <tr>\n",
       "      <th>68436666</th>\n",
       "      <td>0.0</td>\n",
       "      <td>1.0</td>\n",
       "    </tr>\n",
       "    <tr>\n",
       "      <th>68476715</th>\n",
       "      <td>0.0</td>\n",
       "      <td>1.0</td>\n",
       "    </tr>\n",
       "    <tr>\n",
       "      <th>67849662</th>\n",
       "      <td>0.0</td>\n",
       "      <td>0.0</td>\n",
       "    </tr>\n",
       "    <tr>\n",
       "      <th>68596180</th>\n",
       "      <td>0.0</td>\n",
       "      <td>2.0</td>\n",
       "    </tr>\n",
       "    <tr>\n",
       "      <th>68526907</th>\n",
       "      <td>3.0</td>\n",
       "      <td>5.0</td>\n",
       "    </tr>\n",
       "    <tr>\n",
       "      <th>68607141</th>\n",
       "      <td>1.0</td>\n",
       "      <td>5.0</td>\n",
       "    </tr>\n",
       "    <tr>\n",
       "      <th>68526883</th>\n",
       "      <td>0.0</td>\n",
       "      <td>2.0</td>\n",
       "    </tr>\n",
       "    <tr>\n",
       "      <th>...</th>\n",
       "      <td>...</td>\n",
       "      <td>...</td>\n",
       "    </tr>\n",
       "    <tr>\n",
       "      <th>89775484</th>\n",
       "      <td>1.0</td>\n",
       "      <td>1.0</td>\n",
       "    </tr>\n",
       "    <tr>\n",
       "      <th>89068414</th>\n",
       "      <td>2.0</td>\n",
       "      <td>9.0</td>\n",
       "    </tr>\n",
       "    <tr>\n",
       "      <th>89907070</th>\n",
       "      <td>0.0</td>\n",
       "      <td>6.0</td>\n",
       "    </tr>\n",
       "    <tr>\n",
       "      <th>89876723</th>\n",
       "      <td>1.0</td>\n",
       "      <td>4.0</td>\n",
       "    </tr>\n",
       "    <tr>\n",
       "      <th>88959570</th>\n",
       "      <td>2.0</td>\n",
       "      <td>6.0</td>\n",
       "    </tr>\n",
       "    <tr>\n",
       "      <th>88930300</th>\n",
       "      <td>2.0</td>\n",
       "      <td>7.0</td>\n",
       "    </tr>\n",
       "    <tr>\n",
       "      <th>90014198</th>\n",
       "      <td>2.0</td>\n",
       "      <td>6.0</td>\n",
       "    </tr>\n",
       "    <tr>\n",
       "      <th>90041095</th>\n",
       "      <td>3.0</td>\n",
       "      <td>4.0</td>\n",
       "    </tr>\n",
       "    <tr>\n",
       "      <th>89968033</th>\n",
       "      <td>3.0</td>\n",
       "      <td>4.0</td>\n",
       "    </tr>\n",
       "    <tr>\n",
       "      <th>89997513</th>\n",
       "      <td>0.0</td>\n",
       "      <td>2.0</td>\n",
       "    </tr>\n",
       "    <tr>\n",
       "      <th>89976312</th>\n",
       "      <td>0.0</td>\n",
       "      <td>5.0</td>\n",
       "    </tr>\n",
       "    <tr>\n",
       "      <th>89024450</th>\n",
       "      <td>3.0</td>\n",
       "      <td>7.0</td>\n",
       "    </tr>\n",
       "    <tr>\n",
       "      <th>88423119</th>\n",
       "      <td>1.0</td>\n",
       "      <td>3.0</td>\n",
       "    </tr>\n",
       "    <tr>\n",
       "      <th>89077638</th>\n",
       "      <td>2.0</td>\n",
       "      <td>3.0</td>\n",
       "    </tr>\n",
       "    <tr>\n",
       "      <th>88878506</th>\n",
       "      <td>1.0</td>\n",
       "      <td>3.0</td>\n",
       "    </tr>\n",
       "    <tr>\n",
       "      <th>89846605</th>\n",
       "      <td>2.0</td>\n",
       "      <td>2.0</td>\n",
       "    </tr>\n",
       "    <tr>\n",
       "      <th>89007204</th>\n",
       "      <td>2.0</td>\n",
       "      <td>3.0</td>\n",
       "    </tr>\n",
       "    <tr>\n",
       "      <th>89867167</th>\n",
       "      <td>3.0</td>\n",
       "      <td>4.0</td>\n",
       "    </tr>\n",
       "    <tr>\n",
       "      <th>89794723</th>\n",
       "      <td>1.0</td>\n",
       "      <td>2.0</td>\n",
       "    </tr>\n",
       "    <tr>\n",
       "      <th>89905081</th>\n",
       "      <td>0.0</td>\n",
       "      <td>6.0</td>\n",
       "    </tr>\n",
       "    <tr>\n",
       "      <th>88979824</th>\n",
       "      <td>0.0</td>\n",
       "      <td>1.0</td>\n",
       "    </tr>\n",
       "    <tr>\n",
       "      <th>88948836</th>\n",
       "      <td>2.0</td>\n",
       "      <td>4.0</td>\n",
       "    </tr>\n",
       "    <tr>\n",
       "      <th>89996426</th>\n",
       "      <td>2.0</td>\n",
       "      <td>10.0</td>\n",
       "    </tr>\n",
       "    <tr>\n",
       "      <th>90006534</th>\n",
       "      <td>2.0</td>\n",
       "      <td>9.0</td>\n",
       "    </tr>\n",
       "    <tr>\n",
       "      <th>89955820</th>\n",
       "      <td>5.0</td>\n",
       "      <td>10.0</td>\n",
       "    </tr>\n",
       "    <tr>\n",
       "      <th>89885898</th>\n",
       "      <td>3.0</td>\n",
       "      <td>5.0</td>\n",
       "    </tr>\n",
       "    <tr>\n",
       "      <th>88977788</th>\n",
       "      <td>0.0</td>\n",
       "      <td>7.0</td>\n",
       "    </tr>\n",
       "    <tr>\n",
       "      <th>88985880</th>\n",
       "      <td>0.0</td>\n",
       "      <td>2.0</td>\n",
       "    </tr>\n",
       "    <tr>\n",
       "      <th>88224441</th>\n",
       "      <td>1.0</td>\n",
       "      <td>7.0</td>\n",
       "    </tr>\n",
       "    <tr>\n",
       "      <th>88215728</th>\n",
       "      <td>1.0</td>\n",
       "      <td>3.0</td>\n",
       "    </tr>\n",
       "  </tbody>\n",
       "</table>\n",
       "<p>2260668 rows × 2 columns</p>\n",
       "</div>"
      ],
      "text/plain": [
       "          num_tl_op_past_12m  acc_open_past_24mths\n",
       "id                                                \n",
       "68407277                 3.0                   4.0\n",
       "68355089                 2.0                   4.0\n",
       "68341763                 0.0                   6.0\n",
       "66310712                 1.0                   2.0\n",
       "68476807                 4.0                  10.0\n",
       "68426831                 0.0                   0.0\n",
       "68476668                 2.0                   6.0\n",
       "67275481                 0.0                   4.0\n",
       "68466926                 2.0                   7.0\n",
       "68616873                 2.0                   5.0\n",
       "68356421                 3.0                   9.0\n",
       "68426545                 1.0                   3.0\n",
       "68338832                 1.0                   4.0\n",
       "66624733                 3.0                   7.0\n",
       "68466961                 0.0                   1.0\n",
       "68354783                 2.0                   2.0\n",
       "68466916                 0.0                   2.0\n",
       "68577849                 4.0                   5.0\n",
       "68506798                 2.0                   3.0\n",
       "68495092                12.0                  17.0\n",
       "68566886                 4.0                   7.0\n",
       "68009401                 2.0                   6.0\n",
       "68476702                 0.0                   1.0\n",
       "68436666                 0.0                   1.0\n",
       "68476715                 0.0                   1.0\n",
       "67849662                 0.0                   0.0\n",
       "68596180                 0.0                   2.0\n",
       "68526907                 3.0                   5.0\n",
       "68607141                 1.0                   5.0\n",
       "68526883                 0.0                   2.0\n",
       "...                      ...                   ...\n",
       "89775484                 1.0                   1.0\n",
       "89068414                 2.0                   9.0\n",
       "89907070                 0.0                   6.0\n",
       "89876723                 1.0                   4.0\n",
       "88959570                 2.0                   6.0\n",
       "88930300                 2.0                   7.0\n",
       "90014198                 2.0                   6.0\n",
       "90041095                 3.0                   4.0\n",
       "89968033                 3.0                   4.0\n",
       "89997513                 0.0                   2.0\n",
       "89976312                 0.0                   5.0\n",
       "89024450                 3.0                   7.0\n",
       "88423119                 1.0                   3.0\n",
       "89077638                 2.0                   3.0\n",
       "88878506                 1.0                   3.0\n",
       "89846605                 2.0                   2.0\n",
       "89007204                 2.0                   3.0\n",
       "89867167                 3.0                   4.0\n",
       "89794723                 1.0                   2.0\n",
       "89905081                 0.0                   6.0\n",
       "88979824                 0.0                   1.0\n",
       "88948836                 2.0                   4.0\n",
       "89996426                 2.0                  10.0\n",
       "90006534                 2.0                   9.0\n",
       "89955820                 5.0                  10.0\n",
       "89885898                 3.0                   5.0\n",
       "88977788                 0.0                   7.0\n",
       "88985880                 0.0                   2.0\n",
       "88224441                 1.0                   7.0\n",
       "88215728                 1.0                   3.0\n",
       "\n",
       "[2260668 rows x 2 columns]"
      ]
     },
     "execution_count": 27,
     "metadata": {},
     "output_type": "execute_result"
    }
   ],
   "source": [
    "second_drop_df[['num_tl_op_past_12m','acc_open_past_24mths']]"
   ]
  },
  {
   "cell_type": "code",
   "execution_count": 28,
   "metadata": {
    "scrolled": false
   },
   "outputs": [],
   "source": [
    "# print(pearsonr(second_drop_df.loc[~second_drop_df['num_tl_op_past_12m'].isnull(),'num_tl_op_past_12m'],second_drop_df.loc[~second_drop_df['num_tl_op_past_12m'].isnull(),'int_rate']))\n",
    "# print(pearsonr(second_drop_df.loc[~second_drop_df['acc_open_past_24mths'].isnull(),'acc_open_past_24mths'],second_drop_df.loc[~second_drop_df['acc_open_past_24mths'].isnull(),'int_rate']))\n",
    "# print(pearsonr(second_drop_df.loc[~second_drop_df['open_acc_6m'].isnull(),'open_acc_6m'],second_drop_df.loc[~second_drop_df['open_acc_6m'].isnull(),'int_rate']))"
   ]
  },
  {
   "cell_type": "code",
   "execution_count": 29,
   "metadata": {},
   "outputs": [],
   "source": [
    "second_drop_df['good_acc_frac'] = second_drop_df['num_sats']/second_drop_df['total_acc']\n",
    "second_drop_df.drop(['num_sats','total_bc_limit','open_acc_6m','acc_open_past_24mths',\\\n",
    "                     'num_tl_30dpd','open_acc','mths_since_recent_revol_delinq','mths_since_recent_bc_dlq'],axis=1,inplace=True)"
   ]
  },
  {
   "cell_type": "code",
   "execution_count": 30,
   "metadata": {},
   "outputs": [],
   "source": [
    "second_drop_df.to_csv('lean_df_2.csv')"
   ]
  }
 ],
 "metadata": {
  "kernelspec": {
   "display_name": "Python 3",
   "language": "python",
   "name": "python3"
  },
  "language_info": {
   "codemirror_mode": {
    "name": "ipython",
    "version": 3
   },
   "file_extension": ".py",
   "mimetype": "text/x-python",
   "name": "python",
   "nbconvert_exporter": "python",
   "pygments_lexer": "ipython3",
   "version": "3.7.3"
  }
 },
 "nbformat": 4,
 "nbformat_minor": 2
}
