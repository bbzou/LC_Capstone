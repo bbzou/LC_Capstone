{
 "cells": [
  {
   "cell_type": "code",
   "execution_count": null,
   "metadata": {},
   "outputs": [],
   "source": [
    "import numpy as np\n",
    "import pandas as pd\n",
    "pd.set_option('display.max_columns', None)\n",
    "import matplotlib.pyplot as plt\n",
    "%matplotlib inline\n",
    "import seaborn as sns\n",
    "\n",
    "# from HelperFunctions import minibatch \n",
    "%reload_ext autoreload\n",
    "%autoreload \n",
    "from HelperFunctions import minibatch \n",
    "\n",
    "from sklearn.model_selection import train_test_split\n",
    "from sklearn.model_selection import GridSearchCV\n",
    "from sklearn import metrics"
   ]
  },
  {
   "cell_type": "code",
   "execution_count": null,
   "metadata": {},
   "outputs": [],
   "source": [
    "from sklearn import ensemble\n",
    "randomForest = ensemble.RandomForestRegressor()\n",
    "gbm = ensemble.GradientBoostingRegressor()\n",
    "abr = ensemble.AdaBoostRegressor()\n",
    "import xgboost as xgb\n",
    "import lightgbm as lgb"
   ]
  },
  {
   "cell_type": "code",
   "execution_count": null,
   "metadata": {},
   "outputs": [],
   "source": [
    "randomForest.set_params(n_estimators=200,criterion=\"mse\",bootstrap=True,oob_score = False,n_jobs=-1,random_state=0,\\\n",
    "                       max_depth=5,max_features=5)\n",
    "randomForest.fit(trainX,trainY)\n",
    "feature_importance=pd.Series(randomForest.feature_importances_,index=trainX.columns)\n",
    "feature_importance.sort_values(ascending=False,inplace=True)\n",
    "plt.figure(figsize=(10,10))\n",
    "sns.barplot(x=feature_importance.index[0:20],y=feature_importance.values[0:20])\n",
    "plt.xticks(rotation=90)"
   ]
  },
  {
   "cell_type": "code",
   "execution_count": null,
   "metadata": {},
   "outputs": [],
   "source": [
    "param_grid = {\n",
    "    'max_depth' : range(5,20),\\\n",
    "    'max_features': range(5,20)\n",
    "}\n",
    "randomForest = ensemble.RandomForestRegressor()\n",
    "grid_search_forest = GridSearchCV(ensemble.RandomForestRegressor(n_estimators=100,criterion=\"mse\",\\\n",
    "                                                                 min_samples_leaf=2,min_samples_split=2,\\\n",
    "                                                                 bootstrap=True,oob_score = True,n_jobs=-1),\\\n",
    "                                  param_grid, cv=5, scoring='neg_mean_squared_error', n_jobs=-1,refit=True)\n",
    "%time grid_search_forest.fit(trainX, trainY)\n",
    "\n",
    "# Print results    \n",
    "print('Best parameters: {}'.format(grid_search_forest.best_params_))\n",
    "print('Best MSE Score: {0:.3f}'.format(-grid_search_forest.best_score_)) # NOTE: it is negated! (Sklearn convention)\n",
    "print('MSE Score on training data set (using best parameters): {0:.3f}'.format(-grid_search_forest.score(trainX, trainY)))\n",
    "print('MSE Score on test data set (using best parameters): {0:.3f}'.format(-grid_search_forest.score(testX, testY)))\n",
    "print('RMSE in $$ on test data set (using best parameters): {0:.1f}'.format(\\\n",
    "      np.mean((np.exp(grid_search_forest.predict(testX))-np.exp(testY))**2)**0.5))"
   ]
  },
  {
   "cell_type": "code",
   "execution_count": null,
   "metadata": {},
   "outputs": [],
   "source": [
    "xplot=list(param_grid['max_depth'])\n",
    "yplot=list(param_grid['max_features'])\n",
    "zplot=-1*grid_search_forest.cv_results_['mean_test_score'].reshape(len(yplot),-1) # NOTE: it is negated! (Sklearn convention)\n",
    "plt.pcolor(xplot,yplot,zplot,cmap='RdBu')\n",
    "plt.colorbar();\n",
    "plt.xlabel('Maximum Tree Depth');\n",
    "plt.ylabel('Max Features to Consider for Each Split');"
   ]
  },
  {
   "cell_type": "code",
   "execution_count": null,
   "metadata": {},
   "outputs": [],
   "source": [
    "number_estimators = range(10,110,10)\n",
    "train_error = []\n",
    "test_error = []\n",
    "for i in number_estimators:\n",
    "    randomForest.set_params(n_estimators=i,criterion=\"mse\",bootstrap=True,oob_score = False,n_jobs=-1,random_state=0,\\\n",
    "                       max_depth=grid_search_forest.best_params_['max_depth'],max_features=grid_search_forest.best_params_['max_features'])\n",
    "    randomForest.fit(trainX, trainY)\n",
    "    train_error.append(metrics.mean_squared_error(trainY, randomForest.predict(trainX))) \n",
    "    test_error.append(metrics.mean_squared_error(testY, randomForest.predict(testX))) \n",
    "import matplotlib.pyplot as plt\n",
    "plt.plot(number_estimators, train_error, c='red', label='training error')\n",
    "plt.plot(number_estimators, test_error, c='blue', label='test error')\n",
    "plt.ylabel('MSE')\n",
    "plt.xlabel('Number of Trees')\n",
    "plt.legend()\n",
    "plt.show()"
   ]
  },
  {
   "cell_type": "code",
   "execution_count": null,
   "metadata": {},
   "outputs": [],
   "source": [
    "#visualize best predictors\n",
    "randomForest.set_params(n_estimators=100,criterion=\"mse\",bootstrap=True,oob_score = False,n_jobs=-1,random_state=0,\\\n",
    "                       max_depth=grid_search_forest.best_params_['max_depth'],max_features=grid_search_forest.best_params_['max_features'])\n",
    "randomForest.fit(trainX,trainY)\n",
    "feature_importance=pd.Series(randomForest.feature_importances_,index=trainX.columns)\n",
    "feature_importance.sort_values(ascending=False,inplace=True)\n",
    "plt.figure(figsize=(10,10))\n",
    "sns.barplot(x=feature_importance.index[0:20],y=feature_importance.values[0:20])\n",
    "plt.xticks(rotation=90)"
   ]
  }
 ],
 "metadata": {
  "kernelspec": {
   "display_name": "Python 3",
   "language": "python",
   "name": "python3"
  },
  "language_info": {
   "codemirror_mode": {
    "name": "ipython",
    "version": 3
   },
   "file_extension": ".py",
   "mimetype": "text/x-python",
   "name": "python",
   "nbconvert_exporter": "python",
   "pygments_lexer": "ipython3",
   "version": "3.7.3"
  }
 },
 "nbformat": 4,
 "nbformat_minor": 2
}
