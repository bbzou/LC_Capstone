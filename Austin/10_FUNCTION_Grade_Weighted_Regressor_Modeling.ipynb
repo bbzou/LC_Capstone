{
 "cells": [
  {
   "cell_type": "code",
   "execution_count": 3,
   "metadata": {},
   "outputs": [],
   "source": [
    "def LC_Regressor(df,col_to_drop,target,**grade_weight_dict):\n",
    "    import numpy as np\n",
    "    import pandas as pd\n",
    "    from HelperFunctions import feature_standardize, label_encode_column, columns_of_type\n",
    "\n",
    "    from sklearn.model_selection import GridSearchCV\n",
    "\n",
    "    from sklearn.ensemble import RandomForestRegressor\n",
    "    reg = RandomForestRegressor()\n",
    "\n",
    "    from sklearn.metrics import r2_score\n",
    "    from sklearn.metrics.scorer import make_scorer\n",
    "    '''\n",
    "    df: dataframe of interest (for x_train)\n",
    "    col_to_drop: accepts a list of column names (strings) that will be dropped from the model\n",
    "    target: the target variable, in the format of a string\n",
    "    **grade_weight_dict: the dictionary for weights for different grades\n",
    "    **grade_weight_dict is in the form of:\n",
    "    grade_dict={'A':1,\n",
    "                'B':1,\n",
    "                'C':1,\n",
    "                'D':1,\n",
    "                'E':1,\n",
    "                'F':1,\n",
    "                'G':1}\n",
    "    '''\n",
    "    df['weight']=df['grade'].map(grade_weight_dict)\n",
    "    grade_weight_array=df['weight'].values\n",
    "    index = df.index\n",
    "    grade_weight_frame = pd.DataFrame(grade_weight_array, index=index)\n",
    "\n",
    "    df.drop(col_to_drop,axis=1,inplace=True)\n",
    "    x_train=df.drop([target],axis=1)\n",
    "    y_train=df.loc[:,target]\n",
    "    \n",
    "    cat_list=columns_of_type(x_train,'string')\n",
    "    cont_list=columns_of_type(x_train,'number')\n",
    "    \n",
    "    label_encoded_df=label_encode_column(x_train,cat_list)\n",
    "    \n",
    "    final_train_df=label_encoded_df.apply(lambda x:feature_standardize(x,scaleType='standardize'),axis=0)\n",
    "    \n",
    "    def grade_weighted_r2(y_true,y_pred,sample_weight):\n",
    "\n",
    "        weighted_r2=r2_score(y_true,y_pred,sample_weight=sample_weight.loc[y_true.index.values].values.reshape(-1))\n",
    "        return weighted_r2    \n",
    "\n",
    "    score_params = {\"sample_weight\": grade_weight_frame}\n",
    "\n",
    "    grade_weighted_scorer = make_scorer(score_func=grade_weighted_r2,\n",
    "                                        greater_is_better=True,\n",
    "                                        needs_proba=False,\n",
    "                                        needs_threshold=False,\n",
    "                                        **score_params)\n",
    "    grid_para_forest = {\n",
    "    'n_estimators': [500],\n",
    "    'max_depth':[15],\n",
    "    'max_features':[10],\n",
    "    'min_samples_leaf':[3],\n",
    "    'min_samples_split':[3]\n",
    "    }\n",
    "    \n",
    "    grid_search_forest = GridSearchCV(estimator = RandomForestRegressor(), param_grid = grid_para_forest,\n",
    "                                      scoring=grade_weighted_scorer,\n",
    "                                      cv = 5, n_jobs = -1)\n",
    "    grid_search_forest.fit(final_train_df,y_train)\n",
    "    r_d=grid_search_forest.predict(final_train_df)\n",
    "    return r_d"
   ]
  },
  {
   "cell_type": "code",
   "execution_count": 2,
   "metadata": {},
   "outputs": [],
   "source": [
    "import numpy as np\n",
    "import pandas as pd\n",
    "df=pd.read_csv('down_sampled_df_v2.csv')"
   ]
  },
  {
   "cell_type": "code",
   "execution_count": 4,
   "metadata": {},
   "outputs": [],
   "source": [
    "drop_list=['sub_grade','issue_d','zip_code','RANDOM','id','weight','loan_duration','loan_status']"
   ]
  },
  {
   "cell_type": "code",
   "execution_count": 8,
   "metadata": {},
   "outputs": [],
   "source": [
    "grade_weight_dict={'A':1,\n",
    "            'B':1,\n",
    "            'C':1,\n",
    "            'D':1,\n",
    "            'E':1,\n",
    "            'F':1,\n",
    "            'G':1}"
   ]
  },
  {
   "cell_type": "code",
   "execution_count": 10,
   "metadata": {},
   "outputs": [
    {
     "name": "stderr",
     "output_type": "stream",
     "text": [
      "/home/auscheng/anaconda3/lib/python3.7/site-packages/sklearn/model_selection/_search.py:813: DeprecationWarning: The default of the `iid` parameter will change from True to False in version 0.22 and will be removed in 0.24. This will change numeric results when test-set sizes are unequal.\n",
      "  DeprecationWarning)\n"
     ]
    },
    {
     "data": {
      "text/plain": [
       "array([-0.07601403, -0.09266711, -0.09288768, ..., -0.29070041,\n",
       "       -0.42087286, -0.17200294])"
      ]
     },
     "execution_count": 10,
     "metadata": {},
     "output_type": "execute_result"
    }
   ],
   "source": [
    "LC_Regressor(df,drop_list,'return_rate',grade_weight_dict=grade_weight_dict)"
   ]
  },
  {
   "cell_type": "code",
   "execution_count": null,
   "metadata": {},
   "outputs": [],
   "source": []
  }
 ],
 "metadata": {
  "kernelspec": {
   "display_name": "Python 3",
   "language": "python",
   "name": "python3"
  },
  "language_info": {
   "codemirror_mode": {
    "name": "ipython",
    "version": 3
   },
   "file_extension": ".py",
   "mimetype": "text/x-python",
   "name": "python",
   "nbconvert_exporter": "python",
   "pygments_lexer": "ipython3",
   "version": "3.7.3"
  }
 },
 "nbformat": 4,
 "nbformat_minor": 2
}
