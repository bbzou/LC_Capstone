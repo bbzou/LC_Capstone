{
 "cells": [
  {
   "cell_type": "code",
   "execution_count": 1,
   "metadata": {},
   "outputs": [],
   "source": [
    "import numpy as np\n",
    "import pandas as pd\n",
    "pd.set_option('display.max_columns', None)\n",
    "import matplotlib.pyplot as plt\n",
    "%matplotlib inline\n",
    "import seaborn as sns\n",
    "\n",
    "# from HelperFunctions import minibatch \n",
    "%reload_ext autoreload\n",
    "%autoreload 2\n",
    "from HelperFunctions import minibatch, dummify_columns, undummify, feature_standardize, label_encode_column, columns_of_type\n",
    "\n",
    "from sklearn.model_selection import train_test_split, GridSearchCV, cross_val_score\n",
    "\n",
    "# For Bayesian Optimizer\n",
    "# from hyperopt import fmin, tpe, hp, STATUS_OK, Trials"
   ]
  },
  {
   "cell_type": "code",
   "execution_count": 2,
   "metadata": {},
   "outputs": [],
   "source": [
    "from sklearn.linear_model import LogisticRegression, SGDClassifier\n",
    "from sklearn.ensemble import RandomForestRegressor, RandomForestClassifier, GradientBoostingRegressor, AdaBoostRegressor\n",
    "randomForest = RandomForestRegressor()\n",
    "gbm = GradientBoostingRegressor()\n",
    "abr = AdaBoostRegressor()\n",
    "from xgboost import XGBRegressor\n",
    "xgb = XGBRegressor()\n",
    "from lightgbm import LGBMRegressor\n",
    "lgb = LGBMRegressor()"
   ]
  },
  {
   "cell_type": "code",
   "execution_count": 3,
   "metadata": {},
   "outputs": [],
   "source": [
    "df=pd.read_csv('down_sampled_df_v2.csv')"
   ]
  },
  {
   "cell_type": "markdown",
   "metadata": {},
   "source": [
    "# Define Grade Weights HERE:"
   ]
  },
  {
   "cell_type": "code",
   "execution_count": 4,
   "metadata": {},
   "outputs": [],
   "source": [
    "grade_weight_dict={'A':1,\n",
    "                  'B':2,\n",
    "                  'C':3,\n",
    "                  'D':4,\n",
    "                  'E':5,\n",
    "                  'F':6,\n",
    "                  'G':7}\n",
    "\n",
    "df['weight']=df['grade'].map(grade_weight_dict)\n",
    "grade_weight_array=df['weight'].values\n",
    "index = df.index\n",
    "grade_weight_frame = pd.DataFrame(grade_weight_array, index=index)"
   ]
  },
  {
   "cell_type": "markdown",
   "metadata": {},
   "source": [
    "# Dropping features not needed for modeling"
   ]
  },
  {
   "cell_type": "code",
   "execution_count": 5,
   "metadata": {},
   "outputs": [],
   "source": [
    "drop_list=['sub_grade','issue_d','zip_code','RANDOM','id','weight']\n",
    "df.drop(drop_list,axis=1,inplace=True)"
   ]
  },
  {
   "cell_type": "code",
   "execution_count": 6,
   "metadata": {},
   "outputs": [],
   "source": [
    "x_train=df.drop(['loan_status','return_rate'],axis=1)\n",
    "y_train=df.return_rate"
   ]
  },
  {
   "cell_type": "code",
   "execution_count": 7,
   "metadata": {},
   "outputs": [],
   "source": [
    "cat_list=columns_of_type(x_train,'string')\n",
    "cont_list=columns_of_type(x_train,'number')"
   ]
  },
  {
   "cell_type": "markdown",
   "metadata": {},
   "source": [
    "# Label Encode ALL Categoricals"
   ]
  },
  {
   "cell_type": "code",
   "execution_count": 8,
   "metadata": {
    "scrolled": true
   },
   "outputs": [],
   "source": [
    "label_encoded_df=label_encode_column(x_train,cat_list)"
   ]
  },
  {
   "cell_type": "markdown",
   "metadata": {},
   "source": [
    "# Standardize ALL Features"
   ]
  },
  {
   "cell_type": "code",
   "execution_count": 9,
   "metadata": {},
   "outputs": [],
   "source": [
    "final_train_df=label_encoded_df.apply(lambda x:feature_standardize(x,scaleType='standardize'),axis=0)"
   ]
  },
  {
   "cell_type": "markdown",
   "metadata": {},
   "source": [
    "# CUSTOM SCORING FUNCTION: WEIGHTED R2"
   ]
  },
  {
   "cell_type": "code",
   "execution_count": 10,
   "metadata": {},
   "outputs": [],
   "source": [
    "from sklearn.metrics import r2_score\n",
    "from sklearn.metrics.scorer import make_scorer\n",
    "def grade_weighted_r2(y_true,y_pred,sample_weight):\n",
    "\n",
    "    weighted_r2=r2_score(y_true,y_pred,sample_weight=sample_weight.loc[y_true.index.values].values.reshape(-1))\n",
    "    return weighted_r2    \n",
    "\n",
    "score_params = {\"sample_weight\": grade_weight_frame}\n",
    "\n",
    "grade_weighted_scorer = make_scorer(score_func=grade_weighted_r2,\n",
    "                                    greater_is_better=True,\n",
    "                                    needs_proba=False,\n",
    "                                    needs_threshold=False,\n",
    "                                    **score_params)"
   ]
  },
  {
   "cell_type": "code",
   "execution_count": 11,
   "metadata": {},
   "outputs": [],
   "source": [
    "grid_para_forest = {\n",
    "    'n_estimators': range(20, 80, 2),\n",
    "    'max_depth':[2,3],\n",
    "    'max_features':[1, 2],\n",
    "    'min_samples_leaf':[1,2],\n",
    "    'min_samples_split':[2,3]\n",
    "}\n",
    "\n",
    "grid_search_forest = GridSearchCV(estimator = RandomForestRegressor(), param_grid = grid_para_forest,\n",
    "                                  scoring=grade_weighted_scorer,\n",
    "                                  cv = 5, n_jobs = -1)"
   ]
  },
  {
   "cell_type": "code",
   "execution_count": 12,
   "metadata": {
    "scrolled": false
   },
   "outputs": [
    {
     "name": "stdout",
     "output_type": "stream",
     "text": [
      "best parameters: {'max_depth': 2, 'max_features': 2, 'min_samples_leaf': 1, 'min_samples_split': 3, 'n_estimators': 22}\n",
      "best score: -0.17592313508539406\n"
     ]
    }
   ],
   "source": [
    "grid_search_forest.fit(final_train_df,y_train)\n",
    "print('best parameters:', grid_search_forest.best_params_)\n",
    "print('best score:', grid_search_forest.best_score_)"
   ]
  },
  {
   "cell_type": "markdown",
   "metadata": {},
   "source": [
    "#### Testing without weighted r2"
   ]
  },
  {
   "cell_type": "code",
   "execution_count": 14,
   "metadata": {},
   "outputs": [
    {
     "name": "stdout",
     "output_type": "stream",
     "text": [
      "best parameters: {'max_depth': 2, 'max_features': 2, 'min_samples_leaf': 2, 'min_samples_split': 3, 'n_estimators': 26}\n",
      "best score: -0.10625887293477396\n"
     ]
    }
   ],
   "source": [
    "grid_search_forest = GridSearchCV(estimator = RandomForestRegressor(), param_grid = grid_para_forest,\n",
    "                                  cv = 5, n_jobs = -1)\n",
    "grid_search_forest.fit(final_train_df,y_train)\n",
    "print('best parameters:', grid_search_forest.best_params_)\n",
    "print('best score:', grid_search_forest.best_score_)"
   ]
  },
  {
   "cell_type": "code",
   "execution_count": null,
   "metadata": {},
   "outputs": [],
   "source": []
  }
 ],
 "metadata": {
  "kernelspec": {
   "display_name": "Python 3",
   "language": "python",
   "name": "python3"
  },
  "language_info": {
   "codemirror_mode": {
    "name": "ipython",
    "version": 3
   },
   "file_extension": ".py",
   "mimetype": "text/x-python",
   "name": "python",
   "nbconvert_exporter": "python",
   "pygments_lexer": "ipython3",
   "version": "3.7.3"
  }
 },
 "nbformat": 4,
 "nbformat_minor": 2
}
