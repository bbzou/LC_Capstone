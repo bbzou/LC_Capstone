{
 "cells": [
  {
   "cell_type": "code",
   "execution_count": 1,
   "metadata": {},
   "outputs": [],
   "source": [
    "import numpy as np\n",
    "import pandas as pd\n",
    "pd.set_option('display.max_columns', None)\n",
    "import matplotlib.pyplot as plt\n",
    "%matplotlib inline\n",
    "import seaborn as sns\n",
    "\n",
    "# from HelperFunctions import minibatch \n",
    "%reload_ext autoreload\n",
    "%autoreload 2\n",
    "from HelperFunctions import minibatch, dummify_columns, undummify, feature_standardize, label_encode_column, columns_of_type\n",
    "\n",
    "from sklearn.model_selection import train_test_split, GridSearchCV, cross_val_score\n",
    "\n",
    "# For Bayesian Optimizer\n",
    "# from hyperopt import fmin, tpe, hp, STATUS_OK, Trials"
   ]
  },
  {
   "cell_type": "code",
   "execution_count": 2,
   "metadata": {},
   "outputs": [],
   "source": [
    "from sklearn.linear_model import LogisticRegression, SGDClassifier\n",
    "from sklearn.ensemble import RandomForestRegressor, RandomForestClassifier, GradientBoostingRegressor, AdaBoostRegressor\n",
    "randomForest = RandomForestRegressor()\n",
    "gbm = GradientBoostingRegressor()\n",
    "abr = AdaBoostRegressor()\n",
    "from xgboost import XGBRegressor\n",
    "xgb = XGBRegressor()\n",
    "from lightgbm import LGBMRegressor\n",
    "lgb = LGBMRegressor()"
   ]
  },
  {
   "cell_type": "code",
   "execution_count": 3,
   "metadata": {},
   "outputs": [],
   "source": [
    "temp_df=pd.read_csv('down_sampled_df_v2.csv')"
   ]
  },
  {
   "cell_type": "code",
   "execution_count": 4,
   "metadata": {},
   "outputs": [],
   "source": [
    "df=temp_df[temp_df.loan_status=='Fully Paid'].copy()\n",
    "df.reset_index(drop=True,inplace=True)"
   ]
  },
  {
   "cell_type": "markdown",
   "metadata": {},
   "source": [
    "# Define Grade Weights HERE:"
   ]
  },
  {
   "cell_type": "code",
   "execution_count": 5,
   "metadata": {},
   "outputs": [],
   "source": [
    "grade_weight_dict={'A':1,\n",
    "                  'B':1,\n",
    "                  'C':1,\n",
    "                  'D':1,\n",
    "                  'E':1,\n",
    "                  'F':1,\n",
    "                  'G':1}\n",
    "\n",
    "df['weight']=df['grade'].map(grade_weight_dict)\n",
    "grade_weight_array=df['weight'].values\n",
    "index = df.index\n",
    "grade_weight_frame = pd.DataFrame(grade_weight_array, index=index)"
   ]
  },
  {
   "cell_type": "markdown",
   "metadata": {},
   "source": [
    "# Dropping features not needed for modeling"
   ]
  },
  {
   "cell_type": "code",
   "execution_count": 6,
   "metadata": {},
   "outputs": [],
   "source": [
    "drop_list=['sub_grade','issue_d','zip_code','RANDOM','id','weight','loan_duration']\n",
    "df.drop(drop_list,axis=1,inplace=True)"
   ]
  },
  {
   "cell_type": "code",
   "execution_count": 7,
   "metadata": {},
   "outputs": [],
   "source": [
    "x_train=df.drop(['loan_status','return_rate'],axis=1)\n",
    "y_train=df.return_rate"
   ]
  },
  {
   "cell_type": "code",
   "execution_count": 8,
   "metadata": {},
   "outputs": [],
   "source": [
    "cat_list=columns_of_type(x_train,'string')\n",
    "cont_list=columns_of_type(x_train,'number')"
   ]
  },
  {
   "cell_type": "markdown",
   "metadata": {},
   "source": [
    "# Label Encode ALL Categoricals"
   ]
  },
  {
   "cell_type": "code",
   "execution_count": 9,
   "metadata": {
    "scrolled": true
   },
   "outputs": [],
   "source": [
    "label_encoded_df=label_encode_column(x_train,cat_list)"
   ]
  },
  {
   "cell_type": "markdown",
   "metadata": {},
   "source": [
    "# Standardize ALL Features"
   ]
  },
  {
   "cell_type": "code",
   "execution_count": 10,
   "metadata": {},
   "outputs": [],
   "source": [
    "final_train_df=label_encoded_df.apply(lambda x:feature_standardize(x,scaleType='standardize'),axis=0)"
   ]
  },
  {
   "cell_type": "markdown",
   "metadata": {},
   "source": [
    "# CUSTOM SCORING FUNCTION: WEIGHTED R2"
   ]
  },
  {
   "cell_type": "code",
   "execution_count": 11,
   "metadata": {},
   "outputs": [],
   "source": [
    "from sklearn.metrics import r2_score\n",
    "from sklearn.metrics.scorer import make_scorer\n",
    "def grade_weighted_r2(y_true,y_pred,sample_weight):\n",
    "\n",
    "    weighted_r2=r2_score(y_true,y_pred,sample_weight=sample_weight.loc[y_true.index.values].values.reshape(-1))\n",
    "    return weighted_r2    \n",
    "\n",
    "score_params = {\"sample_weight\": grade_weight_frame}\n",
    "\n",
    "grade_weighted_scorer = make_scorer(score_func=grade_weighted_r2,\n",
    "                                    greater_is_better=True,\n",
    "                                    needs_proba=False,\n",
    "                                    needs_threshold=False,\n",
    "                                    **score_params)"
   ]
  },
  {
   "cell_type": "code",
   "execution_count": 12,
   "metadata": {},
   "outputs": [],
   "source": [
    "grid_para_forest = {\n",
    "    'n_estimators': [100,200,500],\n",
    "    'max_depth':[5,7,9,12],\n",
    "    'max_features':[5,10,15,20],\n",
    "    'min_samples_leaf':[3,5,7],\n",
    "    'min_samples_split':[2,3,4,5]\n",
    "}\n",
    "\n",
    "grid_search_forest = GridSearchCV(estimator = RandomForestRegressor(), param_grid = grid_para_forest,\n",
    "                                  scoring=grade_weighted_scorer,\n",
    "                                  cv = 5, n_jobs = -1)"
   ]
  },
  {
   "cell_type": "code",
   "execution_count": 13,
   "metadata": {
    "scrolled": false
   },
   "outputs": [
    {
     "name": "stderr",
     "output_type": "stream",
     "text": [
      "/home/auscheng/anaconda3/lib/python3.7/site-packages/joblib/externals/loky/process_executor.py:706: UserWarning: A worker stopped while some jobs were given to the executor. This can be caused by a too short worker timeout or by a memory leak.\n",
      "  \"timeout or by a memory leak.\", UserWarning\n"
     ]
    },
    {
     "name": "stdout",
     "output_type": "stream",
     "text": [
      "CPU times: user 1min 30s, sys: 1.21 s, total: 1min 31s\n",
      "Wall time: 9h 48min 23s\n",
      "best parameters: {'max_depth': 12, 'max_features': 20, 'min_samples_leaf': 5, 'min_samples_split': 2, 'n_estimators': 200}\n",
      "best score: 0.30090516325222355\n"
     ]
    }
   ],
   "source": [
    "%time grid_search_forest.fit(final_train_df,y_train)\n",
    "print('best parameters:', grid_search_forest.best_params_)\n",
    "print('best score:', grid_search_forest.best_score_)"
   ]
  },
  {
   "cell_type": "code",
   "execution_count": 14,
   "metadata": {},
   "outputs": [],
   "source": [
    "results=grid_search_forest.predict(final_train_df)\n",
    "r_nd=pd.DataFrame(results,columns=['r_nd'])\n",
    "r_nd.to_csv('r_nd.csv')"
   ]
  },
  {
   "cell_type": "markdown",
   "metadata": {},
   "source": [
    "#### Testing without weighted r2"
   ]
  },
  {
   "cell_type": "code",
   "execution_count": 15,
   "metadata": {},
   "outputs": [],
   "source": [
    "# grid_search_forest = GridSearchCV(estimator = RandomForestRegressor(), param_grid = grid_para_forest,\n",
    "#                                   cv = 5, n_jobs = -1)\n",
    "# grid_search_forest.fit(final_train_df,y_train)\n",
    "# print('best parameters:', grid_search_forest.best_params_)\n",
    "# print('best score:', grid_search_forest.best_score_)"
   ]
  },
  {
   "cell_type": "code",
   "execution_count": null,
   "metadata": {},
   "outputs": [],
   "source": []
  }
 ],
 "metadata": {
  "kernelspec": {
   "display_name": "Python 3",
   "language": "python",
   "name": "python3"
  },
  "language_info": {
   "codemirror_mode": {
    "name": "ipython",
    "version": 3
   },
   "file_extension": ".py",
   "mimetype": "text/x-python",
   "name": "python",
   "nbconvert_exporter": "python",
   "pygments_lexer": "ipython3",
   "version": "3.7.3"
  }
 },
 "nbformat": 4,
 "nbformat_minor": 2
}
