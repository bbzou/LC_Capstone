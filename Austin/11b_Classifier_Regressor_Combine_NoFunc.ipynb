{
 "cells": [
  {
   "cell_type": "code",
   "execution_count": 1,
   "metadata": {},
   "outputs": [],
   "source": [
    "import numpy as np\n",
    "import pandas as pd\n",
    "pd.set_option('display.max_columns', None)\n",
    "%reload_ext autoreload\n",
    "%autoreload 2\n",
    "from HelperFunctions import feature_standardize, label_encode_column, columns_of_type\n",
    "\n",
    "from sklearn.model_selection import GridSearchCV\n",
    "from sklearn.metrics.scorer import make_scorer\n",
    "from sklearn.metrics import accuracy_score\n",
    "from sklearn.metrics import r2_score\n",
    "\n",
    "from sklearn.ensemble import RandomForestRegressor, RandomForestClassifier\n",
    "reg = RandomForestRegressor()\n",
    "clf = RandomForestClassifier()\n",
    "\n",
    "import pickle"
   ]
  },
  {
   "cell_type": "code",
   "execution_count": 2,
   "metadata": {},
   "outputs": [],
   "source": [
    "total_df=pd.read_csv('Sampled_Dataset_Balanced.csv')\n",
    "# total_df=pd.read_csv('down_sampled_df_v2.csv')\n",
    "temp_pre_df=pd.read_csv('pre_downsample_df.csv')\n",
    "pre_df=temp_pre_df.sample(100000)"
   ]
  },
  {
   "cell_type": "code",
   "execution_count": 3,
   "metadata": {},
   "outputs": [],
   "source": [
    "# Defining the time windows:\n",
    "# timeWindows=[('2007-07','2008-06'),\n",
    "#              ('2008-07','2008-09'),('2008-10','2008-12'),\n",
    "#              ('2009-01','2009-03'),('2009-04','2009-06'),\n",
    "#              ('2009-07','2009-09'),('2009-10','2009-12'),\n",
    "#              ('2010-01','2010-03'),('2010-04','2010-06'),\n",
    "#              ('2010-07','2010-09'),('2010-10','2010-12'),\n",
    "#              ('2011-01','2011-03'),('2011-04','2011-06'),\n",
    "#              ('2011-07','2011-09'),('2011-10','2011-12'),\n",
    "#              ('2012-01','2012-03'),('2012-04','2012-06'),\n",
    "#              ('2012-07','2012-09'),('2012-10','2012-12'),\n",
    "#              ('2013-01','2013-03'),('2013-04','2013-06'),\n",
    "#              ('2013-07','2013-09'),('2013-10','2013-12'),\n",
    "#              ('2014-01','2014-03'),('2014-04','2014-06'),\n",
    "#              ('2014-07','2014-09'),('2014-10','2014-12'),\n",
    "#              ('2015-01','2015-03'),('2015-04','2015-06'),\n",
    "#              ('2015-07','2015-09'),('2015-10','2015-12'),\n",
    "#              ('2016-01','2016-03'),('2016-04','2016-06'),\n",
    "#              ('2016-07','2016-09'),('2016-10','2016-12'),\n",
    "#              ('2017-01','2017-03'),('2017-04','2017-06'),\n",
    "#              ('2017-07','2017-09'),('2017-10','2017-12'),\n",
    "#              ('2018-01','2018-03'),('2018-04','2018-06'),\n",
    "#              ('2018-07','2018-09'),('2018-10','2018-12'),\n",
    "#             ]\n",
    "timeWindows=[('2007-07','2008-06'),\n",
    "             ('2008-07','2008-12'),\n",
    "             ('2009-01','2009-06'),\n",
    "             ('2009-07','2009-12'),\n",
    "             ('2010-01','2010-06'),\n",
    "             ('2010-07','2010-12'),\n",
    "             ('2011-01','2011-06'),\n",
    "             ('2011-07','2011-12'),\n",
    "             ('2012-01','2012-06'),\n",
    "             ('2012-07','2012-12'),\n",
    "             ('2013-01','2013-06'),\n",
    "             ('2013-07','2013-12'),\n",
    "             ('2014-01','2014-06'),\n",
    "             ('2014-07','2014-12'),\n",
    "             ('2015-01','2015-06'),\n",
    "             ('2015-07','2015-12'),\n",
    "             ('2016-01','2016-06'),\n",
    "             ('2016-07','2016-12'),\n",
    "             ('2017-01','2017-06'),\n",
    "             ('2017-07','2017-12'),\n",
    "             ('2018-01','2018-06'),\n",
    "             ('2018-07','2018-12'),\n",
    "            ]\n",
    "total_df.issue_d=pd.to_datetime(total_df.issue_d)\n",
    "pre_df.issue_d=pd.to_datetime(pre_df.issue_d)"
   ]
  },
  {
   "cell_type": "code",
   "execution_count": 4,
   "metadata": {},
   "outputs": [],
   "source": [
    "file_clf = open(\"pickle_model_clf.pkl\",'wb')\n",
    "file_time_grade_default_rate = open(\"pickle_time_grade_default_rate.pkl\",'wb')\n",
    "file_reg_def = open(\"pickle_model_reg_def.pkl\",'wb')\n",
    "file_reg_paid = open(\"pickle_model_reg_paid.pkl\",'wb')"
   ]
  },
  {
   "cell_type": "code",
   "execution_count": 5,
   "metadata": {},
   "outputs": [],
   "source": [
    "grade_weight_dict={'A':1,\n",
    "            'B':1,\n",
    "            'C':1,\n",
    "            'D':1,\n",
    "            'E':1,\n",
    "            'F':1,\n",
    "            'G':1}"
   ]
  },
  {
   "cell_type": "code",
   "execution_count": 6,
   "metadata": {},
   "outputs": [],
   "source": [
    "# default rate per time frame (to address downsampling)"
   ]
  },
  {
   "cell_type": "code",
   "execution_count": 7,
   "metadata": {},
   "outputs": [],
   "source": [
    "def grade_default_rate(unsampled_df): \n",
    "    # Finding the Default rate of each grade (of a given time)\n",
    "    grade_rate=unsampled_df.groupby('grade')['loan_status'].apply(lambda x:(x=='Default').sum()/x.count())\n",
    "    grade_rate_dict=grade_rate.to_dict()\n",
    "    return grade_rate_dict\n",
    "       \n",
    "# def adjust_prob(grade_rate_dict,df,pre_adjust_prob)\n",
    "#     pre_adjust_prob_df=pd.DataFrame(pre_adjust_prob[:,0],columns=['pre_adjust_prob'])\n",
    "#     df['grade_default_rate']=df['grade'].map(grade_rate_dict)\n",
    "#     df.reset_index(drop=True, inplace=True)\n",
    "#     pre_adjust_prob_df.reset_index(drop=True, inplace=True)\n",
    "#     pre_adjust_df=pd.concat([df,pre_adjust_prob_df],axis=1)\n",
    "#     # Adjusting the default_probability to the true probability (accounting for down/up sampling)    \n",
    "#     sampled_frac=0.5\n",
    "#     real_prob=[]\n",
    "#     for row in pre_adjust_df.loc[:,['grade_default_rate','pre_adjust_prob']].iterrows():\n",
    "#         beta=sampled_frac/(1-row[1]['grade_default_rate'])\n",
    "#         real_prob.append(beta*row[1]['pre_adjust_prob']/((beta-1)*row[1]['pre_adjust_prob']+1))\n",
    "#     a=pd.DataFrame(real_prob,columns=['actual_prob'])\n",
    "#     b=pd.DataFrame(pre_adjust_prob[:,0],columns=['pre_adjust_prob'])\n",
    "#     return pd.concat([a,b],axis=1)"
   ]
  },
  {
   "cell_type": "code",
   "execution_count": 8,
   "metadata": {
    "scrolled": true
   },
   "outputs": [
    {
     "name": "stdout",
     "output_type": "stream",
     "text": [
      "('2007-07', '2008-06')\n"
     ]
    },
    {
     "name": "stderr",
     "output_type": "stream",
     "text": [
      "/home/auscheng/anaconda3/lib/python3.7/site-packages/pandas/core/indexing.py:362: SettingWithCopyWarning: \n",
      "A value is trying to be set on a copy of a slice from a DataFrame.\n",
      "Try using .loc[row_indexer,col_indexer] = value instead\n",
      "\n",
      "See the caveats in the documentation: http://pandas.pydata.org/pandas-docs/stable/indexing.html#indexing-view-versus-copy\n",
      "  self.obj[key] = _infer_fill_value(value)\n",
      "/home/auscheng/anaconda3/lib/python3.7/site-packages/pandas/core/indexing.py:543: SettingWithCopyWarning: \n",
      "A value is trying to be set on a copy of a slice from a DataFrame.\n",
      "Try using .loc[row_indexer,col_indexer] = value instead\n",
      "\n",
      "See the caveats in the documentation: http://pandas.pydata.org/pandas-docs/stable/indexing.html#indexing-view-versus-copy\n",
      "  self.obj[item] = s\n"
     ]
    },
    {
     "name": "stdout",
     "output_type": "stream",
     "text": [
      "default reg score: 0.12466186240379395\n",
      "fully paid reg score: 0.5025067185350396\n",
      "clf score: 0.7014925373134329\n",
      "('2008-07', '2008-12')\n"
     ]
    },
    {
     "name": "stderr",
     "output_type": "stream",
     "text": [
      "/home/auscheng/anaconda3/lib/python3.7/site-packages/pandas/core/indexing.py:362: SettingWithCopyWarning: \n",
      "A value is trying to be set on a copy of a slice from a DataFrame.\n",
      "Try using .loc[row_indexer,col_indexer] = value instead\n",
      "\n",
      "See the caveats in the documentation: http://pandas.pydata.org/pandas-docs/stable/indexing.html#indexing-view-versus-copy\n",
      "  self.obj[key] = _infer_fill_value(value)\n",
      "/home/auscheng/anaconda3/lib/python3.7/site-packages/pandas/core/indexing.py:543: SettingWithCopyWarning: \n",
      "A value is trying to be set on a copy of a slice from a DataFrame.\n",
      "Try using .loc[row_indexer,col_indexer] = value instead\n",
      "\n",
      "See the caveats in the documentation: http://pandas.pydata.org/pandas-docs/stable/indexing.html#indexing-view-versus-copy\n",
      "  self.obj[item] = s\n"
     ]
    },
    {
     "name": "stdout",
     "output_type": "stream",
     "text": [
      "default reg score: -0.003643563902599789\n",
      "fully paid reg score: 0.019068079566584295\n",
      "clf score: 0.7592592592592593\n",
      "('2009-01', '2009-06')\n"
     ]
    },
    {
     "name": "stderr",
     "output_type": "stream",
     "text": [
      "/home/auscheng/anaconda3/lib/python3.7/site-packages/pandas/core/indexing.py:362: SettingWithCopyWarning: \n",
      "A value is trying to be set on a copy of a slice from a DataFrame.\n",
      "Try using .loc[row_indexer,col_indexer] = value instead\n",
      "\n",
      "See the caveats in the documentation: http://pandas.pydata.org/pandas-docs/stable/indexing.html#indexing-view-versus-copy\n",
      "  self.obj[key] = _infer_fill_value(value)\n",
      "/home/auscheng/anaconda3/lib/python3.7/site-packages/pandas/core/indexing.py:543: SettingWithCopyWarning: \n",
      "A value is trying to be set on a copy of a slice from a DataFrame.\n",
      "Try using .loc[row_indexer,col_indexer] = value instead\n",
      "\n",
      "See the caveats in the documentation: http://pandas.pydata.org/pandas-docs/stable/indexing.html#indexing-view-versus-copy\n",
      "  self.obj[item] = s\n"
     ]
    },
    {
     "name": "stdout",
     "output_type": "stream",
     "text": [
      "default reg score: 0.13902453482896882\n",
      "fully paid reg score: 0.6208438410601413\n",
      "clf score: 0.8\n",
      "('2009-07', '2009-12')\n"
     ]
    },
    {
     "name": "stderr",
     "output_type": "stream",
     "text": [
      "/home/auscheng/anaconda3/lib/python3.7/site-packages/pandas/core/indexing.py:362: SettingWithCopyWarning: \n",
      "A value is trying to be set on a copy of a slice from a DataFrame.\n",
      "Try using .loc[row_indexer,col_indexer] = value instead\n",
      "\n",
      "See the caveats in the documentation: http://pandas.pydata.org/pandas-docs/stable/indexing.html#indexing-view-versus-copy\n",
      "  self.obj[key] = _infer_fill_value(value)\n",
      "/home/auscheng/anaconda3/lib/python3.7/site-packages/pandas/core/indexing.py:543: SettingWithCopyWarning: \n",
      "A value is trying to be set on a copy of a slice from a DataFrame.\n",
      "Try using .loc[row_indexer,col_indexer] = value instead\n",
      "\n",
      "See the caveats in the documentation: http://pandas.pydata.org/pandas-docs/stable/indexing.html#indexing-view-versus-copy\n",
      "  self.obj[item] = s\n"
     ]
    },
    {
     "name": "stdout",
     "output_type": "stream",
     "text": [
      "default reg score: 0.21303197870240842\n",
      "fully paid reg score: 0.6180911356142927\n",
      "clf score: 0.7588652482269503\n",
      "('2010-01', '2010-06')\n"
     ]
    },
    {
     "name": "stderr",
     "output_type": "stream",
     "text": [
      "/home/auscheng/anaconda3/lib/python3.7/site-packages/pandas/core/indexing.py:362: SettingWithCopyWarning: \n",
      "A value is trying to be set on a copy of a slice from a DataFrame.\n",
      "Try using .loc[row_indexer,col_indexer] = value instead\n",
      "\n",
      "See the caveats in the documentation: http://pandas.pydata.org/pandas-docs/stable/indexing.html#indexing-view-versus-copy\n",
      "  self.obj[key] = _infer_fill_value(value)\n",
      "/home/auscheng/anaconda3/lib/python3.7/site-packages/pandas/core/indexing.py:543: SettingWithCopyWarning: \n",
      "A value is trying to be set on a copy of a slice from a DataFrame.\n",
      "Try using .loc[row_indexer,col_indexer] = value instead\n",
      "\n",
      "See the caveats in the documentation: http://pandas.pydata.org/pandas-docs/stable/indexing.html#indexing-view-versus-copy\n",
      "  self.obj[item] = s\n"
     ]
    },
    {
     "name": "stdout",
     "output_type": "stream",
     "text": [
      "default reg score: 0.15585528323431197\n",
      "fully paid reg score: 0.6844584849687054\n",
      "clf score: 0.7017543859649122\n",
      "('2010-07', '2010-12')\n"
     ]
    },
    {
     "name": "stderr",
     "output_type": "stream",
     "text": [
      "/home/auscheng/anaconda3/lib/python3.7/site-packages/pandas/core/indexing.py:362: SettingWithCopyWarning: \n",
      "A value is trying to be set on a copy of a slice from a DataFrame.\n",
      "Try using .loc[row_indexer,col_indexer] = value instead\n",
      "\n",
      "See the caveats in the documentation: http://pandas.pydata.org/pandas-docs/stable/indexing.html#indexing-view-versus-copy\n",
      "  self.obj[key] = _infer_fill_value(value)\n",
      "/home/auscheng/anaconda3/lib/python3.7/site-packages/pandas/core/indexing.py:543: SettingWithCopyWarning: \n",
      "A value is trying to be set on a copy of a slice from a DataFrame.\n",
      "Try using .loc[row_indexer,col_indexer] = value instead\n",
      "\n",
      "See the caveats in the documentation: http://pandas.pydata.org/pandas-docs/stable/indexing.html#indexing-view-versus-copy\n",
      "  self.obj[item] = s\n"
     ]
    },
    {
     "name": "stdout",
     "output_type": "stream",
     "text": [
      "default reg score: 0.15817562515204908\n",
      "fully paid reg score: 0.7490336207103518\n",
      "clf score: 0.7602941176470588\n",
      "('2011-01', '2011-06')\n"
     ]
    },
    {
     "name": "stderr",
     "output_type": "stream",
     "text": [
      "/home/auscheng/anaconda3/lib/python3.7/site-packages/pandas/core/indexing.py:362: SettingWithCopyWarning: \n",
      "A value is trying to be set on a copy of a slice from a DataFrame.\n",
      "Try using .loc[row_indexer,col_indexer] = value instead\n",
      "\n",
      "See the caveats in the documentation: http://pandas.pydata.org/pandas-docs/stable/indexing.html#indexing-view-versus-copy\n",
      "  self.obj[key] = _infer_fill_value(value)\n",
      "/home/auscheng/anaconda3/lib/python3.7/site-packages/pandas/core/indexing.py:543: SettingWithCopyWarning: \n",
      "A value is trying to be set on a copy of a slice from a DataFrame.\n",
      "Try using .loc[row_indexer,col_indexer] = value instead\n",
      "\n",
      "See the caveats in the documentation: http://pandas.pydata.org/pandas-docs/stable/indexing.html#indexing-view-versus-copy\n",
      "  self.obj[item] = s\n"
     ]
    },
    {
     "name": "stdout",
     "output_type": "stream",
     "text": [
      "default reg score: 0.10694102394132021\n",
      "fully paid reg score: 0.773668633432282\n",
      "clf score: 0.6367816091954023\n",
      "('2011-07', '2011-12')\n"
     ]
    },
    {
     "name": "stderr",
     "output_type": "stream",
     "text": [
      "/home/auscheng/anaconda3/lib/python3.7/site-packages/pandas/core/indexing.py:362: SettingWithCopyWarning: \n",
      "A value is trying to be set on a copy of a slice from a DataFrame.\n",
      "Try using .loc[row_indexer,col_indexer] = value instead\n",
      "\n",
      "See the caveats in the documentation: http://pandas.pydata.org/pandas-docs/stable/indexing.html#indexing-view-versus-copy\n",
      "  self.obj[key] = _infer_fill_value(value)\n",
      "/home/auscheng/anaconda3/lib/python3.7/site-packages/pandas/core/indexing.py:543: SettingWithCopyWarning: \n",
      "A value is trying to be set on a copy of a slice from a DataFrame.\n",
      "Try using .loc[row_indexer,col_indexer] = value instead\n",
      "\n",
      "See the caveats in the documentation: http://pandas.pydata.org/pandas-docs/stable/indexing.html#indexing-view-versus-copy\n",
      "  self.obj[item] = s\n"
     ]
    },
    {
     "name": "stdout",
     "output_type": "stream",
     "text": [
      "default reg score: 0.1983869403756604\n",
      "fully paid reg score: 0.7563915024294996\n",
      "clf score: 0.670549084858569\n",
      "('2012-01', '2012-06')\n"
     ]
    },
    {
     "name": "stderr",
     "output_type": "stream",
     "text": [
      "/home/auscheng/anaconda3/lib/python3.7/site-packages/pandas/core/indexing.py:362: SettingWithCopyWarning: \n",
      "A value is trying to be set on a copy of a slice from a DataFrame.\n",
      "Try using .loc[row_indexer,col_indexer] = value instead\n",
      "\n",
      "See the caveats in the documentation: http://pandas.pydata.org/pandas-docs/stable/indexing.html#indexing-view-versus-copy\n",
      "  self.obj[key] = _infer_fill_value(value)\n",
      "/home/auscheng/anaconda3/lib/python3.7/site-packages/pandas/core/indexing.py:543: SettingWithCopyWarning: \n",
      "A value is trying to be set on a copy of a slice from a DataFrame.\n",
      "Try using .loc[row_indexer,col_indexer] = value instead\n",
      "\n",
      "See the caveats in the documentation: http://pandas.pydata.org/pandas-docs/stable/indexing.html#indexing-view-versus-copy\n",
      "  self.obj[item] = s\n"
     ]
    },
    {
     "name": "stdout",
     "output_type": "stream",
     "text": [
      "default reg score: 0.1012036180625826\n",
      "fully paid reg score: 0.7575076769181326\n",
      "clf score: 0.6626106194690266\n",
      "('2012-07', '2012-12')\n"
     ]
    },
    {
     "name": "stderr",
     "output_type": "stream",
     "text": [
      "/home/auscheng/anaconda3/lib/python3.7/site-packages/pandas/core/indexing.py:362: SettingWithCopyWarning: \n",
      "A value is trying to be set on a copy of a slice from a DataFrame.\n",
      "Try using .loc[row_indexer,col_indexer] = value instead\n",
      "\n",
      "See the caveats in the documentation: http://pandas.pydata.org/pandas-docs/stable/indexing.html#indexing-view-versus-copy\n",
      "  self.obj[key] = _infer_fill_value(value)\n",
      "/home/auscheng/anaconda3/lib/python3.7/site-packages/pandas/core/indexing.py:543: SettingWithCopyWarning: \n",
      "A value is trying to be set on a copy of a slice from a DataFrame.\n",
      "Try using .loc[row_indexer,col_indexer] = value instead\n",
      "\n",
      "See the caveats in the documentation: http://pandas.pydata.org/pandas-docs/stable/indexing.html#indexing-view-versus-copy\n",
      "  self.obj[item] = s\n"
     ]
    },
    {
     "name": "stdout",
     "output_type": "stream",
     "text": [
      "default reg score: 0.14675791064118782\n",
      "fully paid reg score: 0.7583108308553566\n",
      "clf score: 0.6464264962231261\n",
      "('2013-01', '2013-06')\n"
     ]
    },
    {
     "name": "stderr",
     "output_type": "stream",
     "text": [
      "/home/auscheng/anaconda3/lib/python3.7/site-packages/pandas/core/indexing.py:362: SettingWithCopyWarning: \n",
      "A value is trying to be set on a copy of a slice from a DataFrame.\n",
      "Try using .loc[row_indexer,col_indexer] = value instead\n",
      "\n",
      "See the caveats in the documentation: http://pandas.pydata.org/pandas-docs/stable/indexing.html#indexing-view-versus-copy\n",
      "  self.obj[key] = _infer_fill_value(value)\n",
      "/home/auscheng/anaconda3/lib/python3.7/site-packages/pandas/core/indexing.py:543: SettingWithCopyWarning: \n",
      "A value is trying to be set on a copy of a slice from a DataFrame.\n",
      "Try using .loc[row_indexer,col_indexer] = value instead\n",
      "\n",
      "See the caveats in the documentation: http://pandas.pydata.org/pandas-docs/stable/indexing.html#indexing-view-versus-copy\n",
      "  self.obj[item] = s\n"
     ]
    },
    {
     "name": "stdout",
     "output_type": "stream",
     "text": [
      "default reg score: 0.08782983899442054\n",
      "fully paid reg score: 0.706756427493408\n",
      "clf score: 0.6057987711213517\n",
      "('2013-07', '2013-12')\n"
     ]
    },
    {
     "name": "stderr",
     "output_type": "stream",
     "text": [
      "/home/auscheng/anaconda3/lib/python3.7/site-packages/pandas/core/indexing.py:362: SettingWithCopyWarning: \n",
      "A value is trying to be set on a copy of a slice from a DataFrame.\n",
      "Try using .loc[row_indexer,col_indexer] = value instead\n",
      "\n",
      "See the caveats in the documentation: http://pandas.pydata.org/pandas-docs/stable/indexing.html#indexing-view-versus-copy\n",
      "  self.obj[key] = _infer_fill_value(value)\n",
      "/home/auscheng/anaconda3/lib/python3.7/site-packages/pandas/core/indexing.py:543: SettingWithCopyWarning: \n",
      "A value is trying to be set on a copy of a slice from a DataFrame.\n",
      "Try using .loc[row_indexer,col_indexer] = value instead\n",
      "\n",
      "See the caveats in the documentation: http://pandas.pydata.org/pandas-docs/stable/indexing.html#indexing-view-versus-copy\n",
      "  self.obj[item] = s\n"
     ]
    },
    {
     "name": "stdout",
     "output_type": "stream",
     "text": [
      "default reg score: 0.058546027522202504\n",
      "fully paid reg score: 0.7345629467000139\n",
      "clf score: 0.6136420214090117\n",
      "('2014-01', '2014-06')\n"
     ]
    },
    {
     "name": "stderr",
     "output_type": "stream",
     "text": [
      "/home/auscheng/anaconda3/lib/python3.7/site-packages/pandas/core/indexing.py:362: SettingWithCopyWarning: \n",
      "A value is trying to be set on a copy of a slice from a DataFrame.\n",
      "Try using .loc[row_indexer,col_indexer] = value instead\n",
      "\n",
      "See the caveats in the documentation: http://pandas.pydata.org/pandas-docs/stable/indexing.html#indexing-view-versus-copy\n",
      "  self.obj[key] = _infer_fill_value(value)\n",
      "/home/auscheng/anaconda3/lib/python3.7/site-packages/pandas/core/indexing.py:543: SettingWithCopyWarning: \n",
      "A value is trying to be set on a copy of a slice from a DataFrame.\n",
      "Try using .loc[row_indexer,col_indexer] = value instead\n",
      "\n",
      "See the caveats in the documentation: http://pandas.pydata.org/pandas-docs/stable/indexing.html#indexing-view-versus-copy\n",
      "  self.obj[item] = s\n"
     ]
    },
    {
     "name": "stdout",
     "output_type": "stream",
     "text": [
      "default reg score: 0.048126962204612767\n",
      "fully paid reg score: 0.7182491392972822\n",
      "clf score: 0.6120323559150658\n",
      "('2014-07', '2014-12')\n"
     ]
    },
    {
     "name": "stderr",
     "output_type": "stream",
     "text": [
      "/home/auscheng/anaconda3/lib/python3.7/site-packages/pandas/core/indexing.py:362: SettingWithCopyWarning: \n",
      "A value is trying to be set on a copy of a slice from a DataFrame.\n",
      "Try using .loc[row_indexer,col_indexer] = value instead\n",
      "\n",
      "See the caveats in the documentation: http://pandas.pydata.org/pandas-docs/stable/indexing.html#indexing-view-versus-copy\n",
      "  self.obj[key] = _infer_fill_value(value)\n",
      "/home/auscheng/anaconda3/lib/python3.7/site-packages/pandas/core/indexing.py:543: SettingWithCopyWarning: \n",
      "A value is trying to be set on a copy of a slice from a DataFrame.\n",
      "Try using .loc[row_indexer,col_indexer] = value instead\n",
      "\n",
      "See the caveats in the documentation: http://pandas.pydata.org/pandas-docs/stable/indexing.html#indexing-view-versus-copy\n",
      "  self.obj[item] = s\n"
     ]
    },
    {
     "name": "stdout",
     "output_type": "stream",
     "text": [
      "default reg score: 0.048391097691782625\n",
      "fully paid reg score: 0.757977581758871\n",
      "clf score: 0.6047495120364346\n",
      "('2015-01', '2015-06')\n"
     ]
    },
    {
     "name": "stderr",
     "output_type": "stream",
     "text": [
      "/home/auscheng/anaconda3/lib/python3.7/site-packages/pandas/core/indexing.py:362: SettingWithCopyWarning: \n",
      "A value is trying to be set on a copy of a slice from a DataFrame.\n",
      "Try using .loc[row_indexer,col_indexer] = value instead\n",
      "\n",
      "See the caveats in the documentation: http://pandas.pydata.org/pandas-docs/stable/indexing.html#indexing-view-versus-copy\n",
      "  self.obj[key] = _infer_fill_value(value)\n",
      "/home/auscheng/anaconda3/lib/python3.7/site-packages/pandas/core/indexing.py:543: SettingWithCopyWarning: \n",
      "A value is trying to be set on a copy of a slice from a DataFrame.\n",
      "Try using .loc[row_indexer,col_indexer] = value instead\n",
      "\n",
      "See the caveats in the documentation: http://pandas.pydata.org/pandas-docs/stable/indexing.html#indexing-view-versus-copy\n",
      "  self.obj[item] = s\n"
     ]
    },
    {
     "name": "stdout",
     "output_type": "stream",
     "text": [
      "default reg score: 0.07253648510207422\n",
      "fully paid reg score: 0.779389962012208\n",
      "clf score: 0.60319122720552\n",
      "('2015-07', '2015-12')\n"
     ]
    },
    {
     "name": "stderr",
     "output_type": "stream",
     "text": [
      "/home/auscheng/anaconda3/lib/python3.7/site-packages/pandas/core/indexing.py:362: SettingWithCopyWarning: \n",
      "A value is trying to be set on a copy of a slice from a DataFrame.\n",
      "Try using .loc[row_indexer,col_indexer] = value instead\n",
      "\n",
      "See the caveats in the documentation: http://pandas.pydata.org/pandas-docs/stable/indexing.html#indexing-view-versus-copy\n",
      "  self.obj[key] = _infer_fill_value(value)\n",
      "/home/auscheng/anaconda3/lib/python3.7/site-packages/pandas/core/indexing.py:543: SettingWithCopyWarning: \n",
      "A value is trying to be set on a copy of a slice from a DataFrame.\n",
      "Try using .loc[row_indexer,col_indexer] = value instead\n",
      "\n",
      "See the caveats in the documentation: http://pandas.pydata.org/pandas-docs/stable/indexing.html#indexing-view-versus-copy\n",
      "  self.obj[item] = s\n"
     ]
    },
    {
     "name": "stdout",
     "output_type": "stream",
     "text": [
      "default reg score: 0.06575664060158204\n",
      "fully paid reg score: 0.7671734102468297\n",
      "clf score: 0.5984441301272985\n",
      "('2016-01', '2016-06')\n"
     ]
    },
    {
     "name": "stderr",
     "output_type": "stream",
     "text": [
      "/home/auscheng/anaconda3/lib/python3.7/site-packages/pandas/core/indexing.py:362: SettingWithCopyWarning: \n",
      "A value is trying to be set on a copy of a slice from a DataFrame.\n",
      "Try using .loc[row_indexer,col_indexer] = value instead\n",
      "\n",
      "See the caveats in the documentation: http://pandas.pydata.org/pandas-docs/stable/indexing.html#indexing-view-versus-copy\n",
      "  self.obj[key] = _infer_fill_value(value)\n",
      "/home/auscheng/anaconda3/lib/python3.7/site-packages/pandas/core/indexing.py:543: SettingWithCopyWarning: \n",
      "A value is trying to be set on a copy of a slice from a DataFrame.\n",
      "Try using .loc[row_indexer,col_indexer] = value instead\n",
      "\n",
      "See the caveats in the documentation: http://pandas.pydata.org/pandas-docs/stable/indexing.html#indexing-view-versus-copy\n",
      "  self.obj[item] = s\n"
     ]
    },
    {
     "name": "stdout",
     "output_type": "stream",
     "text": [
      "default reg score: 0.034633802037742245\n",
      "fully paid reg score: 0.7739930482819554\n",
      "clf score: 0.6005397335783188\n",
      "('2016-07', '2016-12')\n"
     ]
    },
    {
     "name": "stderr",
     "output_type": "stream",
     "text": [
      "/home/auscheng/anaconda3/lib/python3.7/site-packages/pandas/core/indexing.py:362: SettingWithCopyWarning: \n",
      "A value is trying to be set on a copy of a slice from a DataFrame.\n",
      "Try using .loc[row_indexer,col_indexer] = value instead\n",
      "\n",
      "See the caveats in the documentation: http://pandas.pydata.org/pandas-docs/stable/indexing.html#indexing-view-versus-copy\n",
      "  self.obj[key] = _infer_fill_value(value)\n",
      "/home/auscheng/anaconda3/lib/python3.7/site-packages/pandas/core/indexing.py:543: SettingWithCopyWarning: \n",
      "A value is trying to be set on a copy of a slice from a DataFrame.\n",
      "Try using .loc[row_indexer,col_indexer] = value instead\n",
      "\n",
      "See the caveats in the documentation: http://pandas.pydata.org/pandas-docs/stable/indexing.html#indexing-view-versus-copy\n",
      "  self.obj[item] = s\n"
     ]
    },
    {
     "name": "stdout",
     "output_type": "stream",
     "text": [
      "default reg score: 0.08709669075527593\n",
      "fully paid reg score: 0.7725742284930186\n",
      "clf score: 0.6068208879061064\n",
      "('2017-01', '2017-06')\n"
     ]
    },
    {
     "name": "stderr",
     "output_type": "stream",
     "text": [
      "/home/auscheng/anaconda3/lib/python3.7/site-packages/pandas/core/indexing.py:362: SettingWithCopyWarning: \n",
      "A value is trying to be set on a copy of a slice from a DataFrame.\n",
      "Try using .loc[row_indexer,col_indexer] = value instead\n",
      "\n",
      "See the caveats in the documentation: http://pandas.pydata.org/pandas-docs/stable/indexing.html#indexing-view-versus-copy\n",
      "  self.obj[key] = _infer_fill_value(value)\n",
      "/home/auscheng/anaconda3/lib/python3.7/site-packages/pandas/core/indexing.py:543: SettingWithCopyWarning: \n",
      "A value is trying to be set on a copy of a slice from a DataFrame.\n",
      "Try using .loc[row_indexer,col_indexer] = value instead\n",
      "\n",
      "See the caveats in the documentation: http://pandas.pydata.org/pandas-docs/stable/indexing.html#indexing-view-versus-copy\n",
      "  self.obj[item] = s\n"
     ]
    },
    {
     "name": "stdout",
     "output_type": "stream",
     "text": [
      "default reg score: 0.10279900230669536\n",
      "fully paid reg score: 0.7419381061919874\n",
      "clf score: 0.5843253968253969\n",
      "('2017-07', '2017-12')\n"
     ]
    },
    {
     "name": "stderr",
     "output_type": "stream",
     "text": [
      "/home/auscheng/anaconda3/lib/python3.7/site-packages/pandas/core/indexing.py:362: SettingWithCopyWarning: \n",
      "A value is trying to be set on a copy of a slice from a DataFrame.\n",
      "Try using .loc[row_indexer,col_indexer] = value instead\n",
      "\n",
      "See the caveats in the documentation: http://pandas.pydata.org/pandas-docs/stable/indexing.html#indexing-view-versus-copy\n",
      "  self.obj[key] = _infer_fill_value(value)\n",
      "/home/auscheng/anaconda3/lib/python3.7/site-packages/pandas/core/indexing.py:543: SettingWithCopyWarning: \n",
      "A value is trying to be set on a copy of a slice from a DataFrame.\n",
      "Try using .loc[row_indexer,col_indexer] = value instead\n",
      "\n",
      "See the caveats in the documentation: http://pandas.pydata.org/pandas-docs/stable/indexing.html#indexing-view-versus-copy\n",
      "  self.obj[item] = s\n"
     ]
    },
    {
     "name": "stdout",
     "output_type": "stream",
     "text": [
      "default reg score: 0.13518176822192363\n",
      "fully paid reg score: 0.7313821503040295\n",
      "clf score: 0.6400984966303784\n",
      "('2018-01', '2018-06')\n"
     ]
    },
    {
     "name": "stderr",
     "output_type": "stream",
     "text": [
      "/home/auscheng/anaconda3/lib/python3.7/site-packages/pandas/core/indexing.py:362: SettingWithCopyWarning: \n",
      "A value is trying to be set on a copy of a slice from a DataFrame.\n",
      "Try using .loc[row_indexer,col_indexer] = value instead\n",
      "\n",
      "See the caveats in the documentation: http://pandas.pydata.org/pandas-docs/stable/indexing.html#indexing-view-versus-copy\n",
      "  self.obj[key] = _infer_fill_value(value)\n",
      "/home/auscheng/anaconda3/lib/python3.7/site-packages/pandas/core/indexing.py:543: SettingWithCopyWarning: \n",
      "A value is trying to be set on a copy of a slice from a DataFrame.\n",
      "Try using .loc[row_indexer,col_indexer] = value instead\n",
      "\n",
      "See the caveats in the documentation: http://pandas.pydata.org/pandas-docs/stable/indexing.html#indexing-view-versus-copy\n",
      "  self.obj[item] = s\n"
     ]
    },
    {
     "name": "stdout",
     "output_type": "stream",
     "text": [
      "default reg score: 0.19215801520373121\n",
      "fully paid reg score: 0.6171515585044591\n",
      "clf score: 0.6618236472945892\n",
      "('2018-07', '2018-12')\n"
     ]
    },
    {
     "name": "stderr",
     "output_type": "stream",
     "text": [
      "/home/auscheng/anaconda3/lib/python3.7/site-packages/pandas/core/indexing.py:362: SettingWithCopyWarning: \n",
      "A value is trying to be set on a copy of a slice from a DataFrame.\n",
      "Try using .loc[row_indexer,col_indexer] = value instead\n",
      "\n",
      "See the caveats in the documentation: http://pandas.pydata.org/pandas-docs/stable/indexing.html#indexing-view-versus-copy\n",
      "  self.obj[key] = _infer_fill_value(value)\n",
      "/home/auscheng/anaconda3/lib/python3.7/site-packages/pandas/core/indexing.py:543: SettingWithCopyWarning: \n",
      "A value is trying to be set on a copy of a slice from a DataFrame.\n",
      "Try using .loc[row_indexer,col_indexer] = value instead\n",
      "\n",
      "See the caveats in the documentation: http://pandas.pydata.org/pandas-docs/stable/indexing.html#indexing-view-versus-copy\n",
      "  self.obj[item] = s\n"
     ]
    },
    {
     "name": "stdout",
     "output_type": "stream",
     "text": [
      "default reg score: 0.04899192860131374\n",
      "fully paid reg score: 0.5719405321051072\n",
      "clf score: 0.6965376782077393\n"
     ]
    }
   ],
   "source": [
    "for timeIncrement in timeWindows:\n",
    "    # Slicing the dataframe into incremental ones based on time\n",
    "    print(timeIncrement)\n",
    "    df=total_df.loc[(total_df.issue_d>=timeIncrement[0]) & (total_df.issue_d<=timeIncrement[1]),:]\n",
    "    pre_sample_df=pre_df.loc[(pre_df.issue_d>=timeIncrement[0]) & (pre_df.issue_d<=timeIncrement[1]),:]\n",
    "\n",
    "    df.loc[:,'weight']=df.loc[:,'grade'].map(grade_weight_dict)\n",
    "    grade_weight_array=df.loc[:,'weight'].values\n",
    "    index = df.index\n",
    "    grade_weight_frame = pd.DataFrame(grade_weight_array, index=index)\n",
    "\n",
    "#     drop_list=['id','sub_grade','issue_d','zip_code','loan_duration','loan_status','return_rate','weight','RANDOM']\n",
    "    drop_list=['sub_grade','issue_d','duration','loan_status','return_rate','weight','total_payout']\n",
    "\n",
    "    x_train_clf=df.drop(drop_list,axis=1)\n",
    "    x_train_reg_paid=df.loc[df.loc[:,'loan_status']=='Fully Paid',:].drop(drop_list,axis=1)\n",
    "    x_train_reg_default=df.loc[df.loc[:,'loan_status']=='Default',:].drop(drop_list,axis=1)\n",
    "    y_train_clf=df.loc[:,'loan_status']\n",
    "    y_train_reg_paid=df.loc[df.loc[:,'loan_status']=='Fully Paid',:].loc[:,'return_rate']\n",
    "    y_train_reg_default=df.loc[df.loc[:,'loan_status']=='Default',:].loc[:,'return_rate']\n",
    "\n",
    "    cat_list=columns_of_type(x_train_clf,'string')\n",
    "\n",
    "    x_train_clf.reset_index(drop=True,inplace=True)\n",
    "    x_train_clf=label_encode_column(x_train_clf,cat_list)\n",
    "    x_train_reg_paid.reset_index(drop=True,inplace=True)\n",
    "    x_train_reg_paid=label_encode_column(x_train_reg_paid,cat_list)\n",
    "    x_train_reg_default.reset_index(drop=True,inplace=True)\n",
    "    x_train_reg_default=label_encode_column(x_train_reg_default,cat_list)\n",
    "\n",
    "    grid_para_forest = {\n",
    "    'n_estimators': [10,20,30],\n",
    "    'max_depth':[3,4,5],\n",
    "    'max_features':['auto'],\n",
    "    'min_samples_leaf':[10,15,20],\n",
    "    'min_samples_split':[10,15,20]\n",
    "    }\n",
    "    ######################################################################\n",
    "    ########### Regression Score ######################\n",
    "    def grade_weighted_r2(y_true,y_pred,sample_weight):        \n",
    "\n",
    "            weighted_r2=r2_score(y_true,y_pred,sample_weight=sample_weight.loc[y_true.index.values].values.reshape(-1))\n",
    "            return weighted_r2    \n",
    "\n",
    "    score_params = {\"sample_weight\": grade_weight_frame}\n",
    "\n",
    "    grade_weighted_scorer_r2 = make_scorer(score_func=grade_weighted_r2,\n",
    "                                        greater_is_better=True,\n",
    "                                        needs_proba=False,\n",
    "                                        needs_threshold=False,\n",
    "                                        **score_params)\n",
    "    ########### Default Regression ####################\n",
    "    grid_search_forest_reg_default = GridSearchCV(estimator = RandomForestRegressor(), param_grid = grid_para_forest,\n",
    "                                          scoring=grade_weighted_scorer_r2,\n",
    "                                          cv = 5, n_jobs = -1,iid=False)\n",
    "    grid_search_forest_reg_default.fit(x_train_reg_default,y_train_reg_default)\n",
    "    print('default reg score:',grid_search_forest_reg_default.score(x_train_reg_default,y_train_reg_default))\n",
    "    ########### Fully-Paid Regression #################\n",
    "    grid_search_forest_reg_paid = GridSearchCV(estimator = RandomForestRegressor(), param_grid = grid_para_forest,\n",
    "                                          scoring=grade_weighted_scorer_r2,\n",
    "                                          cv = 5, n_jobs = -1,iid=False)\n",
    "    grid_search_forest_reg_paid.fit(x_train_reg_paid,y_train_reg_paid)\n",
    "    print('fully paid reg score:',grid_search_forest_reg_paid.score(x_train_reg_paid,y_train_reg_paid))\n",
    "    ######################################################################   \n",
    "    ########### Classification Score ###############\n",
    "    def grade_weighted_accuracy(y_true,y_pred,sample_weight):\n",
    "            weighted_acc=accuracy_score(y_true,y_pred,\n",
    "                                        sample_weight=sample_weight.loc[y_true.index.values].values.reshape(-1),\n",
    "                                        normalize=True)\n",
    "            return weighted_acc \n",
    "\n",
    "    score_params = {\"sample_weight\": grade_weight_frame}\n",
    "\n",
    "    grade_weighted_scorer_acc = make_scorer(score_func=grade_weighted_accuracy,\n",
    "                                        greater_is_better=True,\n",
    "                                        needs_proba=False,\n",
    "                                        needs_threshold=False,\n",
    "                                        **score_params)\n",
    "    ########### Classification #####################\n",
    "    grid_search_forest_clf = GridSearchCV(estimator=RandomForestClassifier(),\\\n",
    "                                          param_grid=grid_para_forest,\\\n",
    "                                          n_jobs=-1,\\\n",
    "                                          scoring=grade_weighted_scorer_acc,cv=5,\\\n",
    "                                          return_train_score=False,iid=False)\n",
    "    grid_search_forest_clf.fit(x_train_clf,y_train_clf)\n",
    "    print('clf score:',grid_search_forest_clf.score(x_train_clf,y_train_clf))\n",
    "    \n",
    "    ########### Grade Default Rates for this time frame #####################\n",
    "    time_grade_default_rate_dict=grade_default_rate(pre_sample_df)\n",
    "    # To avoid dividing by zeros in future steps. dictionary values of 1 yield nan later on.\n",
    "    for key, val in time_grade_default_rate_dict.items(): \n",
    "        if val == 1:\n",
    "            print('grade weight adjust')\n",
    "            time_grade_default_rate_dict[key]=0.95  \n",
    "            print(key,':',time_grade_default_rate_dict[key])\n",
    "    ##########################################################################\n",
    "    # Saving to Pickle\n",
    "    pickle.dump(grid_search_forest_clf, file_clf)\n",
    "    pickle.dump(time_grade_default_rate_dict, file_time_grade_default_rate)\n",
    "    pickle.dump(grid_search_forest_reg_default, file_reg_def)    \n",
    "    pickle.dump(grid_search_forest_reg_paid, file_reg_paid)"
   ]
  },
  {
   "cell_type": "code",
   "execution_count": 18,
   "metadata": {},
   "outputs": [],
   "source": [
    "file_clf.close()\n",
    "file_reg_def.close()\n",
    "file_reg_paid.close()\n",
    "file_time_grade_default_rate.close()"
   ]
  },
  {
   "cell_type": "code",
   "execution_count": null,
   "metadata": {},
   "outputs": [],
   "source": []
  },
  {
   "cell_type": "code",
   "execution_count": null,
   "metadata": {},
   "outputs": [],
   "source": []
  },
  {
   "cell_type": "code",
   "execution_count": null,
   "metadata": {},
   "outputs": [],
   "source": []
  },
  {
   "cell_type": "code",
   "execution_count": 10,
   "metadata": {},
   "outputs": [],
   "source": [
    "# my_x,my_y=data_transform(df.sample(1000),drop_list,'loan_status',grade_weight_dict)\n",
    "# my_x,my_y=data_transform(df,drop_list,'return_rate',grade_weight_dict)"
   ]
  },
  {
   "cell_type": "code",
   "execution_count": 11,
   "metadata": {},
   "outputs": [],
   "source": [
    "# # Load from file\n",
    "# with open('pickle_model_clf.pkl', 'rb') as file:\n",
    "#     pickle_model = pickle.load(file)\n",
    "    \n",
    "# # Calculate the accuracy score and predict target values\n",
    "# score = pickle_model.score(my_x, my_y)\n",
    "# print(\"Test score: {0:.2f} %\".format(100 * score))\n",
    "# Ypredict = pickle_model.predict(my_x)"
   ]
  },
  {
   "cell_type": "code",
   "execution_count": 12,
   "metadata": {},
   "outputs": [],
   "source": [
    "# with open('pickle_model_reg_def.pkl', 'rb') as file:\n",
    "#     pickle_model = pickle.load(file)\n",
    "#     pickle_model2 = pickle.load(file)\n",
    "#     pickle_model3 = pickle.load(file)\n",
    "#     pickle_model4 = pickle.load(file)\n",
    "\n",
    "# # Calculate the accuracy score and predict target values\n",
    "# score = pickle_model.score(my_x, my_y)\n",
    "# print(\"Test score: {0:.2f} %\".format(100 * score))\n",
    "# Ypredict = pickle_model.predict(my_x)"
   ]
  },
  {
   "cell_type": "code",
   "execution_count": 13,
   "metadata": {},
   "outputs": [],
   "source": [
    "# with open('pickle_model_reg_paid.pkl', 'rb') as file:\n",
    "#     pickle_model = pickle.load(file)\n",
    "#     pickle_model2 = pickle.load(file)\n",
    "#     pickle_model3 = pickle.load(file)\n",
    "#     pickle_model4 = pickle.load(file)\n",
    "\n",
    "# # Calculate the accuracy score and predict target values\n",
    "# score = pickle_model.score(my_x, my_y)\n",
    "# print(\"Test score: {0:.2f} %\".format(100 * score))\n",
    "# Ypredict = pickle_model.predict(my_x)"
   ]
  },
  {
   "cell_type": "code",
   "execution_count": 14,
   "metadata": {},
   "outputs": [],
   "source": [
    "# score = pickle_model.score(my_x, my_y)\n",
    "# print(\"Test score: {0:.2f} %\".format(100 * score))\n",
    "# Ypredict = pickle_model2.predict(my_x)"
   ]
  },
  {
   "cell_type": "code",
   "execution_count": 15,
   "metadata": {},
   "outputs": [],
   "source": [
    "# score = pickle_model.score(my_x, my_y)\n",
    "# print(\"Test score: {0:.2f} %\".format(100 * score))\n",
    "# Ypredict = pickle_model3.predict(my_x)"
   ]
  },
  {
   "cell_type": "code",
   "execution_count": 16,
   "metadata": {},
   "outputs": [],
   "source": [
    "# score = pickle_model.score(my_x, my_y)\n",
    "# print(\"Test score: {0:.2f} %\".format(100 * score))\n",
    "# Ypredict = pickle_model4.predict(my_x)"
   ]
  },
  {
   "cell_type": "code",
   "execution_count": 17,
   "metadata": {
    "scrolled": true
   },
   "outputs": [],
   "source": [
    "# score = pickle_model.score(my_x, my_y)\n",
    "# print(\"Test score: {0:.2f} %\".format(100 * score))\n",
    "# Ypredict = pickle_model5.predict(my_x)"
   ]
  }
 ],
 "metadata": {
  "kernelspec": {
   "display_name": "Python 3",
   "language": "python",
   "name": "python3"
  },
  "language_info": {
   "codemirror_mode": {
    "name": "ipython",
    "version": 3
   },
   "file_extension": ".py",
   "mimetype": "text/x-python",
   "name": "python",
   "nbconvert_exporter": "python",
   "pygments_lexer": "ipython3",
   "version": "3.7.3"
  }
 },
 "nbformat": 4,
 "nbformat_minor": 2
}
