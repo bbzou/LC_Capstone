{
 "cells": [
  {
   "cell_type": "code",
   "execution_count": null,
   "metadata": {},
   "outputs": [],
   "source": [
    "def dummify_column(dataframe,column_name):\n",
    "    '''\n",
    "    ### NOTE!!! ### vector operation not working yet!!!! ###\n",
    "    - dataframe takes the entire dataframe you are working on\n",
    "    - column_name takes a list of strings, where the strings are the column names\n",
    "    '''\n",
    "    for feature in column_name:\n",
    "        dummified_feature = pd.get_dummies(dataframe.loc[:,feature], prefix=feature, prefix_sep='__',drop_first=True)\n",
    "        dummified_df = pd.concat([dataframe.drop(feature,axis=1),dummified_feature],axis=1,sort='False')\n",
    "    return dummified_df\n",
    "\n",
    "def undummify(dataframe):\n",
    "    tot_col=dataframe.columns\n",
    "    cat_col=list(tot_col[tot_col.str.contains('__')])\n",
    "    cat_col_split=set(map(lambda x:x.split('__')[0],cat_col))\n",
    "    cat_dict={}\n",
    "    for col in cat_col_split:\n",
    "        sub_df=dataframe[cat_col].loc[:,list(map(lambda x:col in x, dataframe[cat_col].columns))]\n",
    "        for i in sub_df.columns:\n",
    "            label_num=int(i.split('__')[1])\n",
    "            sub_df.loc[:,i]=np.array(sub_df.loc[:,i])*label_num\n",
    "        cat_dict[col]=sub_df.sum(axis=1)+1\n",
    "    df1=dataframe.drop(cat_col,axis=1)\n",
    "    df2=pd.DataFrame(cat_dict)\n",
    "    return pd.concat([df1,df2],axis=1)\n",
    "\n",
    "def label_encode_column(dataframe,column_name):\n",
    "    '''\n",
    "    ### NOTE!!! ### vector operation not working yet!!!! ###\n",
    "    - dataframe takes the entire dataframe you are working on\n",
    "    - column_name takes a list of strings, where the strings are the column names\n",
    "    '''\n",
    "    from sklearn import preprocessing \n",
    "    label_encoder = preprocessing.LabelEncoder() \n",
    "    for feature in column_name:\n",
    "        dataframe.loc[:,feature]=label_encoder.fit_transform(dataframe.loc[:,feature])\n",
    "    return dataframe   \n",
    "\n",
    "def feature_standardize(data,scaleType='standardize'):\n",
    "    '''\n",
    "    - Accepts a dataframe column\n",
    "    '''\n",
    "    if scaleType not in ['standardize', 'normalize']: \n",
    "        raise ValueError('%s is not a valid choice' %(scaleType))\n",
    "    mean_value=np.mean(data)\n",
    "    standard_dev=np.std(data)\n",
    "    min_value=np.min(data)\n",
    "    max_value=np.max(data)\n",
    "    if scaleType == 'standardize':\n",
    "        return((data-mean_value)/standard_dev) \n",
    "    elif scaleType == 'normalize':\n",
    "        return((data-min_value)/(max_value-min_value))"
   ]
  }
 ],
 "metadata": {
  "kernelspec": {
   "display_name": "Python 3",
   "language": "python",
   "name": "python3"
  },
  "language_info": {
   "codemirror_mode": {
    "name": "ipython",
    "version": 3
   },
   "file_extension": ".py",
   "mimetype": "text/x-python",
   "name": "python",
   "nbconvert_exporter": "python",
   "pygments_lexer": "ipython3",
   "version": "3.7.4"
  }
 },
 "nbformat": 4,
 "nbformat_minor": 2
}
