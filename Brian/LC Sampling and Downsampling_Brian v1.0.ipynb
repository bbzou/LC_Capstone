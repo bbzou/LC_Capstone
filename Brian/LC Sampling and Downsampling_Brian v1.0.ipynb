{
 "cells": [
  {
   "cell_type": "code",
   "execution_count": 1,
   "metadata": {},
   "outputs": [],
   "source": [
    "import pandas as pd\n",
    "import numpy as np\n",
    "import matplotlib as plt\n",
    "import seaborn as sns\n",
    "\n",
    "# import missingno as msno\n",
    "# import pandas_profiling"
   ]
  },
  {
   "cell_type": "code",
   "execution_count": 2,
   "metadata": {},
   "outputs": [],
   "source": [
    "filepath = './Completed Loans_Outliers Clipped.csv.gz'\n",
    "data_completed = pd.read_csv(filepath, compression = 'gzip')"
   ]
  },
  {
   "cell_type": "code",
   "execution_count": 3,
   "metadata": {},
   "outputs": [
    {
     "data": {
      "text/plain": [
       "(1345774, 55)"
      ]
     },
     "execution_count": 3,
     "metadata": {},
     "output_type": "execute_result"
    }
   ],
   "source": [
    "data_completed.shape"
   ]
  },
  {
   "cell_type": "code",
   "execution_count": 4,
   "metadata": {},
   "outputs": [],
   "source": [
    "## define a function that randomly samples a fraction (10% by def) of grouped dataframe (grouped by 'issue_d' by def)\n",
    "## this function also tackles imbalance of the dataframe\n",
    "\n",
    "def sampling(df, by = ['issue_d', 'grade'], imbalance = 'loan_status', fraction = 0.1, random_seed = 1, compromise_size = True):\n",
    "    # create a list for the sampled row index\n",
    "    lst_sample = []\n",
    "    \n",
    "    # groupby the defined columns\n",
    "    grp = df.groupby(by)\n",
    "    # list of sub-group keys\n",
    "    keys = grp.groups.keys()\n",
    "    \n",
    "    # randomly sample a fraction of data from each subgroup\n",
    "    for key in keys:\n",
    "        \n",
    "        # subgroup dataframe\n",
    "        df_grp = grp.get_group(name = key)\n",
    "        df_def = df_grp[df_grp[imbalance] == 'Default']\n",
    "        df_paid = df_grp[df_grp[imbalance] != 'Default']\n",
    "        \n",
    "        # rows of the total sub-df and default df\n",
    "        grp_size = df_grp.shape[0]\n",
    "        def_size = df_def.shape[0]\n",
    "        \n",
    "        # num of samples to be drawn from this subgroup\n",
    "        grp_sample_size = int(grp_size * fraction)\n",
    "        \n",
    "        # conditions of whether the default size in this subgroup is < half of the targeted sample size\n",
    "        # if so, we will sample all of the default obs\n",
    "        if def_size <= int(grp_sample_size / 2):\n",
    "            \n",
    "            # use all default observations\n",
    "            lst_def = df_def.index.tolist()\n",
    "            \n",
    "            # [compromise_size] indicates whether we are willing to sample less than the defined fraction \n",
    "            # of data given the default observations are too few in the subgroup\n",
    "            if compromise_size:\n",
    "                # randomly draw the same num of fully paid obs as default\n",
    "                # -> the total sample size from this group will be < defined fraction\n",
    "                lst_paid = df_paid.sample(n = def_size, random_state = random_seed).index.tolist()\n",
    "            else:    \n",
    "                # still sample the defined fraction of data from this subgroup and allocate all rest to fully paid\n",
    "                # fully paid size = targeted group sample size - default size\n",
    "                paid_size = grp_sample_size - def_size\n",
    "                lst_paid = df_paid.sample(n = paid_size, random_state = random_seed).index.tolist()\n",
    "            \n",
    "            # append both default and fully paid lists to the final list \n",
    "            lst_sample.extend(lst_def)\n",
    "            lst_sample.extend(lst_paid)\n",
    "        else:\n",
    "            # if default obs are >5% then we split the sample btwn default and fully paid\n",
    "            lst_def = df_def.sample(n = int(grp_sample_size / 2), random_state = random_seed).index.tolist()\n",
    "            lst_paid = df_paid.sample(n = int(grp_sample_size / 2), random_state = random_seed).index.tolist()\n",
    "            \n",
    "            # append both default and fully paid lists to the final list\n",
    "            lst_sample.extend(lst_def)\n",
    "            lst_sample.extend(lst_paid)\n",
    "    \n",
    "    # use the index list (lst_sample) to get the sampled dataframe\n",
    "    df_sample = df.iloc[lst_sample]\n",
    "    \n",
    "    return df_sample        "
   ]
  },
  {
   "cell_type": "code",
   "execution_count": 5,
   "metadata": {},
   "outputs": [
    {
     "data": {
      "text/plain": [
       "(132894, 55)"
      ]
     },
     "execution_count": 5,
     "metadata": {},
     "output_type": "execute_result"
    }
   ],
   "source": [
    "data_sample = sampling(data_completed)\n",
    "data_sample.shape"
   ]
  },
  {
   "cell_type": "code",
   "execution_count": null,
   "metadata": {},
   "outputs": [],
   "source": [
    "data_sample_no_compromise = sampling(data_completed, compromise_size = False)\n",
    "data_sample_no_compromise.shape"
   ]
  },
  {
   "cell_type": "markdown",
   "metadata": {},
   "source": [
    "### Save Sampled Dataset"
   ]
  },
  {
   "cell_type": "code",
   "execution_count": 6,
   "metadata": {},
   "outputs": [],
   "source": [
    "data_sample.to_csv(path_or_buf = 'Sampled Dataset_Balanced.csv.gz', compression = 'gzip', index = False)"
   ]
  },
  {
   "cell_type": "code",
   "execution_count": null,
   "metadata": {},
   "outputs": [],
   "source": [
    "data_sample_no_compromise.to_csv(path_or_buf = 'Sampled Dataset_Balanced (Size Compromised).csv.gz', compression = 'gzip', index = False)"
   ]
  },
  {
   "cell_type": "markdown",
   "metadata": {},
   "source": [
    "##### Save Default & Fully-Paid Observations From Sampled Dataset"
   ]
  },
  {
   "cell_type": "code",
   "execution_count": 7,
   "metadata": {},
   "outputs": [],
   "source": [
    "data_sample[data_sample.loan_status == 'Default'].to_csv(path_or_buf = 'Sampled Dataset_Default.csv.gz', compression = 'gzip', index = False)"
   ]
  },
  {
   "cell_type": "code",
   "execution_count": 8,
   "metadata": {},
   "outputs": [],
   "source": [
    "data_sample[data_sample.loan_status != 'Default'].to_csv(path_or_buf = 'Sampled Dataset_Fully Paid.csv.gz', compression = 'gzip', index = False)"
   ]
  },
  {
   "cell_type": "markdown",
   "metadata": {},
   "source": [
    "### Save Holdout Dataset"
   ]
  },
  {
   "cell_type": "code",
   "execution_count": 9,
   "metadata": {},
   "outputs": [],
   "source": [
    "index_holdout = list(set(data_completed.index) - set(data_sample.index))\n",
    "data_holdout = data_completed.iloc[index_holdout]"
   ]
  },
  {
   "cell_type": "code",
   "execution_count": 11,
   "metadata": {},
   "outputs": [],
   "source": [
    "data_holdout.sample(n = int(0.05 * data_completed.shape[0]), random_state = 1).to_csv(path_or_buf = 'Holdout Dataset.csv.gz', compression = 'gzip', index = False)"
   ]
  },
  {
   "cell_type": "code",
   "execution_count": null,
   "metadata": {},
   "outputs": [],
   "source": []
  }
 ],
 "metadata": {
  "kernelspec": {
   "display_name": "Python 3",
   "language": "python",
   "name": "python3"
  },
  "language_info": {
   "codemirror_mode": {
    "name": "ipython",
    "version": 3
   },
   "file_extension": ".py",
   "mimetype": "text/x-python",
   "name": "python",
   "nbconvert_exporter": "python",
   "pygments_lexer": "ipython3",
   "version": "3.7.3"
  }
 },
 "nbformat": 4,
 "nbformat_minor": 2
}
