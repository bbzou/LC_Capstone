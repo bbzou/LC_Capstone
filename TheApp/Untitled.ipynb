{
 "cells": [
  {
   "cell_type": "code",
   "execution_count": 1,
   "metadata": {},
   "outputs": [],
   "source": [
    "#!/usr/bin/env python3\n",
    "# -*- coding: utf-8 -*-\n",
    "\"\"\"\n",
    "Created on Sun Dec 8 21:24:01 2019\n",
    "\n",
    "@author: hanhao\n",
    "\"\"\"\n",
    "\n",
    "import numpy as np\n",
    "import scipy\n",
    "from scipy.optimize import minimize\n",
    "\n",
    "def Markowitz_loan_portfolio(muVec, varVec, capVec, investAmount, numPortfolios=3):\n",
    "    \"\"\"\n",
    "    Returns a few mean-variance optimal portfolios of loans.\n",
    "    \n",
    "    [Input]\n",
    "    muVec: SORTED expected return vector of each loan\n",
    "    varVec: corresponding variance vector\n",
    "    capVec: cap of investment in each loan\n",
    "    investAmount: total amount of investment\n",
    "    numPortfolios: number of recommended portfolios\n",
    "    \n",
    "    [Output]\n",
    "    listPortfolio: a list of optimal portfolios\n",
    "    \"\"\"\n",
    "    n = len(muVec)\n",
    "    muVec = np.array(muVec)\n",
    "    varVec = np.array(varVec)\n",
    "    capVec = np.array(capVec)\n",
    "    \n",
    "    invest = investAmount\n",
    "    maxSum = 0\n",
    "    i = 0\n",
    "    while invest>0:\n",
    "        maxSum = maxSum + min(invest, capVec[i]) * muVec[i]\n",
    "        i = i + 1\n",
    "        invest = invest - min(invest, capVec[i])\n",
    "        \n",
    "    r_max = maxSum / investAmount * 100\n",
    "                  \n",
    "    r_1 = np.floor(r_max)\n",
    "    r_2 = min(np.floor(r_max*0.8), r_1-1)\n",
    "    r_3 = min(np.floor(r_max*0.6), r_2-1)\n",
    "    \n",
    "    if r_3 >= min(muVec)*100:\n",
    "        rVec = [r_1, r_2, r_3]\n",
    "    else:\n",
    "        rVec = [r_1, r_2]\n",
    "    \n",
    "    listPortfolio = []\n",
    "\n",
    "    for r_exp in rVec:   \n",
    "    \n",
    "        def constraint1(w):   # Total investment\n",
    "            return 1 - sum(w)\n",
    "        def constraint2(w):   # Expected Return\n",
    "            return sum(w*muVec) - r_exp / 100.0\n",
    "        def var_portfolio(w): # Total Variance\n",
    "            return sum((w**2) * varVec)\n",
    "        \n",
    "        cons = ({'type': 'eq', 'fun': constraint1},\n",
    "                {'type': 'ineq', 'fun': constraint2})\n",
    "        bds = scipy.optimize.Bounds(np.zeros(n), capVec/investAmount)\n",
    "        \n",
    "        x0 = np.ones(n) / n\n",
    "        res = minimize(var_portfolio, x0 , method=\"SLSQP\", constraints=cons, bounds=bds)\n",
    "        listPortfolio.append(np.round(res.x*investAmount))\n",
    "        \n",
    "    return rVec, listPortfolio\n",
    "\n",
    "# muVec = [.1,.09,.08,.07]\n",
    "# varVec= [.16,.09,.04,.01]\n",
    "# capVec= [100,100,100,100]\n",
    "# investAmount = 150.0\n",
    "# Markowitz_loan_portfolio(muVec, varVec, capVec, investAmount)"
   ]
  },
  {
   "cell_type": "code",
   "execution_count": 2,
   "metadata": {},
   "outputs": [
    {
     "data": {
      "text/plain": [
       "([9.0, 7.0], [array([48., 54., 48.,  0.]), array([  7.,  13.,  29., 100.])])"
      ]
     },
     "execution_count": 2,
     "metadata": {},
     "output_type": "execute_result"
    }
   ],
   "source": [
    "muVec = [.1,.09,.08,.07]\n",
    "varVec= [.16,.09,.04,.01]\n",
    "capVec= [100,100,100,100]\n",
    "investAmount = 150.0\n",
    "Markowitz_loan_portfolio(muVec, varVec, capVec, investAmount)"
   ]
  }
 ],
 "metadata": {
  "kernelspec": {
   "display_name": "Python 3",
   "language": "python",
   "name": "python3"
  },
  "language_info": {
   "codemirror_mode": {
    "name": "ipython",
    "version": 3
   },
   "file_extension": ".py",
   "mimetype": "text/x-python",
   "name": "python",
   "nbconvert_exporter": "python",
   "pygments_lexer": "ipython3",
   "version": "3.7.3"
  }
 },
 "nbformat": 4,
 "nbformat_minor": 2
}
