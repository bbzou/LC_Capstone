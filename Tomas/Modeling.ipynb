{
 "cells": [
  {
   "cell_type": "code",
   "execution_count": 3,
   "metadata": {},
   "outputs": [],
   "source": [
    "import pandas as pd\n",
    "import numpy as np\n",
    "from sklearn.model_selection import KFold\n",
    "import matplotlib.pyplot as plt\n",
    "%reload_ext autoreload\n",
    "%autoreload 2\n",
    "from HelperFunctions import label_encode_column, columns_of_type\n",
    "from sklearn.ensemble import RandomForestRegressor\n",
    "from sklearn.model_selection import train_test_split\n",
    "from sklearn.model_selection import GridSearchCV\n",
    "from sklearn.preprocessing import OneHotEncoder\n",
    "from sklearn.preprocessing import LabelEncoder\n",
    "from sklearn.metrics import mean_squared_error\n",
    "from sklearn.metrics import mean_squared_log_error"
   ]
  },
  {
   "cell_type": "code",
   "execution_count": 2,
   "metadata": {},
   "outputs": [],
   "source": [
    "#df = pd.read_csv('down_sampled_df_v2.csv')"
   ]
  },
  {
   "cell_type": "markdown",
   "metadata": {},
   "source": [
    "#### Read Default dataset to train regression on default population"
   ]
  },
  {
   "cell_type": "code",
   "execution_count": 4,
   "metadata": {},
   "outputs": [],
   "source": [
    "df = pd.read_csv('Sampled Dataset_Default.csv.gz', compression='gzip', low_memory=True)"
   ]
  },
  {
   "cell_type": "code",
   "execution_count": 5,
   "metadata": {},
   "outputs": [],
   "source": [
    "dfHO = pd.read_csv('Holdout Dataset.csv.gz', compression='gzip', low_memory=True)"
   ]
  },
  {
   "cell_type": "code",
   "execution_count": 69,
   "metadata": {},
   "outputs": [],
   "source": [
    "cols = list(df.columns)"
   ]
  },
  {
   "cell_type": "code",
   "execution_count": 70,
   "metadata": {
    "collapsed": true
   },
   "outputs": [
    {
     "data": {
      "text/plain": [
       "['acc_now_delinq',\n",
       " 'addr_state',\n",
       " 'all_util',\n",
       " 'annual_inc',\n",
       " 'application_type',\n",
       " 'chargeoff_within_12_mths',\n",
       " 'collections_12_mths_ex_med',\n",
       " 'delinq_2yrs',\n",
       " 'delinq_amnt',\n",
       " 'dti',\n",
       " 'emp_length',\n",
       " 'funded_amnt',\n",
       " 'grade',\n",
       " 'home_ownership',\n",
       " 'il_util',\n",
       " 'initial_list_status',\n",
       " 'inq_last_12m',\n",
       " 'int_rate',\n",
       " 'mo_sin_rcnt_tl',\n",
       " 'mths_since_last_delinq',\n",
       " 'mths_since_last_major_derog',\n",
       " 'mths_since_last_record',\n",
       " 'num_accts_ever_120_pd',\n",
       " 'num_rev_accts',\n",
       " 'num_tl_90g_dpd_24m',\n",
       " 'num_tl_op_past_12m',\n",
       " 'open_acc',\n",
       " 'num_il_tl',\n",
       " 'pct_tl_nvr_dlq',\n",
       " 'pub_rec',\n",
       " 'pub_rec_bankruptcies',\n",
       " 'purpose',\n",
       " 'revol_util',\n",
       " 'sub_grade',\n",
       " 'tax_liens',\n",
       " 'term',\n",
       " 'tot_coll_amt',\n",
       " 'tot_cur_bal',\n",
       " 'tot_hi_cred_lim',\n",
       " 'total_acc',\n",
       " 'total_bc_limit',\n",
       " 'total_il_high_credit_limit',\n",
       " 'total_rev_hi_lim',\n",
       " 'verification_status',\n",
       " 'fico_score',\n",
       " 'active_rev_acct_frac',\n",
       " 'active_ins_acct_frac',\n",
       " 'duration',\n",
       " 'credit_hist',\n",
       " 'treasury_rate',\n",
       " 'unemp_rate_3mon']"
      ]
     },
     "execution_count": 70,
     "metadata": {},
     "output_type": "execute_result"
    }
   ],
   "source": [
    "cols"
   ]
  },
  {
   "cell_type": "code",
   "execution_count": 150,
   "metadata": {},
   "outputs": [
    {
     "data": {
      "text/html": [
       "<div>\n",
       "<style scoped>\n",
       "    .dataframe tbody tr th:only-of-type {\n",
       "        vertical-align: middle;\n",
       "    }\n",
       "\n",
       "    .dataframe tbody tr th {\n",
       "        vertical-align: top;\n",
       "    }\n",
       "\n",
       "    .dataframe thead th {\n",
       "        text-align: right;\n",
       "    }\n",
       "</style>\n",
       "<table border=\"1\" class=\"dataframe\">\n",
       "  <thead>\n",
       "    <tr style=\"text-align: right;\">\n",
       "      <th></th>\n",
       "      <th>acc_now_delinq</th>\n",
       "      <th>addr_state</th>\n",
       "      <th>all_util</th>\n",
       "      <th>annual_inc</th>\n",
       "      <th>application_type</th>\n",
       "      <th>chargeoff_within_12_mths</th>\n",
       "      <th>collections_12_mths_ex_med</th>\n",
       "      <th>delinq_2yrs</th>\n",
       "      <th>delinq_amnt</th>\n",
       "      <th>dti</th>\n",
       "      <th>...</th>\n",
       "      <th>loan_status</th>\n",
       "      <th>fico_score</th>\n",
       "      <th>active_rev_acct_frac</th>\n",
       "      <th>active_ins_acct_frac</th>\n",
       "      <th>total_payout</th>\n",
       "      <th>duration</th>\n",
       "      <th>return_rate</th>\n",
       "      <th>credit_hist</th>\n",
       "      <th>treasury_rate</th>\n",
       "      <th>unemp_rate_3mon</th>\n",
       "    </tr>\n",
       "  </thead>\n",
       "  <tbody>\n",
       "    <tr>\n",
       "      <th>0</th>\n",
       "      <td>0.0</td>\n",
       "      <td>NY</td>\n",
       "      <td>54.0</td>\n",
       "      <td>65000.0</td>\n",
       "      <td>Individual</td>\n",
       "      <td>0.0</td>\n",
       "      <td>0.0</td>\n",
       "      <td>0.0</td>\n",
       "      <td>0.0</td>\n",
       "      <td>24.89</td>\n",
       "      <td>...</td>\n",
       "      <td>Fully Paid</td>\n",
       "      <td>697.0</td>\n",
       "      <td>0.333333</td>\n",
       "      <td>0.5</td>\n",
       "      <td>15901.83</td>\n",
       "      <td>0.587443</td>\n",
       "      <td>0.104493</td>\n",
       "      <td>9.756164</td>\n",
       "      <td>1.59</td>\n",
       "      <td>5.10</td>\n",
       "    </tr>\n",
       "    <tr>\n",
       "      <th>1</th>\n",
       "      <td>0.0</td>\n",
       "      <td>TX</td>\n",
       "      <td>-999.0</td>\n",
       "      <td>50000.0</td>\n",
       "      <td>Individual</td>\n",
       "      <td>0.0</td>\n",
       "      <td>0.0</td>\n",
       "      <td>0.0</td>\n",
       "      <td>0.0</td>\n",
       "      <td>27.29</td>\n",
       "      <td>...</td>\n",
       "      <td>Fully Paid</td>\n",
       "      <td>702.0</td>\n",
       "      <td>0.538462</td>\n",
       "      <td>-999.0</td>\n",
       "      <td>18186.92</td>\n",
       "      <td>2.924429</td>\n",
       "      <td>0.068095</td>\n",
       "      <td>33.021918</td>\n",
       "      <td>0.87</td>\n",
       "      <td>4.23</td>\n",
       "    </tr>\n",
       "    <tr>\n",
       "      <th>2</th>\n",
       "      <td>0.0</td>\n",
       "      <td>VA</td>\n",
       "      <td>-999.0</td>\n",
       "      <td>70000.0</td>\n",
       "      <td>Individual</td>\n",
       "      <td>0.0</td>\n",
       "      <td>0.0</td>\n",
       "      <td>0.0</td>\n",
       "      <td>0.0</td>\n",
       "      <td>17.28</td>\n",
       "      <td>...</td>\n",
       "      <td>Fully Paid</td>\n",
       "      <td>737.0</td>\n",
       "      <td>0.241379</td>\n",
       "      <td>-999.0</td>\n",
       "      <td>13173.93</td>\n",
       "      <td>1.666895</td>\n",
       "      <td>0.073775</td>\n",
       "      <td>23.183562</td>\n",
       "      <td>1.37</td>\n",
       "      <td>4.87</td>\n",
       "    </tr>\n",
       "    <tr>\n",
       "      <th>3</th>\n",
       "      <td>0.0</td>\n",
       "      <td>GA</td>\n",
       "      <td>-999.0</td>\n",
       "      <td>80000.0</td>\n",
       "      <td>Individual</td>\n",
       "      <td>0.0</td>\n",
       "      <td>0.0</td>\n",
       "      <td>0.0</td>\n",
       "      <td>0.0</td>\n",
       "      <td>29.06</td>\n",
       "      <td>...</td>\n",
       "      <td>Fully Paid</td>\n",
       "      <td>682.0</td>\n",
       "      <td>0.461538</td>\n",
       "      <td>-999.0</td>\n",
       "      <td>47165.73</td>\n",
       "      <td>4.751826</td>\n",
       "      <td>0.129892</td>\n",
       "      <td>12.008219</td>\n",
       "      <td>1.52</td>\n",
       "      <td>8.63</td>\n",
       "    </tr>\n",
       "    <tr>\n",
       "      <th>4</th>\n",
       "      <td>0.0</td>\n",
       "      <td>NY</td>\n",
       "      <td>29.0</td>\n",
       "      <td>63000.0</td>\n",
       "      <td>Individual</td>\n",
       "      <td>0.0</td>\n",
       "      <td>0.0</td>\n",
       "      <td>0.0</td>\n",
       "      <td>0.0</td>\n",
       "      <td>9.47</td>\n",
       "      <td>...</td>\n",
       "      <td>Fully Paid</td>\n",
       "      <td>792.0</td>\n",
       "      <td>0.083333</td>\n",
       "      <td>0.5</td>\n",
       "      <td>4924.90</td>\n",
       "      <td>0.584703</td>\n",
       "      <td>0.044913</td>\n",
       "      <td>13.175342</td>\n",
       "      <td>2.65</td>\n",
       "      <td>3.93</td>\n",
       "    </tr>\n",
       "  </tbody>\n",
       "</table>\n",
       "<p>5 rows × 55 columns</p>\n",
       "</div>"
      ],
      "text/plain": [
       "   acc_now_delinq addr_state  all_util  annual_inc application_type  \\\n",
       "0             0.0         NY      54.0     65000.0       Individual   \n",
       "1             0.0         TX    -999.0     50000.0       Individual   \n",
       "2             0.0         VA    -999.0     70000.0       Individual   \n",
       "3             0.0         GA    -999.0     80000.0       Individual   \n",
       "4             0.0         NY      29.0     63000.0       Individual   \n",
       "\n",
       "   chargeoff_within_12_mths  collections_12_mths_ex_med  delinq_2yrs  \\\n",
       "0                       0.0                         0.0          0.0   \n",
       "1                       0.0                         0.0          0.0   \n",
       "2                       0.0                         0.0          0.0   \n",
       "3                       0.0                         0.0          0.0   \n",
       "4                       0.0                         0.0          0.0   \n",
       "\n",
       "   delinq_amnt    dti  ...  loan_status  fico_score active_rev_acct_frac  \\\n",
       "0          0.0  24.89  ...   Fully Paid       697.0             0.333333   \n",
       "1          0.0  27.29  ...   Fully Paid       702.0             0.538462   \n",
       "2          0.0  17.28  ...   Fully Paid       737.0             0.241379   \n",
       "3          0.0  29.06  ...   Fully Paid       682.0             0.461538   \n",
       "4          0.0   9.47  ...   Fully Paid       792.0             0.083333   \n",
       "\n",
       "  active_ins_acct_frac  total_payout  duration  return_rate  credit_hist  \\\n",
       "0                  0.5      15901.83  0.587443     0.104493     9.756164   \n",
       "1               -999.0      18186.92  2.924429     0.068095    33.021918   \n",
       "2               -999.0      13173.93  1.666895     0.073775    23.183562   \n",
       "3               -999.0      47165.73  4.751826     0.129892    12.008219   \n",
       "4                  0.5       4924.90  0.584703     0.044913    13.175342   \n",
       "\n",
       "  treasury_rate  unemp_rate_3mon  \n",
       "0          1.59             5.10  \n",
       "1          0.87             4.23  \n",
       "2          1.37             4.87  \n",
       "3          1.52             8.63  \n",
       "4          2.65             3.93  \n",
       "\n",
       "[5 rows x 55 columns]"
      ]
     },
     "execution_count": 150,
     "metadata": {},
     "output_type": "execute_result"
    }
   ],
   "source": [
    "dfHO.head()"
   ]
  },
  {
   "cell_type": "code",
   "execution_count": 6,
   "metadata": {},
   "outputs": [],
   "source": [
    "df.drop(['issue_d','return_rate','total_payout','loan_status'],axis = 1, inplace = True)"
   ]
  },
  {
   "cell_type": "code",
   "execution_count": 71,
   "metadata": {},
   "outputs": [
    {
     "data": {
      "text/plain": [
       "array([36, 60], dtype=int64)"
      ]
     },
     "execution_count": 71,
     "metadata": {},
     "output_type": "execute_result"
    }
   ],
   "source": [
    "df.term.unique()"
   ]
  },
  {
   "cell_type": "markdown",
   "metadata": {},
   "source": [
    "##### Filter for 36 month and 60 month"
   ]
  },
  {
   "cell_type": "code",
   "execution_count": 7,
   "metadata": {},
   "outputs": [],
   "source": [
    "dfTS = df[df['term'] == 36].copy()"
   ]
  },
  {
   "cell_type": "code",
   "execution_count": 8,
   "metadata": {},
   "outputs": [],
   "source": [
    "dfSixty = df[df['term'] == 60].copy()"
   ]
  },
  {
   "cell_type": "code",
   "execution_count": null,
   "metadata": {},
   "outputs": [],
   "source": [
    "dfSixty.reset_index(inplace = True)\n",
    "dfTS.reset_index(inplace = True)"
   ]
  },
  {
   "cell_type": "code",
   "execution_count": 12,
   "metadata": {},
   "outputs": [],
   "source": [
    "dfSixty.drop(['index'],axis=1,inplace = True)"
   ]
  },
  {
   "cell_type": "code",
   "execution_count": 13,
   "metadata": {},
   "outputs": [],
   "source": [
    "dfTS.drop(['index'],axis=1,inplace=True)"
   ]
  },
  {
   "cell_type": "code",
   "execution_count": 14,
   "metadata": {},
   "outputs": [
    {
     "data": {
      "text/html": [
       "<div>\n",
       "<style scoped>\n",
       "    .dataframe tbody tr th:only-of-type {\n",
       "        vertical-align: middle;\n",
       "    }\n",
       "\n",
       "    .dataframe tbody tr th {\n",
       "        vertical-align: top;\n",
       "    }\n",
       "\n",
       "    .dataframe thead th {\n",
       "        text-align: right;\n",
       "    }\n",
       "</style>\n",
       "<table border=\"1\" class=\"dataframe\">\n",
       "  <thead>\n",
       "    <tr style=\"text-align: right;\">\n",
       "      <th></th>\n",
       "      <th>acc_now_delinq</th>\n",
       "      <th>addr_state</th>\n",
       "      <th>all_util</th>\n",
       "      <th>annual_inc</th>\n",
       "      <th>application_type</th>\n",
       "      <th>chargeoff_within_12_mths</th>\n",
       "      <th>collections_12_mths_ex_med</th>\n",
       "      <th>delinq_2yrs</th>\n",
       "      <th>delinq_amnt</th>\n",
       "      <th>dti</th>\n",
       "      <th>...</th>\n",
       "      <th>total_il_high_credit_limit</th>\n",
       "      <th>total_rev_hi_lim</th>\n",
       "      <th>verification_status</th>\n",
       "      <th>fico_score</th>\n",
       "      <th>active_rev_acct_frac</th>\n",
       "      <th>active_ins_acct_frac</th>\n",
       "      <th>duration</th>\n",
       "      <th>credit_hist</th>\n",
       "      <th>treasury_rate</th>\n",
       "      <th>unemp_rate_3mon</th>\n",
       "    </tr>\n",
       "  </thead>\n",
       "  <tbody>\n",
       "    <tr>\n",
       "      <th>0</th>\n",
       "      <td>0.0</td>\n",
       "      <td>MO</td>\n",
       "      <td>-999.0</td>\n",
       "      <td>45600.0</td>\n",
       "      <td>Individual</td>\n",
       "      <td>0.0</td>\n",
       "      <td>0.0</td>\n",
       "      <td>1.0</td>\n",
       "      <td>0.0</td>\n",
       "      <td>3.26</td>\n",
       "      <td>...</td>\n",
       "      <td>-999.0</td>\n",
       "      <td>-999.0</td>\n",
       "      <td>Not Verified</td>\n",
       "      <td>687.0</td>\n",
       "      <td>-999.0</td>\n",
       "      <td>-999.0</td>\n",
       "      <td>2.086073</td>\n",
       "      <td>17.926027</td>\n",
       "      <td>4.01</td>\n",
       "      <td>5.20</td>\n",
       "    </tr>\n",
       "    <tr>\n",
       "      <th>1</th>\n",
       "      <td>0.0</td>\n",
       "      <td>FL</td>\n",
       "      <td>-999.0</td>\n",
       "      <td>43500.0</td>\n",
       "      <td>Individual</td>\n",
       "      <td>0.0</td>\n",
       "      <td>0.0</td>\n",
       "      <td>0.0</td>\n",
       "      <td>0.0</td>\n",
       "      <td>3.01</td>\n",
       "      <td>...</td>\n",
       "      <td>-999.0</td>\n",
       "      <td>-999.0</td>\n",
       "      <td>Not Verified</td>\n",
       "      <td>647.0</td>\n",
       "      <td>-999.0</td>\n",
       "      <td>-999.0</td>\n",
       "      <td>2.918950</td>\n",
       "      <td>3.501370</td>\n",
       "      <td>4.01</td>\n",
       "      <td>4.47</td>\n",
       "    </tr>\n",
       "    <tr>\n",
       "      <th>2</th>\n",
       "      <td>0.0</td>\n",
       "      <td>WA</td>\n",
       "      <td>-999.0</td>\n",
       "      <td>120000.0</td>\n",
       "      <td>Individual</td>\n",
       "      <td>0.0</td>\n",
       "      <td>0.0</td>\n",
       "      <td>0.0</td>\n",
       "      <td>0.0</td>\n",
       "      <td>16.97</td>\n",
       "      <td>...</td>\n",
       "      <td>-999.0</td>\n",
       "      <td>-999.0</td>\n",
       "      <td>Not Verified</td>\n",
       "      <td>697.0</td>\n",
       "      <td>-999.0</td>\n",
       "      <td>-999.0</td>\n",
       "      <td>4.168265</td>\n",
       "      <td>26.520548</td>\n",
       "      <td>3.35</td>\n",
       "      <td>4.37</td>\n",
       "    </tr>\n",
       "    <tr>\n",
       "      <th>3</th>\n",
       "      <td>0.0</td>\n",
       "      <td>NC</td>\n",
       "      <td>-999.0</td>\n",
       "      <td>76500.0</td>\n",
       "      <td>Individual</td>\n",
       "      <td>0.0</td>\n",
       "      <td>0.0</td>\n",
       "      <td>0.0</td>\n",
       "      <td>0.0</td>\n",
       "      <td>9.98</td>\n",
       "      <td>...</td>\n",
       "      <td>-999.0</td>\n",
       "      <td>-999.0</td>\n",
       "      <td>Not Verified</td>\n",
       "      <td>642.0</td>\n",
       "      <td>-999.0</td>\n",
       "      <td>-999.0</td>\n",
       "      <td>1.666895</td>\n",
       "      <td>12.926027</td>\n",
       "      <td>3.35</td>\n",
       "      <td>4.53</td>\n",
       "    </tr>\n",
       "    <tr>\n",
       "      <th>4</th>\n",
       "      <td>0.0</td>\n",
       "      <td>FL</td>\n",
       "      <td>-999.0</td>\n",
       "      <td>36500.0</td>\n",
       "      <td>Individual</td>\n",
       "      <td>0.0</td>\n",
       "      <td>0.0</td>\n",
       "      <td>0.0</td>\n",
       "      <td>0.0</td>\n",
       "      <td>19.46</td>\n",
       "      <td>...</td>\n",
       "      <td>-999.0</td>\n",
       "      <td>-999.0</td>\n",
       "      <td>Not Verified</td>\n",
       "      <td>727.0</td>\n",
       "      <td>-999.0</td>\n",
       "      <td>-999.0</td>\n",
       "      <td>0.666895</td>\n",
       "      <td>12.257534</td>\n",
       "      <td>3.13</td>\n",
       "      <td>4.50</td>\n",
       "    </tr>\n",
       "  </tbody>\n",
       "</table>\n",
       "<p>5 rows × 51 columns</p>\n",
       "</div>"
      ],
      "text/plain": [
       "   acc_now_delinq addr_state  all_util  annual_inc application_type  \\\n",
       "0             0.0         MO    -999.0     45600.0       Individual   \n",
       "1             0.0         FL    -999.0     43500.0       Individual   \n",
       "2             0.0         WA    -999.0    120000.0       Individual   \n",
       "3             0.0         NC    -999.0     76500.0       Individual   \n",
       "4             0.0         FL    -999.0     36500.0       Individual   \n",
       "\n",
       "   chargeoff_within_12_mths  collections_12_mths_ex_med  delinq_2yrs  \\\n",
       "0                       0.0                         0.0          1.0   \n",
       "1                       0.0                         0.0          0.0   \n",
       "2                       0.0                         0.0          0.0   \n",
       "3                       0.0                         0.0          0.0   \n",
       "4                       0.0                         0.0          0.0   \n",
       "\n",
       "   delinq_amnt    dti  ...  total_il_high_credit_limit  total_rev_hi_lim  \\\n",
       "0          0.0   3.26  ...                      -999.0            -999.0   \n",
       "1          0.0   3.01  ...                      -999.0            -999.0   \n",
       "2          0.0  16.97  ...                      -999.0            -999.0   \n",
       "3          0.0   9.98  ...                      -999.0            -999.0   \n",
       "4          0.0  19.46  ...                      -999.0            -999.0   \n",
       "\n",
       "  verification_status fico_score  active_rev_acct_frac active_ins_acct_frac  \\\n",
       "0        Not Verified      687.0                -999.0               -999.0   \n",
       "1        Not Verified      647.0                -999.0               -999.0   \n",
       "2        Not Verified      697.0                -999.0               -999.0   \n",
       "3        Not Verified      642.0                -999.0               -999.0   \n",
       "4        Not Verified      727.0                -999.0               -999.0   \n",
       "\n",
       "   duration  credit_hist  treasury_rate  unemp_rate_3mon  \n",
       "0  2.086073    17.926027           4.01             5.20  \n",
       "1  2.918950     3.501370           4.01             4.47  \n",
       "2  4.168265    26.520548           3.35             4.37  \n",
       "3  1.666895    12.926027           3.35             4.53  \n",
       "4  0.666895    12.257534           3.13             4.50  \n",
       "\n",
       "[5 rows x 51 columns]"
      ]
     },
     "execution_count": 14,
     "metadata": {},
     "output_type": "execute_result"
    }
   ],
   "source": [
    "dfTS.head()"
   ]
  },
  {
   "cell_type": "markdown",
   "metadata": {},
   "source": [
    "##### Filter for defaulted loans only"
   ]
  },
  {
   "cell_type": "code",
   "execution_count": 4,
   "metadata": {},
   "outputs": [
    {
     "data": {
      "text/plain": [
       "array(['Fully Paid', 'Default'], dtype=object)"
      ]
     },
     "execution_count": 4,
     "metadata": {},
     "output_type": "execute_result"
    }
   ],
   "source": [
    "#df['loan_status'].unique()"
   ]
  },
  {
   "cell_type": "code",
   "execution_count": 5,
   "metadata": {},
   "outputs": [],
   "source": [
    "#dfDefault = df[df['loan_status'] == 'Default'].reset_index()"
   ]
  },
  {
   "cell_type": "code",
   "execution_count": 6,
   "metadata": {},
   "outputs": [],
   "source": [
    "#dfTS = dfDefault[dfDefault['term'] == 36].reset_index()"
   ]
  },
  {
   "cell_type": "code",
   "execution_count": 7,
   "metadata": {},
   "outputs": [],
   "source": [
    "#dfS = dfDefault[dfDefault['term']==60].reset_index()"
   ]
  },
  {
   "cell_type": "code",
   "execution_count": 11,
   "metadata": {},
   "outputs": [],
   "source": [
    "#dfS.drop(['index'],axis=1,inplace=True)"
   ]
  },
  {
   "cell_type": "code",
   "execution_count": 12,
   "metadata": {},
   "outputs": [],
   "source": [
    "#dfTS.drop(['index'],axis=1,inplace=True)"
   ]
  },
  {
   "cell_type": "markdown",
   "metadata": {},
   "source": [
    "#### Set up the target variable for 36 month loan dataframe = dfTS"
   ]
  },
  {
   "cell_type": "code",
   "execution_count": 81,
   "metadata": {},
   "outputs": [],
   "source": [
    "#dfTS.drop(['return_rate'],axis = 1,inplace = True)"
   ]
  },
  {
   "cell_type": "code",
   "execution_count": 14,
   "metadata": {},
   "outputs": [],
   "source": [
    "#dfTS.drop(['loan_status'],axis=1,inplace = True)"
   ]
  },
  {
   "cell_type": "code",
   "execution_count": 15,
   "metadata": {},
   "outputs": [],
   "source": [
    "#dfTS.drop(['issue_d'],axis=1,inplace=True)"
   ]
  },
  {
   "cell_type": "markdown",
   "metadata": {},
   "source": [
    "###### Duration is in terms of years, converted to months * multiplying by 12"
   ]
  },
  {
   "cell_type": "code",
   "execution_count": 15,
   "metadata": {},
   "outputs": [],
   "source": [
    "#36 month\n",
    "dfTS['duration'] = dfTS['duration']* 12"
   ]
  },
  {
   "cell_type": "code",
   "execution_count": 16,
   "metadata": {},
   "outputs": [],
   "source": [
    "#60 month \n",
    "dfSixty['duration'] = dfSixty['duration']* 12"
   ]
  },
  {
   "cell_type": "code",
   "execution_count": 77,
   "metadata": {},
   "outputs": [],
   "source": [
    "df['duration'] = df['duration']* 12"
   ]
  },
  {
   "cell_type": "code",
   "execution_count": 17,
   "metadata": {},
   "outputs": [],
   "source": [
    "cat_list = columns_of_type(dfTS,'string')"
   ]
  },
  {
   "cell_type": "code",
   "execution_count": 18,
   "metadata": {},
   "outputs": [],
   "source": [
    "cat_list2 = columns_of_type(dfSixty,'string')"
   ]
  },
  {
   "cell_type": "code",
   "execution_count": 78,
   "metadata": {},
   "outputs": [],
   "source": [
    "#combine model cat_list\n",
    "cat_list3 = columns_of_type(df,'string')"
   ]
  },
  {
   "cell_type": "code",
   "execution_count": 19,
   "metadata": {},
   "outputs": [],
   "source": [
    "dfTS_LE = label_encode_column(dfTS, cat_list)"
   ]
  },
  {
   "cell_type": "code",
   "execution_count": 20,
   "metadata": {},
   "outputs": [],
   "source": [
    "dfSixty_LE = label_encode_column(dfSixty, cat_list2)"
   ]
  },
  {
   "cell_type": "code",
   "execution_count": 79,
   "metadata": {},
   "outputs": [],
   "source": [
    "df_LE = label_encode_column(df, cat_list3)"
   ]
  },
  {
   "cell_type": "code",
   "execution_count": 32,
   "metadata": {},
   "outputs": [
    {
     "data": {
      "text/html": [
       "<div>\n",
       "<style scoped>\n",
       "    .dataframe tbody tr th:only-of-type {\n",
       "        vertical-align: middle;\n",
       "    }\n",
       "\n",
       "    .dataframe tbody tr th {\n",
       "        vertical-align: top;\n",
       "    }\n",
       "\n",
       "    .dataframe thead th {\n",
       "        text-align: right;\n",
       "    }\n",
       "</style>\n",
       "<table border=\"1\" class=\"dataframe\">\n",
       "  <thead>\n",
       "    <tr style=\"text-align: right;\">\n",
       "      <th></th>\n",
       "      <th>acc_now_delinq</th>\n",
       "      <th>all_util</th>\n",
       "      <th>annual_inc</th>\n",
       "      <th>chargeoff_within_12_mths</th>\n",
       "      <th>collections_12_mths_ex_med</th>\n",
       "      <th>delinq_2yrs</th>\n",
       "      <th>delinq_amnt</th>\n",
       "      <th>dti</th>\n",
       "      <th>emp_length</th>\n",
       "      <th>funded_amnt</th>\n",
       "      <th>...</th>\n",
       "      <th>treasury_rate</th>\n",
       "      <th>unemp_rate_3mon</th>\n",
       "      <th>addr_state</th>\n",
       "      <th>application_type</th>\n",
       "      <th>grade</th>\n",
       "      <th>home_ownership</th>\n",
       "      <th>initial_list_status</th>\n",
       "      <th>purpose</th>\n",
       "      <th>sub_grade</th>\n",
       "      <th>verification_status</th>\n",
       "    </tr>\n",
       "  </thead>\n",
       "  <tbody>\n",
       "    <tr>\n",
       "      <th>0</th>\n",
       "      <td>0.0</td>\n",
       "      <td>-999.0</td>\n",
       "      <td>45600.0</td>\n",
       "      <td>0.0</td>\n",
       "      <td>0.0</td>\n",
       "      <td>1.0</td>\n",
       "      <td>0.0</td>\n",
       "      <td>3.26</td>\n",
       "      <td>10</td>\n",
       "      <td>4650.0</td>\n",
       "      <td>...</td>\n",
       "      <td>4.01</td>\n",
       "      <td>5.20</td>\n",
       "      <td>24</td>\n",
       "      <td>0</td>\n",
       "      <td>2</td>\n",
       "      <td>1</td>\n",
       "      <td>0</td>\n",
       "      <td>9</td>\n",
       "      <td>10</td>\n",
       "      <td>0</td>\n",
       "    </tr>\n",
       "    <tr>\n",
       "      <th>1</th>\n",
       "      <td>0.0</td>\n",
       "      <td>-999.0</td>\n",
       "      <td>43500.0</td>\n",
       "      <td>0.0</td>\n",
       "      <td>0.0</td>\n",
       "      <td>0.0</td>\n",
       "      <td>0.0</td>\n",
       "      <td>3.01</td>\n",
       "      <td>4</td>\n",
       "      <td>4900.0</td>\n",
       "      <td>...</td>\n",
       "      <td>4.01</td>\n",
       "      <td>4.47</td>\n",
       "      <td>9</td>\n",
       "      <td>0</td>\n",
       "      <td>4</td>\n",
       "      <td>5</td>\n",
       "      <td>0</td>\n",
       "      <td>2</td>\n",
       "      <td>21</td>\n",
       "      <td>0</td>\n",
       "    </tr>\n",
       "    <tr>\n",
       "      <th>2</th>\n",
       "      <td>0.0</td>\n",
       "      <td>-999.0</td>\n",
       "      <td>120000.0</td>\n",
       "      <td>0.0</td>\n",
       "      <td>0.0</td>\n",
       "      <td>0.0</td>\n",
       "      <td>0.0</td>\n",
       "      <td>16.97</td>\n",
       "      <td>7</td>\n",
       "      <td>15450.0</td>\n",
       "      <td>...</td>\n",
       "      <td>3.35</td>\n",
       "      <td>4.37</td>\n",
       "      <td>47</td>\n",
       "      <td>0</td>\n",
       "      <td>2</td>\n",
       "      <td>5</td>\n",
       "      <td>0</td>\n",
       "      <td>2</td>\n",
       "      <td>12</td>\n",
       "      <td>0</td>\n",
       "    </tr>\n",
       "    <tr>\n",
       "      <th>3</th>\n",
       "      <td>0.0</td>\n",
       "      <td>-999.0</td>\n",
       "      <td>76500.0</td>\n",
       "      <td>0.0</td>\n",
       "      <td>0.0</td>\n",
       "      <td>0.0</td>\n",
       "      <td>0.0</td>\n",
       "      <td>9.98</td>\n",
       "      <td>5</td>\n",
       "      <td>10475.0</td>\n",
       "      <td>...</td>\n",
       "      <td>3.35</td>\n",
       "      <td>4.53</td>\n",
       "      <td>27</td>\n",
       "      <td>0</td>\n",
       "      <td>4</td>\n",
       "      <td>4</td>\n",
       "      <td>0</td>\n",
       "      <td>1</td>\n",
       "      <td>23</td>\n",
       "      <td>0</td>\n",
       "    </tr>\n",
       "    <tr>\n",
       "      <th>4</th>\n",
       "      <td>0.0</td>\n",
       "      <td>-999.0</td>\n",
       "      <td>36500.0</td>\n",
       "      <td>0.0</td>\n",
       "      <td>0.0</td>\n",
       "      <td>0.0</td>\n",
       "      <td>0.0</td>\n",
       "      <td>19.46</td>\n",
       "      <td>1</td>\n",
       "      <td>10000.0</td>\n",
       "      <td>...</td>\n",
       "      <td>3.13</td>\n",
       "      <td>4.50</td>\n",
       "      <td>9</td>\n",
       "      <td>0</td>\n",
       "      <td>1</td>\n",
       "      <td>1</td>\n",
       "      <td>0</td>\n",
       "      <td>8</td>\n",
       "      <td>7</td>\n",
       "      <td>0</td>\n",
       "    </tr>\n",
       "  </tbody>\n",
       "</table>\n",
       "<p>5 rows × 51 columns</p>\n",
       "</div>"
      ],
      "text/plain": [
       "   acc_now_delinq  all_util  annual_inc  chargeoff_within_12_mths  \\\n",
       "0             0.0    -999.0     45600.0                       0.0   \n",
       "1             0.0    -999.0     43500.0                       0.0   \n",
       "2             0.0    -999.0    120000.0                       0.0   \n",
       "3             0.0    -999.0     76500.0                       0.0   \n",
       "4             0.0    -999.0     36500.0                       0.0   \n",
       "\n",
       "   collections_12_mths_ex_med  delinq_2yrs  delinq_amnt    dti  emp_length  \\\n",
       "0                         0.0          1.0          0.0   3.26          10   \n",
       "1                         0.0          0.0          0.0   3.01           4   \n",
       "2                         0.0          0.0          0.0  16.97           7   \n",
       "3                         0.0          0.0          0.0   9.98           5   \n",
       "4                         0.0          0.0          0.0  19.46           1   \n",
       "\n",
       "   funded_amnt  ...  treasury_rate  unemp_rate_3mon  addr_state  \\\n",
       "0       4650.0  ...           4.01             5.20          24   \n",
       "1       4900.0  ...           4.01             4.47           9   \n",
       "2      15450.0  ...           3.35             4.37          47   \n",
       "3      10475.0  ...           3.35             4.53          27   \n",
       "4      10000.0  ...           3.13             4.50           9   \n",
       "\n",
       "   application_type  grade  home_ownership  initial_list_status  purpose  \\\n",
       "0                 0      2               1                    0        9   \n",
       "1                 0      4               5                    0        2   \n",
       "2                 0      2               5                    0        2   \n",
       "3                 0      4               4                    0        1   \n",
       "4                 0      1               1                    0        8   \n",
       "\n",
       "   sub_grade  verification_status  \n",
       "0         10                    0  \n",
       "1         21                    0  \n",
       "2         12                    0  \n",
       "3         23                    0  \n",
       "4          7                    0  \n",
       "\n",
       "[5 rows x 51 columns]"
      ]
     },
     "execution_count": 32,
     "metadata": {},
     "output_type": "execute_result"
    }
   ],
   "source": [
    "dfTS_LE.head()"
   ]
  },
  {
   "cell_type": "code",
   "execution_count": 22,
   "metadata": {},
   "outputs": [],
   "source": [
    "# 36 month term x and y datasets\n",
    "x = dfTS_LE.loc[:, dfTS_LE.columns != 'duration'].copy()\n",
    "y = dfTS_LE['duration'].reset_index(drop=True)"
   ]
  },
  {
   "cell_type": "code",
   "execution_count": 126,
   "metadata": {},
   "outputs": [],
   "source": [
    "#y = dfTS_LE['duration'].reset_index(drop=True)"
   ]
  },
  {
   "cell_type": "code",
   "execution_count": 23,
   "metadata": {},
   "outputs": [],
   "source": [
    "# sixty month term x and y datasets\n",
    "x2 = dfSixty_LE.loc[:, dfSixty_LE.columns != 'duration'].copy()\n",
    "y2 = dfSixty_LE['duration'].reset_index(drop=True)"
   ]
  },
  {
   "cell_type": "code",
   "execution_count": 80,
   "metadata": {},
   "outputs": [],
   "source": [
    "#combined\n",
    "x3 = df_LE.loc[:, df_LE.columns != 'duration'].copy()\n",
    "y3 = df_LE['duration'].reset_index(drop=True)"
   ]
  },
  {
   "cell_type": "markdown",
   "metadata": {},
   "source": [
    "#### Run Random Forest Regression to estimate Expected Months to default"
   ]
  },
  {
   "cell_type": "code",
   "execution_count": 24,
   "metadata": {},
   "outputs": [],
   "source": [
    "rf = RandomForestRegressor(n_estimators = 75, random_state = 42)"
   ]
  },
  {
   "cell_type": "code",
   "execution_count": 25,
   "metadata": {},
   "outputs": [],
   "source": [
    "# 36 month term\n",
    "x_train, x_test, y_train, y_test = train_test_split(x, y, test_size = 0.25, random_state = 42)"
   ]
  },
  {
   "cell_type": "code",
   "execution_count": 26,
   "metadata": {},
   "outputs": [],
   "source": [
    "#60 month term\n",
    "x_tr, x_te, y_tr, y_te = train_test_split(x2, y2, test_size = 0.25, random_state = 42)"
   ]
  },
  {
   "cell_type": "code",
   "execution_count": 81,
   "metadata": {},
   "outputs": [],
   "source": [
    "#comebined test train\n",
    "x_trCom, x_teCom, y_trCom, y_teCom = train_test_split(x3, y3, test_size = 0.25, random_state = 42)"
   ]
  },
  {
   "cell_type": "markdown",
   "metadata": {},
   "source": [
    "#### 36 month test and train dataset shape"
   ]
  },
  {
   "cell_type": "code",
   "execution_count": 27,
   "metadata": {},
   "outputs": [
    {
     "name": "stdout",
     "output_type": "stream",
     "text": [
      "X train Shape: (35166, 50)\n",
      "y train Shape: (35166,)\n",
      "x test Shape: (11723, 50)\n",
      "y test Shape: (11723,)\n"
     ]
    }
   ],
   "source": [
    "print('X train Shape:', x_train.shape)\n",
    "print('y train Shape:', y_train.shape)\n",
    "print('x test Shape:', x_test.shape)\n",
    "print('y test Shape:', y_test.shape)"
   ]
  },
  {
   "cell_type": "markdown",
   "metadata": {},
   "source": [
    "#### 60 month test and train dataset shape"
   ]
  },
  {
   "cell_type": "code",
   "execution_count": 28,
   "metadata": {},
   "outputs": [
    {
     "name": "stdout",
     "output_type": "stream",
     "text": [
      "X train Shape: (14668, 50)\n",
      "y train Shape: (14668,)\n",
      "x test Shape: (4890, 50)\n",
      "y test Shape: (4890,)\n"
     ]
    }
   ],
   "source": [
    "print('X train Shape:', x_tr.shape)\n",
    "print('y train Shape:', y_tr.shape)\n",
    "print('x test Shape:', x_te.shape)\n",
    "print('y test Shape:', y_te.shape)"
   ]
  },
  {
   "cell_type": "markdown",
   "metadata": {},
   "source": [
    "#### Combined month test and train dataset shape\n"
   ]
  },
  {
   "cell_type": "code",
   "execution_count": 82,
   "metadata": {},
   "outputs": [
    {
     "name": "stdout",
     "output_type": "stream",
     "text": [
      "X train Shape: (49835, 50)\n",
      "y train Shape: (49835,)\n",
      "x test Shape: (16612, 50)\n",
      "y test Shape: (16612,)\n"
     ]
    }
   ],
   "source": [
    "print('X train Shape:', x_trCom.shape)\n",
    "print('y train Shape:', y_trCom.shape)\n",
    "print('x test Shape:', x_teCom.shape)\n",
    "print('y test Shape:', y_teCom.shape)"
   ]
  },
  {
   "cell_type": "code",
   "execution_count": 29,
   "metadata": {},
   "outputs": [],
   "source": [
    "model = rf.fit(x_train, y_train)#.loan_duration.ravel()"
   ]
  },
  {
   "cell_type": "code",
   "execution_count": 30,
   "metadata": {},
   "outputs": [],
   "source": [
    "# model fit for the 60 month term data frame\n",
    "model60 = rf.fit(x_tr, y_tr)"
   ]
  },
  {
   "cell_type": "code",
   "execution_count": 83,
   "metadata": {},
   "outputs": [],
   "source": [
    "# fit modeled for combined terms\n",
    "modCom = rf.fit(x_trCom,y_trCom)"
   ]
  },
  {
   "cell_type": "code",
   "execution_count": 85,
   "metadata": {},
   "outputs": [
    {
     "name": "stdout",
     "output_type": "stream",
     "text": [
      "The train set R^2 is: 0.70650\n",
      "The test set R^2 is is: 0.70655\n"
     ]
    }
   ],
   "source": [
    "print(\"The train set R^2 is: %.5f\" % model.score(x_train, y_train))\n",
    "print(\"The test set R^2 is is: %.5f\" % model.score(x_test, y_test))"
   ]
  },
  {
   "cell_type": "code",
   "execution_count": 35,
   "metadata": {},
   "outputs": [
    {
     "name": "stdout",
     "output_type": "stream",
     "text": [
      "The train set R^2 is: 0.88675\n",
      "The test set R^2 is is: 0.18072\n"
     ]
    }
   ],
   "source": [
    "print(\"The train set R^2 is: %.5f\" % model60.score(x_tr, y_tr))\n",
    "print(\"The test set R^2 is is: %.5f\" % model60.score(x_te, y_te))"
   ]
  },
  {
   "cell_type": "code",
   "execution_count": 84,
   "metadata": {},
   "outputs": [
    {
     "name": "stdout",
     "output_type": "stream",
     "text": [
      "The train set R^2 is: 0.88582\n",
      "The test set R^2 is is: 0.19055\n"
     ]
    }
   ],
   "source": [
    "print(\"The train set R^2 is: %.5f\" % modCom.score(x_trCom, y_trCom))\n",
    "print(\"The test set R^2 is is: %.5f\" % modCom.score(x_teCom, y_teCom))"
   ]
  },
  {
   "cell_type": "code",
   "execution_count": 36,
   "metadata": {},
   "outputs": [],
   "source": [
    "kfo = KFold(n_splits=5,shuffle = True, random_state = 32)"
   ]
  },
  {
   "cell_type": "code",
   "execution_count": 37,
   "metadata": {},
   "outputs": [],
   "source": [
    "# set parameter grid for kfold cross validation kfold is set above to 5\n",
    "param_grid ={'max_depth': [20, 25, 30],\n",
    "             'max_features': ['auto','sqrt','log2'],\n",
    "             'min_samples_split':[2,3,4],\n",
    "             'min_samples_leaf':[1, 3, 5],\n",
    "             'n_estimators': [25, 50, 75, 100, 150]}"
   ]
  },
  {
   "cell_type": "code",
   "execution_count": 142,
   "metadata": {},
   "outputs": [],
   "source": [
    "grid_search_rforest = GridSearchCV(model, param_grid, scoring='neg_mean_squared_error', \n",
    "                                     cv= kfo, n_jobs=-1, return_train_score = True)"
   ]
  },
  {
   "cell_type": "code",
   "execution_count": 38,
   "metadata": {},
   "outputs": [],
   "source": [
    "gs_rf_60 = GridSearchCV(model60, param_grid, scoring='neg_mean_squared_error', \n",
    "                                     cv= kfo, n_jobs=-1, return_train_score = True)"
   ]
  },
  {
   "cell_type": "code",
   "execution_count": 145,
   "metadata": {},
   "outputs": [
    {
     "name": "stdout",
     "output_type": "stream",
     "text": [
      "Wall time: 2h 43min 25s\n"
     ]
    },
    {
     "data": {
      "text/plain": [
       "GridSearchCV(cv=KFold(n_splits=5, random_state=32, shuffle=True),\n",
       "             error_score='raise-deprecating',\n",
       "             estimator=RandomForestRegressor(bootstrap=True, criterion='mse',\n",
       "                                             max_depth=None,\n",
       "                                             max_features='auto',\n",
       "                                             max_leaf_nodes=None,\n",
       "                                             min_impurity_decrease=0.0,\n",
       "                                             min_impurity_split=None,\n",
       "                                             min_samples_leaf=1,\n",
       "                                             min_samples_split=2,\n",
       "                                             min_weight_fraction_leaf=0.0,\n",
       "                                             n_estimators=75, n_j...one,\n",
       "                                             oob_score=False, random_state=42,\n",
       "                                             verbose=0, warm_start=False),\n",
       "             iid='warn', n_jobs=-1,\n",
       "             param_grid={'max_depth': [20, 25, 30],\n",
       "                         'max_features': ['auto', 'sqrt', 'log2'],\n",
       "                         'min_samples_leaf': [1, 3, 5],\n",
       "                         'min_samples_split': [2, 3, 4],\n",
       "                         'n_estimators': [25, 50, 75, 100, 150]},\n",
       "             pre_dispatch='2*n_jobs', refit=True, return_train_score=True,\n",
       "             scoring='neg_mean_squared_error', verbose=0)"
      ]
     },
     "execution_count": 145,
     "metadata": {},
     "output_type": "execute_result"
    }
   ],
   "source": [
    "%time grid_search_rforest.fit(x_train, y_train) "
   ]
  },
  {
   "cell_type": "code",
   "execution_count": 39,
   "metadata": {
    "scrolled": true
   },
   "outputs": [
    {
     "name": "stdout",
     "output_type": "stream",
     "text": [
      "Wall time: 1h 54s\n"
     ]
    },
    {
     "data": {
      "text/plain": [
       "GridSearchCV(cv=KFold(n_splits=5, random_state=32, shuffle=True),\n",
       "             error_score='raise-deprecating',\n",
       "             estimator=RandomForestRegressor(bootstrap=True, criterion='mse',\n",
       "                                             max_depth=None,\n",
       "                                             max_features='auto',\n",
       "                                             max_leaf_nodes=None,\n",
       "                                             min_impurity_decrease=0.0,\n",
       "                                             min_impurity_split=None,\n",
       "                                             min_samples_leaf=1,\n",
       "                                             min_samples_split=2,\n",
       "                                             min_weight_fraction_leaf=0.0,\n",
       "                                             n_estimators=75, n_j...one,\n",
       "                                             oob_score=False, random_state=42,\n",
       "                                             verbose=0, warm_start=False),\n",
       "             iid='warn', n_jobs=-1,\n",
       "             param_grid={'max_depth': [20, 25, 30],\n",
       "                         'max_features': ['auto', 'sqrt', 'log2'],\n",
       "                         'min_samples_leaf': [1, 3, 5],\n",
       "                         'min_samples_split': [2, 3, 4],\n",
       "                         'n_estimators': [25, 50, 75, 100, 150]},\n",
       "             pre_dispatch='2*n_jobs', refit=True, return_train_score=True,\n",
       "             scoring='neg_mean_squared_error', verbose=0)"
      ]
     },
     "execution_count": 39,
     "metadata": {},
     "output_type": "execute_result"
    }
   ],
   "source": [
    "%time gs_rf_60.fit(x_tr, y_tr) "
   ]
  },
  {
   "cell_type": "code",
   "execution_count": 86,
   "metadata": {},
   "outputs": [],
   "source": [
    "gs_rf_Com = GridSearchCV(modCom, param_grid, scoring='neg_mean_squared_error', \n",
    "                                     cv= kfo, n_jobs=-1, return_train_score = True)"
   ]
  },
  {
   "cell_type": "code",
   "execution_count": 87,
   "metadata": {},
   "outputs": [
    {
     "name": "stdout",
     "output_type": "stream",
     "text": [
      "Wall time: 4h 24min 24s\n"
     ]
    },
    {
     "data": {
      "text/plain": [
       "GridSearchCV(cv=KFold(n_splits=5, random_state=32, shuffle=True),\n",
       "             error_score='raise-deprecating',\n",
       "             estimator=RandomForestRegressor(bootstrap=True, criterion='mse',\n",
       "                                             max_depth=None,\n",
       "                                             max_features='auto',\n",
       "                                             max_leaf_nodes=None,\n",
       "                                             min_impurity_decrease=0.0,\n",
       "                                             min_impurity_split=None,\n",
       "                                             min_samples_leaf=1,\n",
       "                                             min_samples_split=2,\n",
       "                                             min_weight_fraction_leaf=0.0,\n",
       "                                             n_estimators=75, n_j...one,\n",
       "                                             oob_score=False, random_state=42,\n",
       "                                             verbose=0, warm_start=False),\n",
       "             iid='warn', n_jobs=-1,\n",
       "             param_grid={'max_depth': [20, 25, 30],\n",
       "                         'max_features': ['auto', 'sqrt', 'log2'],\n",
       "                         'min_samples_leaf': [1, 3, 5],\n",
       "                         'min_samples_split': [2, 3, 4],\n",
       "                         'n_estimators': [25, 50, 75, 100, 150]},\n",
       "             pre_dispatch='2*n_jobs', refit=True, return_train_score=True,\n",
       "             scoring='neg_mean_squared_error', verbose=0)"
      ]
     },
     "execution_count": 87,
     "metadata": {},
     "output_type": "execute_result"
    }
   ],
   "source": [
    "%time gs_rf_Com.fit(x_trCom, y_trCom) "
   ]
  },
  {
   "cell_type": "code",
   "execution_count": 146,
   "metadata": {},
   "outputs": [
    {
     "data": {
      "text/plain": [
       "{'max_depth': 20,\n",
       " 'max_features': 'sqrt',\n",
       " 'min_samples_leaf': 3,\n",
       " 'min_samples_split': 2,\n",
       " 'n_estimators': 150}"
      ]
     },
     "execution_count": 146,
     "metadata": {},
     "output_type": "execute_result"
    }
   ],
   "source": [
    "# get the best parameters\n",
    "grid_search_rforest.best_params_"
   ]
  },
  {
   "cell_type": "code",
   "execution_count": 40,
   "metadata": {},
   "outputs": [
    {
     "data": {
      "text/plain": [
       "{'max_depth': 20,\n",
       " 'max_features': 'auto',\n",
       " 'min_samples_leaf': 5,\n",
       " 'min_samples_split': 2,\n",
       " 'n_estimators': 150}"
      ]
     },
     "execution_count": 40,
     "metadata": {},
     "output_type": "execute_result"
    }
   ],
   "source": [
    "gs_rf_60.best_params_"
   ]
  },
  {
   "cell_type": "code",
   "execution_count": 89,
   "metadata": {},
   "outputs": [
    {
     "data": {
      "text/plain": [
       "{'max_depth': 20,\n",
       " 'max_features': 'sqrt',\n",
       " 'min_samples_leaf': 5,\n",
       " 'min_samples_split': 2,\n",
       " 'n_estimators': 150}"
      ]
     },
     "execution_count": 89,
     "metadata": {},
     "output_type": "execute_result"
    }
   ],
   "source": [
    "gs_rf_Com.best_params_"
   ]
  },
  {
   "cell_type": "code",
   "execution_count": 147,
   "metadata": {},
   "outputs": [],
   "source": [
    "# Prediction using the tuned parameters\n",
    "grid_rforest = grid_search_rforest.best_estimator_"
   ]
  },
  {
   "cell_type": "code",
   "execution_count": 41,
   "metadata": {},
   "outputs": [],
   "source": [
    "grf60 = gs_rf_60.best_estimator_"
   ]
  },
  {
   "cell_type": "code",
   "execution_count": 88,
   "metadata": {},
   "outputs": [],
   "source": [
    "grfCom = gs_rf_Com.best_estimator_"
   ]
  },
  {
   "cell_type": "code",
   "execution_count": 148,
   "metadata": {},
   "outputs": [
    {
     "name": "stdout",
     "output_type": "stream",
     "text": [
      "The train set R^2 is: 0.62876\n",
      "The test set R^2 is is: 0.17307\n"
     ]
    }
   ],
   "source": [
    "#36 month term\n",
    "print(\"The train set R^2 is: %.5f\" % grid_rforest.score(x_train, y_train))\n",
    "print(\"The test set R^2 is is: %.5f\" % grid_rforest.score(x_test, y_test))"
   ]
  },
  {
   "cell_type": "code",
   "execution_count": 93,
   "metadata": {},
   "outputs": [
    {
     "name": "stdout",
     "output_type": "stream",
     "text": [
      "The train set R^2 is: 0.70697\n",
      "The test set R^2 is is: 0.19397\n"
     ]
    }
   ],
   "source": [
    "#60 month term\n",
    "print(\"The train set R^2 is: %.5f\" % grf60.score(x_tr, y_tr))\n",
    "print(\"The test set R^2 is is: %.5f\" % grf60.score(x_te, y_te))"
   ]
  },
  {
   "cell_type": "code",
   "execution_count": 92,
   "metadata": {},
   "outputs": [
    {
     "name": "stdout",
     "output_type": "stream",
     "text": [
      "The train set R^2 is: -43.13137\n",
      "The test set R^2 is is: -76.57042\n"
     ]
    }
   ],
   "source": [
    "#Combined\n",
    "print(\"The train set R^2 is: %.5f\" % gs_rf_Com.score(x_trCom, y_trCom))\n",
    "print(\"The test set R^2 is is: %.5f\" % gs_rf_Com.score(x_teCom, y_teCom))\n",
    "\n",
    "#print(\"The train set R^2 is: %.5f\" % modCom.score(x_trCom, y_trCom))\n",
    "#print(\"The test set R^2 is is: %.5f\" % modCom.score(x_teCom, y_teCom))"
   ]
  },
  {
   "cell_type": "code",
   "execution_count": 119,
   "metadata": {},
   "outputs": [],
   "source": [
    "def printErrors(Yt, predMod):\n",
    "    \"\"\"\n",
    "    This function takes the following inputs:\n",
    "    1. Yt = the trained predicted values\n",
    "    2. predMod = the prediction from the fitted model\n",
    "    It thens prints the errors for the model ie MAE, MSE, RMSLE\n",
    "    \"\"\"\n",
    "    errors = abs(predMod - Yt)\n",
    "    print('Mean Absolute Error (MAE):', round(np.mean(errors), 2))\n",
    "    print('Mean Squared Error (MSE):', mean_squared_error(Yt, predMod))\n",
    "    print('Root Mean Square Error (RMSE):', np.sqrt(mean_squared_error(Yt, predMod)))\n",
    "    print('Root Mean Square Log Error (RMSLE):', np.sqrt(mean_squared_log_error(Yt, predMod)))\n",
    "    mape = 100 * (errors / Yt)\n",
    "    print('Mean Absolute Percent Error (MAPE):', round(np.mean(mape), 2), '%.')"
   ]
  },
  {
   "cell_type": "code",
   "execution_count": 45,
   "metadata": {},
   "outputs": [],
   "source": [
    "grid_pred = gs_rf_60.predict(x_te)"
   ]
  },
  {
   "cell_type": "code",
   "execution_count": 94,
   "metadata": {},
   "outputs": [],
   "source": [
    "grid_pred_com = gs_rf_Com.predict(x_teCom)"
   ]
  },
  {
   "cell_type": "code",
   "execution_count": 107,
   "metadata": {},
   "outputs": [],
   "source": [
    "#complete predict model performed better\n",
    "complete_Model_base = modCom.predict(x_teCom)"
   ]
  },
  {
   "cell_type": "code",
   "execution_count": 120,
   "metadata": {},
   "outputs": [
    {
     "name": "stdout",
     "output_type": "stream",
     "text": [
      "Mean Absolute Error (MAE): 8.47\n",
      "Mean Squared Error (MSE): 114.61933147830199\n",
      "Root Mean Square Error (RMSE): 10.70604182124757\n",
      "Root Mean Square Log Error (RMSLE): 0.5813289258136936\n",
      "Mean Absolute Percent Error (MAPE): 72.83 %.\n"
     ]
    }
   ],
   "source": [
    "printErrors(y_te, grid_pred)"
   ]
  },
  {
   "cell_type": "code",
   "execution_count": 121,
   "metadata": {},
   "outputs": [
    {
     "name": "stdout",
     "output_type": "stream",
     "text": [
      "Mean Absolute Error (MAE): 6.99\n",
      "Mean Squared Error (MSE): 76.57042169580424\n",
      "Root Mean Square Error (RMSE): 8.750452656623212\n",
      "Root Mean Square Log Error (RMSLE): 0.5413958446382245\n",
      "Mean Absolute Percent Error (MAPE): 66.43 %.\n"
     ]
    }
   ],
   "source": [
    "printErrors(y_teCom, grid_pred_com)"
   ]
  },
  {
   "cell_type": "code",
   "execution_count": 122,
   "metadata": {},
   "outputs": [
    {
     "name": "stdout",
     "output_type": "stream",
     "text": [
      "Mean Absolute Error (MAE): 7.01\n",
      "Mean Squared Error (MSE): 77.54389773958907\n",
      "Root Mean Square Error (RMSE): 8.80590130194457\n",
      "Root Mean Square Log Error (RMSLE): 0.5408150769873059\n",
      "Mean Absolute Percent Error (MAPE): 65.93 %.\n"
     ]
    }
   ],
   "source": [
    "printErrors(y_teCom, complete_Model_base)"
   ]
  },
  {
   "cell_type": "code",
   "execution_count": 113,
   "metadata": {},
   "outputs": [],
   "source": [
    "def printMod(Xtr,Xte,Ytr, Yte, modSel, modName):\n",
    "    \"\"\"\n",
    "    This function takes the following inputs:\n",
    "    1. Xtr,Xte,Ytr,Yte = X train data set, X test data set, Y train array, Y test array\n",
    "    2. modSel is the fitted model\n",
    "    3. modName is the model name used for plotting i.e. OLS, Lasso, Random Forest\n",
    "    It then creates a plot for test vs train predicted prices\n",
    "    \"\"\"\n",
    "    y_train_eNet = modSel.predict(Xtr)\n",
    "    y_test_eNet = modSel.predict(Xte)\n",
    "    # Plot predictions\n",
    "    plt.figure(figsize=(12,8))\n",
    "    plt.scatter(y_train_eNet,Ytr, c='black', marker=\"o\", s=15, label = \"Training data\")\n",
    "    plt.scatter(y_test_eNet, Yte, c='orange', marker='o', s=15, label = \"Test data\")\n",
    "    plt.title(modName + \" Model Train vs Test\", fontsize = 20)\n",
    "    plt.xlabel(\"Predicted Months\", fontsize = 16)\n",
    "    plt.ylabel(\"Actual Months\", fontsize = 16)\n",
    "    plt.xlim(0, 60)\n",
    "    plt.ylim(0, 60)\n",
    "    plt.legend(loc = \"upper left\")\n",
    "    plt.plot([0, 60], [0, 60], c = \"grey\")\n",
    "    plt.show()"
   ]
  },
  {
   "cell_type": "code",
   "execution_count": 116,
   "metadata": {},
   "outputs": [
    {
     "data": {
      "image/png": "[encoded data removed]",
      "text/plain": [
       "<Figure size 864x576 with 1 Axes>"
      ]
     },
     "metadata": {
      "needs_background": "light"
     },
     "output_type": "display_data"
    }
   ],
   "source": [
    "printMod(x_train,x_test,y_train,y_test,model,\"3 year term Random Forest\")"
   ]
  },
  {
   "cell_type": "code",
   "execution_count": 118,
   "metadata": {},
   "outputs": [
    {
     "data": {
      "image/png": "[encoded data removed]",
      "text/plain": [
       "<Figure size 864x576 with 1 Axes>"
      ]
     },
     "metadata": {
      "needs_background": "light"
     },
     "output_type": "display_data"
    }
   ],
   "source": [
    "printMod(x_tr,x_te,y_tr,y_te,model60,\"5 year term Random Forest\")"
   ]
  },
  {
   "cell_type": "code",
   "execution_count": 129,
   "metadata": {},
   "outputs": [
    {
     "data": {
      "image/png": "[encoded data removed]",
      "text/plain": [
       "<Figure size 864x576 with 1 Axes>"
      ]
     },
     "metadata": {
      "needs_background": "light"
     },
     "output_type": "display_data"
    }
   ],
   "source": [
    "printMod(x_trCom,x_teCom,y_trCom,y_teCom,modCom,\"Comebined term Random Forest\")"
   ]
  },
  {
   "cell_type": "code",
   "execution_count": 102,
   "metadata": {},
   "outputs": [
    {
     "data": {
      "text/plain": [
       "array([21.08094439, 16.30005165, 18.60596005, ..., 24.4114081 ,\n",
       "       18.89506492, 20.91398966])"
      ]
     },
     "execution_count": 102,
     "metadata": {},
     "output_type": "execute_result"
    }
   ],
   "source": [
    "grid_pred_com"
   ]
  },
  {
   "cell_type": "markdown",
   "metadata": {},
   "source": [
    "#### 36 month term"
   ]
  },
  {
   "cell_type": "code",
   "execution_count": 132,
   "metadata": {
    "collapsed": true
   },
   "outputs": [
    {
     "name": "stdout",
     "output_type": "stream",
     "text": [
      "Variable: treasury_rate        Importance: 0.16826\n",
      "Variable: credit_hist          Importance: 0.04427\n",
      "Variable: revol_util           Importance: 0.04369\n",
      "Variable: dti                  Importance: 0.04347\n",
      "Variable: unemp_rate_3mon      Importance: 0.03971\n",
      "Variable: active_rev_acct_frac Importance: 0.03687\n",
      "Variable: annual_inc           Importance: 0.03599\n",
      "Variable: total_bc_limit       Importance: 0.03547\n",
      "Variable: funded_amnt          Importance: 0.03469\n",
      "Variable: total_rev_hi_lim     Importance: 0.03208\n",
      "Variable: int_rate             Importance: 0.02984\n",
      "Variable: total_il_high_credit_limit Importance: 0.0288\n",
      "Variable: addr_state           Importance: 0.02869\n",
      "Variable: tot_cur_bal          Importance: 0.02627\n",
      "Variable: tot_hi_cred_lim      Importance: 0.02617\n",
      "Variable: total_acc            Importance: 0.02531\n",
      "Variable: mo_sin_rcnt_tl       Importance: 0.02482\n",
      "Variable: fico_score           Importance: 0.02482\n",
      "Variable: open_acc             Importance: 0.02242\n",
      "Variable: num_rev_accts        Importance: 0.02173\n",
      "Variable: num_il_tl            Importance: 0.0209\n",
      "Variable: sub_grade            Importance: 0.01964\n",
      "Variable: emp_length           Importance: 0.01915\n",
      "Variable: pct_tl_nvr_dlq       Importance: 0.01904\n",
      "Variable: mths_since_last_delinq Importance: 0.01877\n",
      "Variable: purpose              Importance: 0.01222\n",
      "Variable: num_tl_op_past_12m   Importance: 0.012\n",
      "Variable: all_util             Importance: 0.01102\n",
      "Variable: active_ins_acct_frac Importance: 0.01082\n",
      "Variable: mths_since_last_major_derog Importance: 0.00978\n",
      "Variable: mths_since_last_record Importance: 0.00859\n",
      "Variable: tot_coll_amt         Importance: 0.00823\n",
      "Variable: il_util              Importance: 0.00813\n",
      "Variable: verification_status  Importance: 0.00768\n",
      "Variable: inq_last_12m         Importance: 0.00678\n",
      "Variable: home_ownership       Importance: 0.0058\n",
      "Variable: grade                Importance: 0.00507\n",
      "Variable: num_accts_ever_120_pd Importance: 0.0048\n",
      "Variable: delinq_2yrs          Importance: 0.00479\n",
      "Variable: initial_list_status  Importance: 0.00402\n",
      "Variable: pub_rec_bankruptcies Importance: 0.00241\n",
      "Variable: pub_rec              Importance: 0.00234\n",
      "Variable: num_tl_90g_dpd_24m   Importance: 0.0015\n",
      "Variable: tax_liens            Importance: 0.00136\n",
      "Variable: collections_12_mths_ex_med Importance: 0.00087\n",
      "Variable: application_type     Importance: 0.00032\n",
      "Variable: chargeoff_within_12_mths Importance: 0.00028\n",
      "Variable: delinq_amnt          Importance: 0.00019\n",
      "Variable: acc_now_delinq       Importance: 0.00013\n",
      "Variable: term                 Importance: 0.0\n"
     ]
    },
    {
     "data": {
      "text/plain": [
       "[None,\n",
       " None,\n",
       " None,\n",
       " None,\n",
       " None,\n",
       " None,\n",
       " None,\n",
       " None,\n",
       " None,\n",
       " None,\n",
       " None,\n",
       " None,\n",
       " None,\n",
       " None,\n",
       " None,\n",
       " None,\n",
       " None,\n",
       " None,\n",
       " None,\n",
       " None,\n",
       " None,\n",
       " None,\n",
       " None,\n",
       " None,\n",
       " None,\n",
       " None,\n",
       " None,\n",
       " None,\n",
       " None,\n",
       " None,\n",
       " None,\n",
       " None,\n",
       " None,\n",
       " None,\n",
       " None,\n",
       " None,\n",
       " None,\n",
       " None,\n",
       " None,\n",
       " None,\n",
       " None,\n",
       " None,\n",
       " None,\n",
       " None,\n",
       " None,\n",
       " None,\n",
       " None,\n",
       " None,\n",
       " None,\n",
       " None]"
      ]
     },
     "execution_count": 132,
     "metadata": {},
     "output_type": "execute_result"
    }
   ],
   "source": [
    "# Random Forest Feature Importance \n",
    "# Get numerical feature importances\n",
    "feats_rf = list(model.feature_importances_)\n",
    "\n",
    "# List of tuples with variable and importance\n",
    "feats_rf_score = [(feature, round(importance, 5)) for feature, importance in zip(x_train.columns, feats_rf)]\n",
    "\n",
    "# Sort the feature importances by most important first\n",
    "sorted_feats_rf_score = sorted(feats_rf_score, key = lambda x: x[1], reverse = True )\n",
    "\n",
    "# Print out the feature and importances \n",
    "[print('Variable: {:20} Importance: {}'.format(*pair)) for pair in sorted_feats_rf_score]"
   ]
  },
  {
   "cell_type": "code",
   "execution_count": 128,
   "metadata": {},
   "outputs": [
    {
     "ename": "NameError",
     "evalue": "name 'sorted_feats_rf_score' is not defined",
     "output_type": "error",
     "traceback": [
      "\u001b[1;31m---------------------------------------------------------------------------\u001b[0m",
      "\u001b[1;31mNameError\u001b[0m                                 Traceback (most recent call last)",
      "\u001b[1;32m<ipython-input-128-cfc1e14929bc>\u001b[0m in \u001b[0;36m<module>\u001b[1;34m\u001b[0m\n\u001b[1;32m----> 1\u001b[1;33m \u001b[0mrf_feature_importances_top20\u001b[0m \u001b[1;33m=\u001b[0m \u001b[0msorted_feats_rf_score\u001b[0m\u001b[1;33m[\u001b[0m\u001b[1;33m:\u001b[0m\u001b[1;36m20\u001b[0m\u001b[1;33m]\u001b[0m\u001b[1;33m\u001b[0m\u001b[1;33m\u001b[0m\u001b[0m\n\u001b[0m\u001b[0;32m      2\u001b[0m \u001b[0mfeatureNames\u001b[0m\u001b[1;33m,\u001b[0m \u001b[0mfeatureScores\u001b[0m \u001b[1;33m=\u001b[0m \u001b[0mzip\u001b[0m\u001b[1;33m(\u001b[0m\u001b[1;33m*\u001b[0m\u001b[0mlist\u001b[0m\u001b[1;33m(\u001b[0m\u001b[0mrf_feature_importances_top20\u001b[0m\u001b[1;33m)\u001b[0m\u001b[1;33m)\u001b[0m\u001b[1;33m\u001b[0m\u001b[1;33m\u001b[0m\u001b[0m\n\u001b[0;32m      3\u001b[0m \u001b[1;33m\u001b[0m\u001b[0m\n\u001b[0;32m      4\u001b[0m \u001b[0mplt\u001b[0m\u001b[1;33m.\u001b[0m\u001b[0mbarh\u001b[0m\u001b[1;33m(\u001b[0m\u001b[0mrange\u001b[0m\u001b[1;33m(\u001b[0m\u001b[0mlen\u001b[0m\u001b[1;33m(\u001b[0m\u001b[0mfeatureScores\u001b[0m\u001b[1;33m)\u001b[0m\u001b[1;33m)\u001b[0m\u001b[1;33m,\u001b[0m \u001b[0mfeatureScores\u001b[0m\u001b[1;33m,\u001b[0m \u001b[0mtick_label\u001b[0m\u001b[1;33m=\u001b[0m\u001b[0mfeatureNames\u001b[0m\u001b[1;33m)\u001b[0m\u001b[1;33m\u001b[0m\u001b[1;33m\u001b[0m\u001b[0m\n\u001b[0;32m      5\u001b[0m \u001b[0mplt\u001b[0m\u001b[1;33m.\u001b[0m\u001b[0mgca\u001b[0m\u001b[1;33m(\u001b[0m\u001b[1;33m)\u001b[0m\u001b[1;33m.\u001b[0m\u001b[0minvert_yaxis\u001b[0m\u001b[1;33m(\u001b[0m\u001b[1;33m)\u001b[0m\u001b[1;33m\u001b[0m\u001b[1;33m\u001b[0m\u001b[0m\n",
      "\u001b[1;31mNameError\u001b[0m: name 'sorted_feats_rf_score' is not defined"
     ]
    }
   ],
   "source": [
    "rf_feature_importances_top20 = sorted_feats_rf_score[:20]\n",
    "featureNames, featureScores = zip(*list(rf_feature_importances_top20))\n",
    "\n",
    "plt.barh(range(len(featureScores)), featureScores, tick_label=featureNames)\n",
    "plt.gca().invert_yaxis()\n",
    "plt.title('feature importance')\n",
    "plt.ylabel('Features')\n",
    "plt.xlabel('Importance Score')\n",
    "plt.title('Feature Importances 30 Month Loans')"
   ]
  },
  {
   "cell_type": "markdown",
   "metadata": {},
   "source": [
    "#### 60 month term"
   ]
  },
  {
   "cell_type": "code",
   "execution_count": 103,
   "metadata": {
    "collapsed": true
   },
   "outputs": [
    {
     "name": "stdout",
     "output_type": "stream",
     "text": [
      "Variable: inq_last_12m         Importance: 0.09821\n",
      "Variable: treasury_rate        Importance: 0.08668\n",
      "Variable: credit_hist          Importance: 0.04368\n",
      "Variable: revol_util           Importance: 0.04145\n",
      "Variable: dti                  Importance: 0.04126\n",
      "Variable: unemp_rate_3mon      Importance: 0.03995\n",
      "Variable: annual_inc           Importance: 0.0361\n",
      "Variable: active_rev_acct_frac Importance: 0.03446\n",
      "Variable: total_bc_limit       Importance: 0.03318\n",
      "Variable: funded_amnt          Importance: 0.03288\n",
      "Variable: int_rate             Importance: 0.03179\n",
      "Variable: total_rev_hi_lim     Importance: 0.02984\n",
      "Variable: addr_state           Importance: 0.02899\n",
      "Variable: total_il_high_credit_limit Importance: 0.02812\n",
      "Variable: term                 Importance: 0.02774\n",
      "Variable: total_acc            Importance: 0.02536\n",
      "Variable: tot_cur_bal          Importance: 0.02485\n",
      "Variable: tot_hi_cred_lim      Importance: 0.02423\n",
      "Variable: fico_score           Importance: 0.02352\n",
      "Variable: mo_sin_rcnt_tl       Importance: 0.02345\n",
      "Variable: open_acc             Importance: 0.02217\n",
      "Variable: num_rev_accts        Importance: 0.02121\n",
      "Variable: sub_grade            Importance: 0.02079\n",
      "Variable: num_il_tl            Importance: 0.02007\n",
      "Variable: emp_length           Importance: 0.01832\n",
      "Variable: mths_since_last_delinq Importance: 0.01799\n",
      "Variable: pct_tl_nvr_dlq       Importance: 0.01682\n",
      "Variable: num_tl_op_past_12m   Importance: 0.01162\n",
      "Variable: purpose              Importance: 0.01158\n",
      "Variable: all_util             Importance: 0.0112\n",
      "Variable: mths_since_last_major_derog Importance: 0.00923\n",
      "Variable: mths_since_last_record Importance: 0.00813\n",
      "Variable: tot_coll_amt         Importance: 0.00759\n",
      "Variable: verification_status  Importance: 0.00716\n",
      "Variable: home_ownership       Importance: 0.00576\n",
      "Variable: il_util              Importance: 0.00564\n",
      "Variable: active_ins_acct_frac Importance: 0.0051\n",
      "Variable: delinq_2yrs          Importance: 0.00444\n",
      "Variable: num_accts_ever_120_pd Importance: 0.00436\n",
      "Variable: initial_list_status  Importance: 0.00386\n",
      "Variable: grade                Importance: 0.00338\n",
      "Variable: pub_rec              Importance: 0.00201\n",
      "Variable: pub_rec_bankruptcies Importance: 0.00154\n",
      "Variable: num_tl_90g_dpd_24m   Importance: 0.00152\n",
      "Variable: tax_liens            Importance: 0.00136\n",
      "Variable: collections_12_mths_ex_med Importance: 0.00063\n",
      "Variable: chargeoff_within_12_mths Importance: 0.00036\n",
      "Variable: application_type     Importance: 0.0002\n",
      "Variable: acc_now_delinq       Importance: 0.00014\n",
      "Variable: delinq_amnt          Importance: 9e-05\n"
     ]
    },
    {
     "data": {
      "text/plain": [
       "[None,\n",
       " None,\n",
       " None,\n",
       " None,\n",
       " None,\n",
       " None,\n",
       " None,\n",
       " None,\n",
       " None,\n",
       " None,\n",
       " None,\n",
       " None,\n",
       " None,\n",
       " None,\n",
       " None,\n",
       " None,\n",
       " None,\n",
       " None,\n",
       " None,\n",
       " None,\n",
       " None,\n",
       " None,\n",
       " None,\n",
       " None,\n",
       " None,\n",
       " None,\n",
       " None,\n",
       " None,\n",
       " None,\n",
       " None,\n",
       " None,\n",
       " None,\n",
       " None,\n",
       " None,\n",
       " None,\n",
       " None,\n",
       " None,\n",
       " None,\n",
       " None,\n",
       " None,\n",
       " None,\n",
       " None,\n",
       " None,\n",
       " None,\n",
       " None,\n",
       " None,\n",
       " None,\n",
       " None,\n",
       " None,\n",
       " None]"
      ]
     },
     "execution_count": 103,
     "metadata": {},
     "output_type": "execute_result"
    }
   ],
   "source": [
    "# Random Forest Feature Importance \n",
    "# Get numerical feature importances\n",
    "feats_rf60 = list(model60.feature_importances_)\n",
    "\n",
    "# List of tuples with variable and importance\n",
    "feats_rf_score60 = [(feature, round(importance, 5)) for feature, importance in zip(x_tr.columns, feats_rf60)]\n",
    "\n",
    "# Sort the feature importances by most important first\n",
    "sorted_feats_rf_score60 = sorted(feats_rf_score60, key = lambda x: x[1], reverse = True )\n",
    "\n",
    "# Print out the feature and importances \n",
    "[print('Variable: {:20} Importance: {}'.format(*pair)) for pair in sorted_feats_rf_score60]"
   ]
  },
  {
   "cell_type": "code",
   "execution_count": 106,
   "metadata": {},
   "outputs": [
    {
     "data": {
      "text/plain": [
       "Text(0.5, 1.0, 'Feature Importances 60 month Loans')"
      ]
     },
     "execution_count": 106,
     "metadata": {},
     "output_type": "execute_result"
    },
    {
     "data": {
      "image/png": "[encoded data removed]",
      "text/plain": [
       "<Figure size 432x288 with 1 Axes>"
      ]
     },
     "metadata": {
      "needs_background": "light"
     },
     "output_type": "display_data"
    }
   ],
   "source": [
    "rf_feature_importances_top20_60 = sorted_feats_rf_score60[:20]\n",
    "featureNames60, featureScores60 = zip(*list(rf_feature_importances_top20_60))\n",
    "\n",
    "plt.barh(range(len(featureScores60)), featureScores60, tick_label=featureNames60)\n",
    "plt.gca().invert_yaxis()\n",
    "plt.title('feature importance')\n",
    "plt.ylabel('Features')\n",
    "plt.xlabel('Importance Score')\n",
    "plt.title('Feature Importances 60 month Loans')"
   ]
  },
  {
   "cell_type": "markdown",
   "metadata": {},
   "source": [
    "#### Save the models"
   ]
  },
  {
   "cell_type": "code",
   "execution_count": 123,
   "metadata": {},
   "outputs": [],
   "source": [
    "import pickle"
   ]
  },
  {
   "cell_type": "code",
   "execution_count": 124,
   "metadata": {},
   "outputs": [],
   "source": [
    "#file_36Mo = 'model_36_Mo.sav'\n",
    "#pickle.dump(model,open(file_36Mo,'wb'))"
   ]
  },
  {
   "cell_type": "code",
   "execution_count": 125,
   "metadata": {},
   "outputs": [],
   "source": [
    "#file_60Mo_CV = 'model_60_Mo_CV.sav'\n",
    "#pickle.dump(gs_rf_60,open(file_60Mo_CV,'wb'))"
   ]
  },
  {
   "cell_type": "code",
   "execution_count": 126,
   "metadata": {},
   "outputs": [],
   "source": [
    "#file_60Mo = 'model_60_Mo.sav'\n",
    "#pickle.dump(model60,open(file_60Mo,'wb'))"
   ]
  },
  {
   "cell_type": "code",
   "execution_count": 127,
   "metadata": {},
   "outputs": [],
   "source": [
    "#file_Combined = 'model_Combined.sav'\n",
    "#pickle.dump(modCom,open(file_Combined,'wb'))"
   ]
  },
  {
   "cell_type": "markdown",
   "metadata": {},
   "source": [
    "#### Make predictions"
   ]
  },
  {
   "cell_type": "code",
   "execution_count": null,
   "metadata": {},
   "outputs": [],
   "source": []
  }
 ],
 "metadata": {
  "kernelspec": {
   "display_name": "Python 3",
   "language": "python",
   "name": "python3"
  },
  "language_info": {
   "codemirror_mode": {
    "name": "ipython",
    "version": 3
   },
   "file_extension": ".py",
   "mimetype": "text/x-python",
   "name": "python",
   "nbconvert_exporter": "python",
   "pygments_lexer": "ipython3",
   "version": "3.7.3"
  }
 },
 "nbformat": 4,
 "nbformat_minor": 2
}
